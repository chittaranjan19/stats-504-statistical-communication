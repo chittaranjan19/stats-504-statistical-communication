{
 "cells": [
  {
   "cell_type": "code",
   "execution_count": 43,
   "id": "165ccc6c",
   "metadata": {},
   "outputs": [
    {
     "data": {
      "text/html": [
       "<table class=\"dataframe\">\n",
       "<caption>A data.frame: 6 × 16</caption>\n",
       "<thead>\n",
       "\t<tr><th></th><th scope=col>X</th><th scope=col>previous_qualification</th><th scope=col>previous_qualification_grade_</th><th scope=col>mother_s_qualification</th><th scope=col>father_s_qualification</th><th scope=col>mother_s_occupation</th><th scope=col>father_s_occupation</th><th scope=col>admission_grade</th><th scope=col>educational_special_needs</th><th scope=col>gender</th><th scope=col>age_at_enrollment</th><th scope=col>international</th><th scope=col>unemployment_rate</th><th scope=col>inflation_rate</th><th scope=col>gdp</th><th scope=col>target</th></tr>\n",
       "\t<tr><th></th><th scope=col>&lt;int&gt;</th><th scope=col>&lt;fct&gt;</th><th scope=col>&lt;dbl&gt;</th><th scope=col>&lt;fct&gt;</th><th scope=col>&lt;fct&gt;</th><th scope=col>&lt;fct&gt;</th><th scope=col>&lt;fct&gt;</th><th scope=col>&lt;dbl&gt;</th><th scope=col>&lt;fct&gt;</th><th scope=col>&lt;fct&gt;</th><th scope=col>&lt;int&gt;</th><th scope=col>&lt;fct&gt;</th><th scope=col>&lt;dbl&gt;</th><th scope=col>&lt;dbl&gt;</th><th scope=col>&lt;dbl&gt;</th><th scope=col>&lt;fct&gt;</th></tr>\n",
       "</thead>\n",
       "<tbody>\n",
       "\t<tr><th scope=row>1</th><td>1</td><td>1 </td><td>122.0</td><td>19</td><td>12</td><td>5</td><td>9</td><td>127.3</td><td>0</td><td>1</td><td>20</td><td>0</td><td>10.8</td><td> 1.4</td><td> 1.74</td><td>Dropout </td></tr>\n",
       "\t<tr><th scope=row>2</th><td>2</td><td>1 </td><td>160.0</td><td>1 </td><td>3 </td><td>3</td><td>3</td><td>142.5</td><td>0</td><td>1</td><td>19</td><td>0</td><td>13.9</td><td>-0.3</td><td> 0.79</td><td>Graduate</td></tr>\n",
       "\t<tr><th scope=row>3</th><td>3</td><td>1 </td><td>122.0</td><td>37</td><td>37</td><td>9</td><td>9</td><td>124.8</td><td>0</td><td>1</td><td>19</td><td>0</td><td>10.8</td><td> 1.4</td><td> 1.74</td><td>Dropout </td></tr>\n",
       "\t<tr><th scope=row>4</th><td>4</td><td>1 </td><td>122.0</td><td>38</td><td>37</td><td>5</td><td>3</td><td>119.6</td><td>0</td><td>0</td><td>20</td><td>0</td><td> 9.4</td><td>-0.8</td><td>-3.12</td><td>Graduate</td></tr>\n",
       "\t<tr><th scope=row>5</th><td>5</td><td>1 </td><td>100.0</td><td>37</td><td>38</td><td>9</td><td>9</td><td>141.5</td><td>0</td><td>0</td><td>45</td><td>0</td><td>13.9</td><td>-0.3</td><td> 0.79</td><td>Graduate</td></tr>\n",
       "\t<tr><th scope=row>6</th><td>6</td><td>19</td><td>133.1</td><td>37</td><td>37</td><td>9</td><td>7</td><td>114.8</td><td>0</td><td>1</td><td>50</td><td>0</td><td>16.2</td><td> 0.3</td><td>-0.92</td><td>Graduate</td></tr>\n",
       "</tbody>\n",
       "</table>\n"
      ],
      "text/latex": [
       "A data.frame: 6 × 16\n",
       "\\begin{tabular}{r|llllllllllllllll}\n",
       "  & X & previous\\_qualification & previous\\_qualification\\_grade\\_ & mother\\_s\\_qualification & father\\_s\\_qualification & mother\\_s\\_occupation & father\\_s\\_occupation & admission\\_grade & educational\\_special\\_needs & gender & age\\_at\\_enrollment & international & unemployment\\_rate & inflation\\_rate & gdp & target\\\\\n",
       "  & <int> & <fct> & <dbl> & <fct> & <fct> & <fct> & <fct> & <dbl> & <fct> & <fct> & <int> & <fct> & <dbl> & <dbl> & <dbl> & <fct>\\\\\n",
       "\\hline\n",
       "\t1 & 1 & 1  & 122.0 & 19 & 12 & 5 & 9 & 127.3 & 0 & 1 & 20 & 0 & 10.8 &  1.4 &  1.74 & Dropout \\\\\n",
       "\t2 & 2 & 1  & 160.0 & 1  & 3  & 3 & 3 & 142.5 & 0 & 1 & 19 & 0 & 13.9 & -0.3 &  0.79 & Graduate\\\\\n",
       "\t3 & 3 & 1  & 122.0 & 37 & 37 & 9 & 9 & 124.8 & 0 & 1 & 19 & 0 & 10.8 &  1.4 &  1.74 & Dropout \\\\\n",
       "\t4 & 4 & 1  & 122.0 & 38 & 37 & 5 & 3 & 119.6 & 0 & 0 & 20 & 0 &  9.4 & -0.8 & -3.12 & Graduate\\\\\n",
       "\t5 & 5 & 1  & 100.0 & 37 & 38 & 9 & 9 & 141.5 & 0 & 0 & 45 & 0 & 13.9 & -0.3 &  0.79 & Graduate\\\\\n",
       "\t6 & 6 & 19 & 133.1 & 37 & 37 & 9 & 7 & 114.8 & 0 & 1 & 50 & 0 & 16.2 &  0.3 & -0.92 & Graduate\\\\\n",
       "\\end{tabular}\n"
      ],
      "text/markdown": [
       "\n",
       "A data.frame: 6 × 16\n",
       "\n",
       "| <!--/--> | X &lt;int&gt; | previous_qualification &lt;fct&gt; | previous_qualification_grade_ &lt;dbl&gt; | mother_s_qualification &lt;fct&gt; | father_s_qualification &lt;fct&gt; | mother_s_occupation &lt;fct&gt; | father_s_occupation &lt;fct&gt; | admission_grade &lt;dbl&gt; | educational_special_needs &lt;fct&gt; | gender &lt;fct&gt; | age_at_enrollment &lt;int&gt; | international &lt;fct&gt; | unemployment_rate &lt;dbl&gt; | inflation_rate &lt;dbl&gt; | gdp &lt;dbl&gt; | target &lt;fct&gt; |\n",
       "|---|---|---|---|---|---|---|---|---|---|---|---|---|---|---|---|---|\n",
       "| 1 | 1 | 1  | 122.0 | 19 | 12 | 5 | 9 | 127.3 | 0 | 1 | 20 | 0 | 10.8 |  1.4 |  1.74 | Dropout  |\n",
       "| 2 | 2 | 1  | 160.0 | 1  | 3  | 3 | 3 | 142.5 | 0 | 1 | 19 | 0 | 13.9 | -0.3 |  0.79 | Graduate |\n",
       "| 3 | 3 | 1  | 122.0 | 37 | 37 | 9 | 9 | 124.8 | 0 | 1 | 19 | 0 | 10.8 |  1.4 |  1.74 | Dropout  |\n",
       "| 4 | 4 | 1  | 122.0 | 38 | 37 | 5 | 3 | 119.6 | 0 | 0 | 20 | 0 |  9.4 | -0.8 | -3.12 | Graduate |\n",
       "| 5 | 5 | 1  | 100.0 | 37 | 38 | 9 | 9 | 141.5 | 0 | 0 | 45 | 0 | 13.9 | -0.3 |  0.79 | Graduate |\n",
       "| 6 | 6 | 19 | 133.1 | 37 | 37 | 9 | 7 | 114.8 | 0 | 1 | 50 | 0 | 16.2 |  0.3 | -0.92 | Graduate |\n",
       "\n"
      ],
      "text/plain": [
       "  X previous_qualification previous_qualification_grade_ mother_s_qualification\n",
       "1 1 1                      122.0                         19                    \n",
       "2 2 1                      160.0                         1                     \n",
       "3 3 1                      122.0                         37                    \n",
       "4 4 1                      122.0                         38                    \n",
       "5 5 1                      100.0                         37                    \n",
       "6 6 19                     133.1                         37                    \n",
       "  father_s_qualification mother_s_occupation father_s_occupation\n",
       "1 12                     5                   9                  \n",
       "2 3                      3                   3                  \n",
       "3 37                     9                   9                  \n",
       "4 37                     5                   3                  \n",
       "5 38                     9                   9                  \n",
       "6 37                     9                   7                  \n",
       "  admission_grade educational_special_needs gender age_at_enrollment\n",
       "1 127.3           0                         1      20               \n",
       "2 142.5           0                         1      19               \n",
       "3 124.8           0                         1      19               \n",
       "4 119.6           0                         0      20               \n",
       "5 141.5           0                         0      45               \n",
       "6 114.8           0                         1      50               \n",
       "  international unemployment_rate inflation_rate gdp   target  \n",
       "1 0             10.8               1.4            1.74 Dropout \n",
       "2 0             13.9              -0.3            0.79 Graduate\n",
       "3 0             10.8               1.4            1.74 Dropout \n",
       "4 0              9.4              -0.8           -3.12 Graduate\n",
       "5 0             13.9              -0.3            0.79 Graduate\n",
       "6 0             16.2               0.3           -0.92 Graduate"
      ]
     },
     "metadata": {},
     "output_type": "display_data"
    }
   ],
   "source": [
    "df = read.csv(\"dat.csv\")\n",
    "df[\"previous_qualification\"] = as.factor(df$previous_qualification)\n",
    "df[\"mother_s_qualification\"] = as.factor(df$mother_s_qualification)\n",
    "df[\"father_s_qualification\"] = as.factor(df$father_s_qualification)\n",
    "df[\"mother_s_occupation\"] = as.factor(df$mother_s_occupation)\n",
    "df[\"father_s_occupation\"] = as.factor(df$father_s_occupation)\n",
    "df[\"educational_special_needs\"] = as.factor(df$educational_special_needs)\n",
    "df[\"gender\"] = as.factor(df$gender)\n",
    "df[\"international\"] = as.factor(df$international)\n",
    "df[\"target\"] = as.factor(df$target)\n",
    "head(df)"
   ]
  },
  {
   "cell_type": "code",
   "execution_count": 29,
   "id": "2c827e5e",
   "metadata": {},
   "outputs": [
    {
     "name": "stderr",
     "output_type": "stream",
     "text": [
      "Installing package into ‘/Users/chittaranjan/Library/R/arm64/4.1/library’\n",
      "(as ‘lib’ is unspecified)\n",
      "\n"
     ]
    },
    {
     "name": "stdout",
     "output_type": "stream",
     "text": [
      "\n",
      "The downloaded binary packages are in\n",
      "\t/var/folders/0b/727m7dn55nxdtphddkmjzdbr0000gn/T//RtmpUO3s1u/downloaded_packages\n"
     ]
    },
    {
     "name": "stderr",
     "output_type": "stream",
     "text": [
      "Installing package into ‘/Users/chittaranjan/Library/R/arm64/4.1/library’\n",
      "(as ‘lib’ is unspecified)\n",
      "\n"
     ]
    },
    {
     "name": "stdout",
     "output_type": "stream",
     "text": [
      "\n",
      "The downloaded binary packages are in\n",
      "\t/var/folders/0b/727m7dn55nxdtphddkmjzdbr0000gn/T//RtmpUO3s1u/downloaded_packages\n"
     ]
    },
    {
     "name": "stderr",
     "output_type": "stream",
     "text": [
      "Installing package into ‘/Users/chittaranjan/Library/R/arm64/4.1/library’\n",
      "(as ‘lib’ is unspecified)\n",
      "\n"
     ]
    },
    {
     "name": "stdout",
     "output_type": "stream",
     "text": [
      "\n",
      "The downloaded binary packages are in\n",
      "\t/var/folders/0b/727m7dn55nxdtphddkmjzdbr0000gn/T//RtmpUO3s1u/downloaded_packages\n"
     ]
    },
    {
     "name": "stderr",
     "output_type": "stream",
     "text": [
      "Installing package into ‘/Users/chittaranjan/Library/R/arm64/4.1/library’\n",
      "(as ‘lib’ is unspecified)\n",
      "\n"
     ]
    },
    {
     "name": "stdout",
     "output_type": "stream",
     "text": [
      "\n",
      "The downloaded binary packages are in\n",
      "\t/var/folders/0b/727m7dn55nxdtphddkmjzdbr0000gn/T//RtmpUO3s1u/downloaded_packages\n"
     ]
    }
   ],
   "source": [
    "install.packages(\"twang\")\n",
    "install.packages(\"cobalt\")\n",
    "install.packages(\"twangContinuous\")\n",
    "install.packages(\"svyGAM\")\n",
    "install.packages(\"survey\")"
   ]
  },
  {
   "cell_type": "code",
   "execution_count": 16,
   "id": "f635aff1",
   "metadata": {},
   "outputs": [],
   "source": [
    "library(twangContinuous)\n",
    "library(cobalt)\n",
    "library(survey)"
   ]
  },
  {
   "cell_type": "code",
   "execution_count": 18,
   "id": "1ded95a7",
   "metadata": {},
   "outputs": [
    {
     "data": {
      "text/html": [
       "<style>\n",
       ".list-inline {list-style: none; margin:0; padding: 0}\n",
       ".list-inline>li {display: inline-block}\n",
       ".list-inline>li:not(:last-child)::after {content: \"\\00b7\"; padding: 0 .5ex}\n",
       "</style>\n",
       "<ol class=list-inline><li>'X'</li><li>'previous_qualification'</li><li>'previous_qualification_grade_'</li><li>'mother_s_qualification'</li><li>'father_s_qualification'</li><li>'mother_s_occupation'</li><li>'father_s_occupation'</li><li>'admission_grade'</li><li>'educational_special_needs'</li><li>'gender'</li><li>'age_at_enrollment'</li><li>'international'</li><li>'unemployment_rate'</li><li>'inflation_rate'</li><li>'gdp'</li><li>'target'</li></ol>\n"
      ],
      "text/latex": [
       "\\begin{enumerate*}\n",
       "\\item 'X'\n",
       "\\item 'previous\\_qualification'\n",
       "\\item 'previous\\_qualification\\_grade\\_'\n",
       "\\item 'mother\\_s\\_qualification'\n",
       "\\item 'father\\_s\\_qualification'\n",
       "\\item 'mother\\_s\\_occupation'\n",
       "\\item 'father\\_s\\_occupation'\n",
       "\\item 'admission\\_grade'\n",
       "\\item 'educational\\_special\\_needs'\n",
       "\\item 'gender'\n",
       "\\item 'age\\_at\\_enrollment'\n",
       "\\item 'international'\n",
       "\\item 'unemployment\\_rate'\n",
       "\\item 'inflation\\_rate'\n",
       "\\item 'gdp'\n",
       "\\item 'target'\n",
       "\\end{enumerate*}\n"
      ],
      "text/markdown": [
       "1. 'X'\n",
       "2. 'previous_qualification'\n",
       "3. 'previous_qualification_grade_'\n",
       "4. 'mother_s_qualification'\n",
       "5. 'father_s_qualification'\n",
       "6. 'mother_s_occupation'\n",
       "7. 'father_s_occupation'\n",
       "8. 'admission_grade'\n",
       "9. 'educational_special_needs'\n",
       "10. 'gender'\n",
       "11. 'age_at_enrollment'\n",
       "12. 'international'\n",
       "13. 'unemployment_rate'\n",
       "14. 'inflation_rate'\n",
       "15. 'gdp'\n",
       "16. 'target'\n",
       "\n",
       "\n"
      ],
      "text/plain": [
       " [1] \"X\"                             \"previous_qualification\"       \n",
       " [3] \"previous_qualification_grade_\" \"mother_s_qualification\"       \n",
       " [5] \"father_s_qualification\"        \"mother_s_occupation\"          \n",
       " [7] \"father_s_occupation\"           \"admission_grade\"              \n",
       " [9] \"educational_special_needs\"     \"gender\"                       \n",
       "[11] \"age_at_enrollment\"             \"international\"                \n",
       "[13] \"unemployment_rate\"             \"inflation_rate\"               \n",
       "[15] \"gdp\"                           \"target\"                       "
      ]
     },
     "metadata": {},
     "output_type": "display_data"
    }
   ],
   "source": [
    "colnames(df)"
   ]
  },
  {
   "cell_type": "markdown",
   "id": "ea90cfa5",
   "metadata": {},
   "source": [
    "ps.cont is a way of getting propensity scores for a continuous treatment variables (admission_grade in our case). Propensity scores are a probability of how likely a particular observation is to have that value of the treatment (check this definition)"
   ]
  },
  {
   "cell_type": "code",
   "execution_count": 19,
   "id": "2fb95263",
   "metadata": {},
   "outputs": [
    {
     "data": {
      "text/html": [
       "<table class=\"dataframe\">\n",
       "<caption>A matrix: 2 × 6 of type dbl</caption>\n",
       "<thead>\n",
       "\t<tr><th></th><th scope=col>n</th><th scope=col>ess</th><th scope=col>max.wcor</th><th scope=col>mean.wcor</th><th scope=col>rms.wcor</th><th scope=col>iter</th></tr>\n",
       "</thead>\n",
       "<tbody>\n",
       "\t<tr><th scope=row>unw</th><td>4424</td><td>4424.000</td><td>0.5804442</td><td>0.02521831</td><td>0.05633220</td><td>NA</td></tr>\n",
       "\t<tr><th scope=row>AAC</th><td>4424</td><td>4068.986</td><td>0.3532101</td><td>0.02371980</td><td>0.04287533</td><td>33</td></tr>\n",
       "</tbody>\n",
       "</table>\n"
      ],
      "text/latex": [
       "A matrix: 2 × 6 of type dbl\n",
       "\\begin{tabular}{r|llllll}\n",
       "  & n & ess & max.wcor & mean.wcor & rms.wcor & iter\\\\\n",
       "\\hline\n",
       "\tunw & 4424 & 4424.000 & 0.5804442 & 0.02521831 & 0.05633220 & NA\\\\\n",
       "\tAAC & 4424 & 4068.986 & 0.3532101 & 0.02371980 & 0.04287533 & 33\\\\\n",
       "\\end{tabular}\n"
      ],
      "text/markdown": [
       "\n",
       "A matrix: 2 × 6 of type dbl\n",
       "\n",
       "| <!--/--> | n | ess | max.wcor | mean.wcor | rms.wcor | iter |\n",
       "|---|---|---|---|---|---|---|\n",
       "| unw | 4424 | 4424.000 | 0.5804442 | 0.02521831 | 0.05633220 | NA |\n",
       "| AAC | 4424 | 4068.986 | 0.3532101 | 0.02371980 | 0.04287533 | 33 |\n",
       "\n"
      ],
      "text/plain": [
       "    n    ess      max.wcor  mean.wcor  rms.wcor   iter\n",
       "unw 4424 4424.000 0.5804442 0.02521831 0.05633220 NA  \n",
       "AAC 4424 4068.986 0.3532101 0.02371980 0.04287533 33  "
      ]
     },
     "metadata": {},
     "output_type": "display_data"
    }
   ],
   "source": [
    "psc.out <- ps.cont(admission_grade ~ previous_qualification +\n",
    "                   previous_qualification_grade_ + \n",
    "                   mother_s_qualification + \n",
    "                   father_s_qualification +\n",
    "                   mother_s_occupation +\n",
    "                   father_s_occupation +\n",
    "                   educational_special_needs +\n",
    "                   gender +\n",
    "                   age_at_enrollment +\n",
    "                   international +\n",
    "                   unemployment_rate +\n",
    "                   inflation_rate +\n",
    "                   gdp\n",
    "                   , data = df)\n",
    "summary(psc.out)"
   ]
  },
  {
   "cell_type": "code",
   "execution_count": 21,
   "id": "f952e568",
   "metadata": {
    "scrolled": true
   },
   "outputs": [
    {
     "data": {
      "text/html": [
       "<style>\n",
       ".list-inline {list-style: none; margin:0; padding: 0}\n",
       ".list-inline>li {display: inline-block}\n",
       ".list-inline>li:not(:last-child)::after {content: \"\\00b7\"; padding: 0 .5ex}\n",
       "</style>\n",
       "<ol class=list-inline><li>127.3</li><li>142.5</li><li>124.8</li><li>119.6</li><li>141.5</li><li>114.8</li></ol>\n"
      ],
      "text/latex": [
       "\\begin{enumerate*}\n",
       "\\item 127.3\n",
       "\\item 142.5\n",
       "\\item 124.8\n",
       "\\item 119.6\n",
       "\\item 141.5\n",
       "\\item 114.8\n",
       "\\end{enumerate*}\n"
      ],
      "text/markdown": [
       "1. 127.3\n",
       "2. 142.5\n",
       "3. 124.8\n",
       "4. 119.6\n",
       "5. 141.5\n",
       "6. 114.8\n",
       "\n",
       "\n"
      ],
      "text/plain": [
       "[1] 127.3 142.5 124.8 119.6 141.5 114.8"
      ]
     },
     "metadata": {},
     "output_type": "display_data"
    }
   ],
   "source": [
    "head(df$admission_grade)"
   ]
  },
  {
   "cell_type": "markdown",
   "id": "a71b5a94",
   "metadata": {},
   "source": [
    "`w` are the weights, and there is one for each observation of the data. We use this to perform the survey weighted glm."
   ]
  },
  {
   "cell_type": "code",
   "execution_count": 35,
   "id": "627ff14b",
   "metadata": {
    "scrolled": true
   },
   "outputs": [
    {
     "data": {
      "text/html": [
       "<style>\n",
       ".dl-inline {width: auto; margin:0; padding: 0}\n",
       ".dl-inline>dt, .dl-inline>dd {float: none; width: auto; display: inline-block}\n",
       ".dl-inline>dt::after {content: \":\\0020\"; padding-right: .5ex}\n",
       ".dl-inline>dt:not(:first-of-type) {padding-left: .5ex}\n",
       "</style><dl class=dl-inline><dt>1</dt><dd>0.922976486328294</dd><dt>2</dt><dd>0.692224973023682</dd><dt>3</dt><dd>0.904805212166419</dd><dt>4</dt><dd>0.88461762176814</dd><dt>5</dt><dd>1.32631570962437</dd><dt>6</dt><dd>0.923041112828593</dd></dl>\n"
      ],
      "text/latex": [
       "\\begin{description*}\n",
       "\\item[1] 0.922976486328294\n",
       "\\item[2] 0.692224973023682\n",
       "\\item[3] 0.904805212166419\n",
       "\\item[4] 0.88461762176814\n",
       "\\item[5] 1.32631570962437\n",
       "\\item[6] 0.923041112828593\n",
       "\\end{description*}\n"
      ],
      "text/markdown": [
       "1\n",
       ":   0.9229764863282942\n",
       ":   0.6922249730236823\n",
       ":   0.9048052121664194\n",
       ":   0.884617621768145\n",
       ":   1.326315709624376\n",
       ":   0.923041112828593\n",
       "\n"
      ],
      "text/plain": [
       "        1         2         3         4         5         6 \n",
       "0.9229765 0.6922250 0.9048052 0.8846176 1.3263157 0.9230411 "
      ]
     },
     "metadata": {},
     "output_type": "display_data"
    }
   ],
   "source": [
    "head(psc.out$w)"
   ]
  },
  {
   "cell_type": "code",
   "execution_count": 45,
   "id": "d6095ddb",
   "metadata": {},
   "outputs": [],
   "source": [
    "library(svyVGAM)\n",
    "design <- svydesign(ids=~1, weights=psc.out$w, data=df)\n",
    "mmodel <- svy_vglm(target ~ admission_grade, family=multinomial, design=design)"
   ]
  },
  {
   "cell_type": "code",
   "execution_count": 46,
   "id": "94b8f78a",
   "metadata": {},
   "outputs": [
    {
     "data": {
      "text/plain": [
       "svy_vglm.survey.design(target ~ admission_grade, family = multinomial, \n",
       "    design = design)\n",
       "Independent Sampling design (with replacement)\n",
       "svydesign(ids = ~1, weights = psc.out$w, data = df)\n",
       "                        Coef         SE       z         p\n",
       "(Intercept):1      1.8580940  0.3609064  5.1484 2.627e-07\n",
       "(Intercept):2      1.0059447  0.3986204  2.5236   0.01162\n",
       "admission_grade:1 -0.0178421  0.0028650 -6.2276 4.735e-10\n",
       "admission_grade:2 -0.0158937  0.0031429 -5.0570 4.258e-07"
      ]
     },
     "metadata": {},
     "output_type": "display_data"
    }
   ],
   "source": [
    "summary(mmodel)"
   ]
  },
  {
   "cell_type": "markdown",
   "id": "15a80b71",
   "metadata": {},
   "source": [
    "Interpretation: With 1 point increase in admission_grade, chance of dropout (`admission_grade:1`) goes down by 1.7% and chance of still being enrolled (failed to graduate in stipulated time) goes down by 1.5%"
   ]
  },
  {
   "cell_type": "code",
   "execution_count": null,
   "id": "07141c43",
   "metadata": {},
   "outputs": [],
   "source": []
  }
 ],
 "metadata": {
  "kernelspec": {
   "display_name": "R",
   "language": "R",
   "name": "ir"
  },
  "language_info": {
   "codemirror_mode": "r",
   "file_extension": ".r",
   "mimetype": "text/x-r-source",
   "name": "R",
   "pygments_lexer": "r",
   "version": "4.1.1"
  }
 },
 "nbformat": 4,
 "nbformat_minor": 5
}
