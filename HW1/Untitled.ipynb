{
 "cells": [
  {
   "cell_type": "code",
   "execution_count": 1,
   "id": "3d2bbeef",
   "metadata": {},
   "outputs": [],
   "source": [
    "import pandas as pd\n",
    "import matplotlib.pyplot as plt\n",
    "import numpy as np"
   ]
  },
  {
   "cell_type": "code",
   "execution_count": 2,
   "id": "ea4da510",
   "metadata": {},
   "outputs": [
    {
     "data": {
      "text/html": [
       "<div>\n",
       "<style scoped>\n",
       "    .dataframe tbody tr th:only-of-type {\n",
       "        vertical-align: middle;\n",
       "    }\n",
       "\n",
       "    .dataframe tbody tr th {\n",
       "        vertical-align: top;\n",
       "    }\n",
       "\n",
       "    .dataframe thead th {\n",
       "        text-align: right;\n",
       "    }\n",
       "</style>\n",
       "<table border=\"1\" class=\"dataframe\">\n",
       "  <thead>\n",
       "    <tr style=\"text-align: right;\">\n",
       "      <th></th>\n",
       "      <th>sale</th>\n",
       "      <th>price</th>\n",
       "      <th>ghz</th>\n",
       "      <th>ram</th>\n",
       "      <th>hd</th>\n",
       "      <th>ssd</th>\n",
       "      <th>BIN</th>\n",
       "    </tr>\n",
       "  </thead>\n",
       "  <tbody>\n",
       "    <tr>\n",
       "      <th>1</th>\n",
       "      <td>1</td>\n",
       "      <td>404.99</td>\n",
       "      <td>2.7</td>\n",
       "      <td>8.0</td>\n",
       "      <td>NaN</td>\n",
       "      <td>1</td>\n",
       "      <td>0</td>\n",
       "    </tr>\n",
       "    <tr>\n",
       "      <th>2</th>\n",
       "      <td>1</td>\n",
       "      <td>355.00</td>\n",
       "      <td>2.5</td>\n",
       "      <td>8.0</td>\n",
       "      <td>128.0</td>\n",
       "      <td>1</td>\n",
       "      <td>0</td>\n",
       "    </tr>\n",
       "    <tr>\n",
       "      <th>3</th>\n",
       "      <td>1</td>\n",
       "      <td>449.99</td>\n",
       "      <td>2.6</td>\n",
       "      <td>4.0</td>\n",
       "      <td>128.0</td>\n",
       "      <td>0</td>\n",
       "      <td>1</td>\n",
       "    </tr>\n",
       "    <tr>\n",
       "      <th>4</th>\n",
       "      <td>0</td>\n",
       "      <td>499.99</td>\n",
       "      <td>2.5</td>\n",
       "      <td>4.0</td>\n",
       "      <td>320.0</td>\n",
       "      <td>0</td>\n",
       "      <td>1</td>\n",
       "    </tr>\n",
       "    <tr>\n",
       "      <th>5</th>\n",
       "      <td>0</td>\n",
       "      <td>199.99</td>\n",
       "      <td>NaN</td>\n",
       "      <td>NaN</td>\n",
       "      <td>NaN</td>\n",
       "      <td>0</td>\n",
       "      <td>1</td>\n",
       "    </tr>\n",
       "    <tr>\n",
       "      <th>...</th>\n",
       "      <td>...</td>\n",
       "      <td>...</td>\n",
       "      <td>...</td>\n",
       "      <td>...</td>\n",
       "      <td>...</td>\n",
       "      <td>...</td>\n",
       "      <td>...</td>\n",
       "    </tr>\n",
       "    <tr>\n",
       "      <th>216</th>\n",
       "      <td>1</td>\n",
       "      <td>480.00</td>\n",
       "      <td>NaN</td>\n",
       "      <td>6.0</td>\n",
       "      <td>128.0</td>\n",
       "      <td>1</td>\n",
       "      <td>1</td>\n",
       "    </tr>\n",
       "    <tr>\n",
       "      <th>217</th>\n",
       "      <td>1</td>\n",
       "      <td>452.00</td>\n",
       "      <td>2.6</td>\n",
       "      <td>8.0</td>\n",
       "      <td>240.0</td>\n",
       "      <td>1</td>\n",
       "      <td>0</td>\n",
       "    </tr>\n",
       "    <tr>\n",
       "      <th>218</th>\n",
       "      <td>1</td>\n",
       "      <td>358.00</td>\n",
       "      <td>2.6</td>\n",
       "      <td>4.0</td>\n",
       "      <td>128.0</td>\n",
       "      <td>0</td>\n",
       "      <td>0</td>\n",
       "    </tr>\n",
       "    <tr>\n",
       "      <th>219</th>\n",
       "      <td>1</td>\n",
       "      <td>450.00</td>\n",
       "      <td>NaN</td>\n",
       "      <td>4.0</td>\n",
       "      <td>128.0</td>\n",
       "      <td>1</td>\n",
       "      <td>0</td>\n",
       "    </tr>\n",
       "    <tr>\n",
       "      <th>220</th>\n",
       "      <td>1</td>\n",
       "      <td>299.95</td>\n",
       "      <td>2.5</td>\n",
       "      <td>4.0</td>\n",
       "      <td>320.0</td>\n",
       "      <td>0</td>\n",
       "      <td>1</td>\n",
       "    </tr>\n",
       "  </tbody>\n",
       "</table>\n",
       "<p>220 rows × 7 columns</p>\n",
       "</div>"
      ],
      "text/plain": [
       "     sale   price  ghz  ram     hd  ssd  BIN\n",
       "1       1  404.99  2.7  8.0    NaN    1    0\n",
       "2       1  355.00  2.5  8.0  128.0    1    0\n",
       "3       1  449.99  2.6  4.0  128.0    0    1\n",
       "4       0  499.99  2.5  4.0  320.0    0    1\n",
       "5       0  199.99  NaN  NaN    NaN    0    1\n",
       "..    ...     ...  ...  ...    ...  ...  ...\n",
       "216     1  480.00  NaN  6.0  128.0    1    1\n",
       "217     1  452.00  2.6  8.0  240.0    1    0\n",
       "218     1  358.00  2.6  4.0  128.0    0    0\n",
       "219     1  450.00  NaN  4.0  128.0    1    0\n",
       "220     1  299.95  2.5  4.0  320.0    0    1\n",
       "\n",
       "[220 rows x 7 columns]"
      ]
     },
     "execution_count": 2,
     "metadata": {},
     "output_type": "execute_result"
    }
   ],
   "source": [
    "data = pd.read_csv(\"laptopData.csv\", index_col=0)\n",
    "data[\"ssd\"] = data[\"ssd\"].map({\"SSD\": 1, \"No\": 0})\n",
    "data[\"BIN\"] = data[\"BIN\"].map({False: 0, True: 1})\n",
    "data[\"sale\"] = data[\"sale\"].map({\"SOLD\": 1, \"NOT SOLD\": 0})\n",
    "# data[\"ghz\"] = data[\"ghz\"].astype(\"category\")\n",
    "# data[\"ram\"] = data[\"ram\"].astype(\"category\")\n",
    "# data[\"hd\"] = data[\"hd\"].astype(\"category\")\n",
    "data"
   ]
  },
  {
   "cell_type": "code",
   "execution_count": 59,
   "id": "ae34ebba",
   "metadata": {},
   "outputs": [
    {
     "data": {
      "text/plain": [
       "sale      0\n",
       "price     0\n",
       "ghz      49\n",
       "ram      43\n",
       "hd       70\n",
       "ssd       0\n",
       "BIN       0\n",
       "dtype: int64"
      ]
     },
     "execution_count": 59,
     "metadata": {},
     "output_type": "execute_result"
    }
   ],
   "source": [
    "data.isna().sum()"
   ]
  },
  {
   "cell_type": "code",
   "execution_count": 68,
   "id": "2dff1c1e",
   "metadata": {},
   "outputs": [
    {
     "data": {
      "text/plain": [
       "0    128.0\n",
       "dtype: float64"
      ]
     },
     "execution_count": 68,
     "metadata": {},
     "output_type": "execute_result"
    }
   ],
   "source": [
    "data[data[\"ssd\"] == 1][\"hd\"].mode()"
   ]
  },
  {
   "cell_type": "code",
   "execution_count": 69,
   "id": "41943ec0",
   "metadata": {},
   "outputs": [
    {
     "data": {
      "text/plain": [
       "0    320.0\n",
       "dtype: float64"
      ]
     },
     "execution_count": 69,
     "metadata": {},
     "output_type": "execute_result"
    }
   ],
   "source": [
    "data[data[\"ssd\"] == 0][\"hd\"].mode()"
   ]
  },
  {
   "cell_type": "code",
   "execution_count": 73,
   "id": "d28d5961",
   "metadata": {},
   "outputs": [
    {
     "data": {
      "text/plain": [
       "sale      0\n",
       "price     0\n",
       "ghz      49\n",
       "ram      43\n",
       "hd        0\n",
       "ssd       0\n",
       "BIN       0\n",
       "dtype: int64"
      ]
     },
     "execution_count": 73,
     "metadata": {},
     "output_type": "execute_result"
    }
   ],
   "source": [
    "data[\"hd\"].fillna(data[\"ssd\"].map({1: 128, 0: 320}), inplace=True)\n",
    "data.isna().sum()"
   ]
  },
  {
   "cell_type": "code",
   "execution_count": 75,
   "id": "80d2fb72",
   "metadata": {},
   "outputs": [
    {
     "data": {
      "text/plain": [
       "ghz\n",
       "2.5    4.0\n",
       "2.6    4.0\n",
       "2.7    8.0\n",
       "2.8    8.0\n",
       "3.2    8.0\n",
       "Name: ram, dtype: float64"
      ]
     },
     "execution_count": 75,
     "metadata": {},
     "output_type": "execute_result"
    }
   ],
   "source": [
    "data.groupby(\"ghz\")[\"ram\"].agg(pd.Series.mode)"
   ]
  },
  {
   "cell_type": "code",
   "execution_count": 76,
   "id": "8405011a",
   "metadata": {},
   "outputs": [
    {
     "data": {
      "text/plain": [
       "ram\n",
       "2.0     2.5\n",
       "3.0     2.5\n",
       "4.0     2.5\n",
       "6.0     2.6\n",
       "8.0     2.5\n",
       "12.0     []\n",
       "16.0     []\n",
       "Name: ghz, dtype: object"
      ]
     },
     "execution_count": 76,
     "metadata": {},
     "output_type": "execute_result"
    }
   ],
   "source": [
    "data.groupby(\"ram\")[\"ghz\"].agg(pd.Series.mode)"
   ]
  },
  {
   "cell_type": "code",
   "execution_count": 93,
   "id": "ac06afd0",
   "metadata": {},
   "outputs": [
    {
     "data": {
      "text/plain": [
       "sale     0\n",
       "price    0\n",
       "ghz      0\n",
       "ram      0\n",
       "hd       0\n",
       "ssd      0\n",
       "BIN      0\n",
       "dtype: int64"
      ]
     },
     "execution_count": 93,
     "metadata": {},
     "output_type": "execute_result"
    }
   ],
   "source": [
    "imputed_data_ram = data[\"ram\"].fillna(data[\"ghz\"].map({2.5: 4, 2.6: 4, 2.7: 8, 2.8: 8, 3.2: 8, pd.NA: 4}))\n",
    "imputed_data_ghz = data[\"ghz\"].fillna(2.5)\n",
    "data[\"ram\"] = imputed_data_ram\n",
    "data[\"ghz\"] = imputed_data_ghz\n",
    "data.isna().sum()"
   ]
  },
  {
   "cell_type": "code",
   "execution_count": 129,
   "id": "209756c6",
   "metadata": {},
   "outputs": [
    {
     "data": {
      "text/html": [
       "<style  type=\"text/css\" >\n",
       "#T_039b2_row0_col0,#T_039b2_row0_col1,#T_039b2_row0_col2,#T_039b2_row0_col3,#T_039b2_row0_col4,#T_039b2_row0_col5,#T_039b2_row0_col6,#T_039b2_row1_col1,#T_039b2_row1_col2,#T_039b2_row1_col3,#T_039b2_row1_col4,#T_039b2_row1_col5,#T_039b2_row1_col6,#T_039b2_row2_col2,#T_039b2_row2_col3,#T_039b2_row2_col4,#T_039b2_row2_col5,#T_039b2_row2_col6,#T_039b2_row3_col3,#T_039b2_row3_col4,#T_039b2_row3_col5,#T_039b2_row3_col6,#T_039b2_row4_col4,#T_039b2_row4_col5,#T_039b2_row4_col6,#T_039b2_row5_col5,#T_039b2_row5_col6,#T_039b2_row6_col6{\n",
       "            background-color:  #000000;\n",
       "            color:  #f1f1f1;\n",
       "            background-color:  #f1f1f1;\n",
       "        }#T_039b2_row1_col0{\n",
       "            background-color:  #d8dce2;\n",
       "            color:  #000000;\n",
       "        }#T_039b2_row2_col0{\n",
       "            background-color:  #e2dad5;\n",
       "            color:  #000000;\n",
       "        }#T_039b2_row2_col1{\n",
       "            background-color:  #f1cdba;\n",
       "            color:  #000000;\n",
       "        }#T_039b2_row3_col0{\n",
       "            background-color:  #e1dad6;\n",
       "            color:  #000000;\n",
       "        }#T_039b2_row3_col1,#T_039b2_row3_col2{\n",
       "            background-color:  #f5c1a9;\n",
       "            color:  #000000;\n",
       "        }#T_039b2_row4_col0{\n",
       "            background-color:  #ccd9ed;\n",
       "            color:  #000000;\n",
       "        }#T_039b2_row4_col1{\n",
       "            background-color:  #b1cbfc;\n",
       "            color:  #000000;\n",
       "        }#T_039b2_row4_col2{\n",
       "            background-color:  #c9d7f0;\n",
       "            color:  #000000;\n",
       "        }#T_039b2_row4_col3{\n",
       "            background-color:  #c3d5f4;\n",
       "            color:  #000000;\n",
       "        }#T_039b2_row5_col0,#T_039b2_row6_col1{\n",
       "            background-color:  #f0cdbb;\n",
       "            color:  #000000;\n",
       "        }#T_039b2_row5_col1{\n",
       "            background-color:  #f6a586;\n",
       "            color:  #000000;\n",
       "        }#T_039b2_row5_col2{\n",
       "            background-color:  #efcfbf;\n",
       "            color:  #000000;\n",
       "        }#T_039b2_row5_col3{\n",
       "            background-color:  #f7b599;\n",
       "            color:  #000000;\n",
       "        }#T_039b2_row5_col4{\n",
       "            background-color:  #7093f3;\n",
       "            color:  #000000;\n",
       "        }#T_039b2_row6_col0{\n",
       "            background-color:  #bbd1f8;\n",
       "            color:  #000000;\n",
       "        }#T_039b2_row6_col2{\n",
       "            background-color:  #dcdddd;\n",
       "            color:  #000000;\n",
       "        }#T_039b2_row6_col3,#T_039b2_row6_col4{\n",
       "            background-color:  #d2dbe8;\n",
       "            color:  #000000;\n",
       "        }#T_039b2_row6_col5{\n",
       "            background-color:  #d9dce1;\n",
       "            color:  #000000;\n",
       "        }</style><table id=\"T_039b2_\" ><thead>    <tr>        <th class=\"blank level0\" ></th>        <th class=\"col_heading level0 col0\" >sale</th>        <th class=\"col_heading level0 col1\" >price</th>        <th class=\"col_heading level0 col2\" >ghz</th>        <th class=\"col_heading level0 col3\" >ram</th>        <th class=\"col_heading level0 col4\" >hd</th>        <th class=\"col_heading level0 col5\" >ssd</th>        <th class=\"col_heading level0 col6\" >BIN</th>    </tr></thead><tbody>\n",
       "                <tr>\n",
       "                        <th id=\"T_039b2_level0_row0\" class=\"row_heading level0 row0\" >sale</th>\n",
       "                        <td id=\"T_039b2_row0_col0\" class=\"data row0 col0\" >nan</td>\n",
       "                        <td id=\"T_039b2_row0_col1\" class=\"data row0 col1\" >nan</td>\n",
       "                        <td id=\"T_039b2_row0_col2\" class=\"data row0 col2\" >nan</td>\n",
       "                        <td id=\"T_039b2_row0_col3\" class=\"data row0 col3\" >nan</td>\n",
       "                        <td id=\"T_039b2_row0_col4\" class=\"data row0 col4\" >nan</td>\n",
       "                        <td id=\"T_039b2_row0_col5\" class=\"data row0 col5\" >nan</td>\n",
       "                        <td id=\"T_039b2_row0_col6\" class=\"data row0 col6\" >nan</td>\n",
       "            </tr>\n",
       "            <tr>\n",
       "                        <th id=\"T_039b2_level0_row1\" class=\"row_heading level0 row1\" >price</th>\n",
       "                        <td id=\"T_039b2_row1_col0\" class=\"data row1 col0\" >-0.03</td>\n",
       "                        <td id=\"T_039b2_row1_col1\" class=\"data row1 col1\" >nan</td>\n",
       "                        <td id=\"T_039b2_row1_col2\" class=\"data row1 col2\" >nan</td>\n",
       "                        <td id=\"T_039b2_row1_col3\" class=\"data row1 col3\" >nan</td>\n",
       "                        <td id=\"T_039b2_row1_col4\" class=\"data row1 col4\" >nan</td>\n",
       "                        <td id=\"T_039b2_row1_col5\" class=\"data row1 col5\" >nan</td>\n",
       "                        <td id=\"T_039b2_row1_col6\" class=\"data row1 col6\" >nan</td>\n",
       "            </tr>\n",
       "            <tr>\n",
       "                        <th id=\"T_039b2_level0_row2\" class=\"row_heading level0 row2\" >ghz</th>\n",
       "                        <td id=\"T_039b2_row2_col0\" class=\"data row2 col0\" >0.04</td>\n",
       "                        <td id=\"T_039b2_row2_col1\" class=\"data row2 col1\" >0.18</td>\n",
       "                        <td id=\"T_039b2_row2_col2\" class=\"data row2 col2\" >nan</td>\n",
       "                        <td id=\"T_039b2_row2_col3\" class=\"data row2 col3\" >nan</td>\n",
       "                        <td id=\"T_039b2_row2_col4\" class=\"data row2 col4\" >nan</td>\n",
       "                        <td id=\"T_039b2_row2_col5\" class=\"data row2 col5\" >nan</td>\n",
       "                        <td id=\"T_039b2_row2_col6\" class=\"data row2 col6\" >nan</td>\n",
       "            </tr>\n",
       "            <tr>\n",
       "                        <th id=\"T_039b2_level0_row3\" class=\"row_heading level0 row3\" >ram</th>\n",
       "                        <td id=\"T_039b2_row3_col0\" class=\"data row3 col0\" >0.04</td>\n",
       "                        <td id=\"T_039b2_row3_col1\" class=\"data row3 col1\" >0.27</td>\n",
       "                        <td id=\"T_039b2_row3_col2\" class=\"data row3 col2\" >0.27</td>\n",
       "                        <td id=\"T_039b2_row3_col3\" class=\"data row3 col3\" >nan</td>\n",
       "                        <td id=\"T_039b2_row3_col4\" class=\"data row3 col4\" >nan</td>\n",
       "                        <td id=\"T_039b2_row3_col5\" class=\"data row3 col5\" >nan</td>\n",
       "                        <td id=\"T_039b2_row3_col6\" class=\"data row3 col6\" >nan</td>\n",
       "            </tr>\n",
       "            <tr>\n",
       "                        <th id=\"T_039b2_level0_row4\" class=\"row_heading level0 row4\" >hd</th>\n",
       "                        <td id=\"T_039b2_row4_col0\" class=\"data row4 col0\" >-0.12</td>\n",
       "                        <td id=\"T_039b2_row4_col1\" class=\"data row4 col1\" >-0.29</td>\n",
       "                        <td id=\"T_039b2_row4_col2\" class=\"data row4 col2\" >-0.15</td>\n",
       "                        <td id=\"T_039b2_row4_col3\" class=\"data row4 col3\" >-0.19</td>\n",
       "                        <td id=\"T_039b2_row4_col4\" class=\"data row4 col4\" >nan</td>\n",
       "                        <td id=\"T_039b2_row4_col5\" class=\"data row4 col5\" >nan</td>\n",
       "                        <td id=\"T_039b2_row4_col6\" class=\"data row4 col6\" >nan</td>\n",
       "            </tr>\n",
       "            <tr>\n",
       "                        <th id=\"T_039b2_level0_row5\" class=\"row_heading level0 row5\" >ssd</th>\n",
       "                        <td id=\"T_039b2_row5_col0\" class=\"data row5 col0\" >0.18</td>\n",
       "                        <td id=\"T_039b2_row5_col1\" class=\"data row5 col1\" >0.44</td>\n",
       "                        <td id=\"T_039b2_row5_col2\" class=\"data row5 col2\" >0.16</td>\n",
       "                        <td id=\"T_039b2_row5_col3\" class=\"data row5 col3\" >0.34</td>\n",
       "                        <td id=\"T_039b2_row5_col4\" class=\"data row5 col4\" >-0.66</td>\n",
       "                        <td id=\"T_039b2_row5_col5\" class=\"data row5 col5\" >nan</td>\n",
       "                        <td id=\"T_039b2_row5_col6\" class=\"data row5 col6\" >nan</td>\n",
       "            </tr>\n",
       "            <tr>\n",
       "                        <th id=\"T_039b2_level0_row6\" class=\"row_heading level0 row6\" >BIN</th>\n",
       "                        <td id=\"T_039b2_row6_col0\" class=\"data row6 col0\" >-0.23</td>\n",
       "                        <td id=\"T_039b2_row6_col1\" class=\"data row6 col1\" >0.17</td>\n",
       "                        <td id=\"T_039b2_row6_col2\" class=\"data row6 col2\" >-0.01</td>\n",
       "                        <td id=\"T_039b2_row6_col3\" class=\"data row6 col3\" >-0.08</td>\n",
       "                        <td id=\"T_039b2_row6_col4\" class=\"data row6 col4\" >-0.08</td>\n",
       "                        <td id=\"T_039b2_row6_col5\" class=\"data row6 col5\" >-0.02</td>\n",
       "                        <td id=\"T_039b2_row6_col6\" class=\"data row6 col6\" >nan</td>\n",
       "            </tr>\n",
       "    </tbody></table>"
      ],
      "text/plain": [
       "<pandas.io.formats.style.Styler at 0x7facb9eaf850>"
      ]
     },
     "execution_count": 129,
     "metadata": {},
     "output_type": "execute_result"
    }
   ],
   "source": [
    "# cor = data.corr().applymap('{:,.2f}'.format).applymap(float)\n",
    "corr = data.corr()#.style.background_gradient(cmap='coolwarm').set_precision(2)\n",
    "# cor.columns = [\"Sold\", \"Sale/Listing Price\", \"GHz\", \"RAM\", \"Harddisk Space\", \"SSD\", \"Buy-It-Now\"]\n",
    "# cor.index = cor.columns\n",
    "mask = np.zeros_like(corr, dtype=bool)\n",
    "mask[np.triu_indices_from(mask)] = True\n",
    "corr[mask] = np.nan\n",
    "(corr\n",
    " .style\n",
    " .background_gradient(cmap='coolwarm', axis=None, vmin=-1, vmax=1)\n",
    " .highlight_null(null_color='#f1f1f1')  # Color NaNs grey\n",
    " .set_precision(2))"
   ]
  },
  {
   "cell_type": "code",
   "execution_count": 91,
   "id": "abbeacbc",
   "metadata": {},
   "outputs": [
    {
     "data": {
      "text/plain": [
       "4.0     106\n",
       "8.0      72\n",
       "6.0      16\n",
       "3.0       3\n",
       "2.0       2\n",
       "16.0      1\n",
       "12.0      1\n",
       "Name: ram, dtype: int64"
      ]
     },
     "execution_count": 91,
     "metadata": {},
     "output_type": "execute_result"
    }
   ],
   "source": [
    "data[\"ram\"].value_counts()"
   ]
  },
  {
   "cell_type": "code",
   "execution_count": 25,
   "id": "1658e6b4",
   "metadata": {},
   "outputs": [
    {
     "data": {
      "text/plain": [
       "49"
      ]
     },
     "execution_count": 25,
     "metadata": {},
     "output_type": "execute_result"
    }
   ],
   "source": [
    "data[\"ghz\"].isna().sum()"
   ]
  },
  {
   "cell_type": "code",
   "execution_count": 26,
   "id": "e20a9782",
   "metadata": {},
   "outputs": [
    {
     "data": {
      "text/plain": [
       "43"
      ]
     },
     "execution_count": 26,
     "metadata": {},
     "output_type": "execute_result"
    }
   ],
   "source": [
    "data[\"ram\"].isna().sum()"
   ]
  },
  {
   "cell_type": "code",
   "execution_count": 27,
   "id": "f09f5c95",
   "metadata": {},
   "outputs": [
    {
     "data": {
      "text/plain": [
       "70"
      ]
     },
     "execution_count": 27,
     "metadata": {},
     "output_type": "execute_result"
    }
   ],
   "source": [
    "data[\"hd\"].isna().sum()"
   ]
  },
  {
   "cell_type": "code",
   "execution_count": 28,
   "id": "1a7eddae",
   "metadata": {},
   "outputs": [
    {
     "data": {
      "text/plain": [
       "0"
      ]
     },
     "execution_count": 28,
     "metadata": {},
     "output_type": "execute_result"
    }
   ],
   "source": [
    "data[\"ssd\"].isna().sum()"
   ]
  },
  {
   "cell_type": "code",
   "execution_count": 7,
   "id": "5821c9ff",
   "metadata": {},
   "outputs": [
    {
     "data": {
      "text/plain": [
       "128.0    57\n",
       "320.0    27\n",
       "160.0    24\n",
       "300.0    10\n",
       "500.0     7\n",
       "120.0     7\n",
       "240.0     4\n",
       "256.0     3\n",
       "130.0     2\n",
       "119.0     2\n",
       "80.0      2\n",
       "180.0     2\n",
       "512.0     1\n",
       "250.0     1\n",
       "150.0     1\n",
       "Name: hd, dtype: int64"
      ]
     },
     "execution_count": 7,
     "metadata": {},
     "output_type": "execute_result"
    }
   ],
   "source": [
    "data[\"hd\"].value_counts()"
   ]
  },
  {
   "cell_type": "markdown",
   "id": "19a8152e",
   "metadata": {},
   "source": [
    "I'd like you to help me understand what goes into a laptop price generally.  Because of my major, I need a lot of hard drive space and would prefer a solid state drive.  Does the increase in price differ by solid state or not?  Does the cost of storage differ by solid state or not?\n",
    "\n",
    "Of the laptops that have not yet sold, I'd like you to make a few recommendations for good deals that I should consider.  I would prefer a BIN listing (buy it now) rather than wait for the auction to end (or get into a bidding war) but only if it does not affect the price.  Does BIN affect price?  \n",
    "\n",
    "Finally, I'm not majoring in a quantitative field and really have no statistics background, so I may need you to explain your models to me.  And, I'm definitely a very visual person so a few clear graphics would go a long way to helping me understand your analysis."
   ]
  },
  {
   "cell_type": "code",
   "execution_count": 32,
   "id": "7e7a38cf",
   "metadata": {},
   "outputs": [
    {
     "data": {
      "image/png": "[encoded data removed]",
      "text/plain": [
       "<Figure size 432x288 with 7 Axes>"
      ]
     },
     "metadata": {
      "needs_background": "light"
     },
     "output_type": "display_data"
    }
   ],
   "source": [
    "def draw_outcome_plots(df, outcome, n_rows, n_cols):\n",
    "    fig=plt.figure()\n",
    "    variables = df.columns.drop(outcome)\n",
    "    for i, var_name in enumerate(variables):\n",
    "        ax=fig.add_subplot(n_rows,n_cols,i+1)\n",
    "        if len(df[var_name].unique()) > 10:\n",
    "            df.plot.scatter(x= var_name, y= outcome, ax=ax)\n",
    "        else:\n",
    "            df.boxplot(column=outcome, by=var_name, grid = False, ax=ax)\n",
    "        ax.set(ylabel=outcome)\n",
    "        ax.set_title(var_name)\n",
    "    fig.suptitle('Scatter and Box Plots by '+outcome)\n",
    "    fig.tight_layout()\n",
    "    plt.show()\n",
    "draw_outcome_plots(data, 'price', 3, 4)"
   ]
  },
  {
   "cell_type": "code",
   "execution_count": 12,
   "id": "5f9306b0",
   "metadata": {},
   "outputs": [
    {
     "ename": "TypeError",
     "evalue": "no numeric data to plot",
     "output_type": "error",
     "traceback": [
      "\u001b[0;31m---------------------------------------------------------------------------\u001b[0m",
      "\u001b[0;31mTypeError\u001b[0m                                 Traceback (most recent call last)",
      "\u001b[0;32m<ipython-input-12-2a7fae1f5830>\u001b[0m in \u001b[0;36m<module>\u001b[0;34m\u001b[0m\n\u001b[0;32m----> 1\u001b[0;31m \u001b[0mdata\u001b[0m\u001b[0;34m.\u001b[0m\u001b[0mplot\u001b[0m\u001b[0;34m.\u001b[0m\u001b[0mbox\u001b[0m\u001b[0;34m(\u001b[0m\u001b[0mx\u001b[0m\u001b[0;34m=\u001b[0m\u001b[0;34m\"price\"\u001b[0m\u001b[0;34m,\u001b[0m \u001b[0my\u001b[0m\u001b[0;34m=\u001b[0m\u001b[0;34m\"hd\"\u001b[0m\u001b[0;34m)\u001b[0m\u001b[0;34m\u001b[0m\u001b[0;34m\u001b[0m\u001b[0m\n\u001b[0m",
      "\u001b[0;32m/opt/anaconda3/lib/python3.8/site-packages/pandas/plotting/_core.py\u001b[0m in \u001b[0;36mbox\u001b[0;34m(self, by, **kwargs)\u001b[0m\n\u001b[1;32m   1247\u001b[0m             \u001b[0;34m>>\u001b[0m\u001b[0;34m>\u001b[0m \u001b[0max\u001b[0m \u001b[0;34m=\u001b[0m \u001b[0mdf\u001b[0m\u001b[0;34m.\u001b[0m\u001b[0mplot\u001b[0m\u001b[0;34m.\u001b[0m\u001b[0mbox\u001b[0m\u001b[0;34m(\u001b[0m\u001b[0;34m)\u001b[0m\u001b[0;34m\u001b[0m\u001b[0;34m\u001b[0m\u001b[0m\n\u001b[1;32m   1248\u001b[0m         \"\"\"\n\u001b[0;32m-> 1249\u001b[0;31m         \u001b[0;32mreturn\u001b[0m \u001b[0mself\u001b[0m\u001b[0;34m(\u001b[0m\u001b[0mkind\u001b[0m\u001b[0;34m=\u001b[0m\u001b[0;34m\"box\"\u001b[0m\u001b[0;34m,\u001b[0m \u001b[0mby\u001b[0m\u001b[0;34m=\u001b[0m\u001b[0mby\u001b[0m\u001b[0;34m,\u001b[0m \u001b[0;34m**\u001b[0m\u001b[0mkwargs\u001b[0m\u001b[0;34m)\u001b[0m\u001b[0;34m\u001b[0m\u001b[0;34m\u001b[0m\u001b[0m\n\u001b[0m\u001b[1;32m   1250\u001b[0m \u001b[0;34m\u001b[0m\u001b[0m\n\u001b[1;32m   1251\u001b[0m     \u001b[0;32mdef\u001b[0m \u001b[0mhist\u001b[0m\u001b[0;34m(\u001b[0m\u001b[0mself\u001b[0m\u001b[0;34m,\u001b[0m \u001b[0mby\u001b[0m\u001b[0;34m=\u001b[0m\u001b[0;32mNone\u001b[0m\u001b[0;34m,\u001b[0m \u001b[0mbins\u001b[0m\u001b[0;34m=\u001b[0m\u001b[0;36m10\u001b[0m\u001b[0;34m,\u001b[0m \u001b[0;34m**\u001b[0m\u001b[0mkwargs\u001b[0m\u001b[0;34m)\u001b[0m\u001b[0;34m:\u001b[0m\u001b[0;34m\u001b[0m\u001b[0;34m\u001b[0m\u001b[0m\n",
      "\u001b[0;32m/opt/anaconda3/lib/python3.8/site-packages/pandas/plotting/_core.py\u001b[0m in \u001b[0;36m__call__\u001b[0;34m(self, *args, **kwargs)\u001b[0m\n\u001b[1;32m    953\u001b[0m                     \u001b[0mdata\u001b[0m\u001b[0;34m.\u001b[0m\u001b[0mcolumns\u001b[0m \u001b[0;34m=\u001b[0m \u001b[0mlabel_name\u001b[0m\u001b[0;34m\u001b[0m\u001b[0;34m\u001b[0m\u001b[0m\n\u001b[1;32m    954\u001b[0m \u001b[0;34m\u001b[0m\u001b[0m\n\u001b[0;32m--> 955\u001b[0;31m         \u001b[0;32mreturn\u001b[0m \u001b[0mplot_backend\u001b[0m\u001b[0;34m.\u001b[0m\u001b[0mplot\u001b[0m\u001b[0;34m(\u001b[0m\u001b[0mdata\u001b[0m\u001b[0;34m,\u001b[0m \u001b[0mkind\u001b[0m\u001b[0;34m=\u001b[0m\u001b[0mkind\u001b[0m\u001b[0;34m,\u001b[0m \u001b[0;34m**\u001b[0m\u001b[0mkwargs\u001b[0m\u001b[0;34m)\u001b[0m\u001b[0;34m\u001b[0m\u001b[0;34m\u001b[0m\u001b[0m\n\u001b[0m\u001b[1;32m    956\u001b[0m \u001b[0;34m\u001b[0m\u001b[0m\n\u001b[1;32m    957\u001b[0m     \u001b[0m__call__\u001b[0m\u001b[0;34m.\u001b[0m\u001b[0m__doc__\u001b[0m \u001b[0;34m=\u001b[0m \u001b[0m__doc__\u001b[0m\u001b[0;34m\u001b[0m\u001b[0;34m\u001b[0m\u001b[0m\n",
      "\u001b[0;32m/opt/anaconda3/lib/python3.8/site-packages/pandas/plotting/_matplotlib/__init__.py\u001b[0m in \u001b[0;36mplot\u001b[0;34m(data, kind, **kwargs)\u001b[0m\n\u001b[1;32m     59\u001b[0m             \u001b[0mkwargs\u001b[0m\u001b[0;34m[\u001b[0m\u001b[0;34m\"ax\"\u001b[0m\u001b[0;34m]\u001b[0m \u001b[0;34m=\u001b[0m \u001b[0mgetattr\u001b[0m\u001b[0;34m(\u001b[0m\u001b[0max\u001b[0m\u001b[0;34m,\u001b[0m \u001b[0;34m\"left_ax\"\u001b[0m\u001b[0;34m,\u001b[0m \u001b[0max\u001b[0m\u001b[0;34m)\u001b[0m\u001b[0;34m\u001b[0m\u001b[0;34m\u001b[0m\u001b[0m\n\u001b[1;32m     60\u001b[0m     \u001b[0mplot_obj\u001b[0m \u001b[0;34m=\u001b[0m \u001b[0mPLOT_CLASSES\u001b[0m\u001b[0;34m[\u001b[0m\u001b[0mkind\u001b[0m\u001b[0;34m]\u001b[0m\u001b[0;34m(\u001b[0m\u001b[0mdata\u001b[0m\u001b[0;34m,\u001b[0m \u001b[0;34m**\u001b[0m\u001b[0mkwargs\u001b[0m\u001b[0;34m)\u001b[0m\u001b[0;34m\u001b[0m\u001b[0;34m\u001b[0m\u001b[0m\n\u001b[0;32m---> 61\u001b[0;31m     \u001b[0mplot_obj\u001b[0m\u001b[0;34m.\u001b[0m\u001b[0mgenerate\u001b[0m\u001b[0;34m(\u001b[0m\u001b[0;34m)\u001b[0m\u001b[0;34m\u001b[0m\u001b[0;34m\u001b[0m\u001b[0m\n\u001b[0m\u001b[1;32m     62\u001b[0m     \u001b[0mplot_obj\u001b[0m\u001b[0;34m.\u001b[0m\u001b[0mdraw\u001b[0m\u001b[0;34m(\u001b[0m\u001b[0;34m)\u001b[0m\u001b[0;34m\u001b[0m\u001b[0;34m\u001b[0m\u001b[0m\n\u001b[1;32m     63\u001b[0m     \u001b[0;32mreturn\u001b[0m \u001b[0mplot_obj\u001b[0m\u001b[0;34m.\u001b[0m\u001b[0mresult\u001b[0m\u001b[0;34m\u001b[0m\u001b[0;34m\u001b[0m\u001b[0m\n",
      "\u001b[0;32m/opt/anaconda3/lib/python3.8/site-packages/pandas/plotting/_matplotlib/core.py\u001b[0m in \u001b[0;36mgenerate\u001b[0;34m(self)\u001b[0m\n\u001b[1;32m    276\u001b[0m     \u001b[0;32mdef\u001b[0m \u001b[0mgenerate\u001b[0m\u001b[0;34m(\u001b[0m\u001b[0mself\u001b[0m\u001b[0;34m)\u001b[0m\u001b[0;34m:\u001b[0m\u001b[0;34m\u001b[0m\u001b[0;34m\u001b[0m\u001b[0m\n\u001b[1;32m    277\u001b[0m         \u001b[0mself\u001b[0m\u001b[0;34m.\u001b[0m\u001b[0m_args_adjust\u001b[0m\u001b[0;34m(\u001b[0m\u001b[0;34m)\u001b[0m\u001b[0;34m\u001b[0m\u001b[0;34m\u001b[0m\u001b[0m\n\u001b[0;32m--> 278\u001b[0;31m         \u001b[0mself\u001b[0m\u001b[0;34m.\u001b[0m\u001b[0m_compute_plot_data\u001b[0m\u001b[0;34m(\u001b[0m\u001b[0;34m)\u001b[0m\u001b[0;34m\u001b[0m\u001b[0;34m\u001b[0m\u001b[0m\n\u001b[0m\u001b[1;32m    279\u001b[0m         \u001b[0mself\u001b[0m\u001b[0;34m.\u001b[0m\u001b[0m_setup_subplots\u001b[0m\u001b[0;34m(\u001b[0m\u001b[0;34m)\u001b[0m\u001b[0;34m\u001b[0m\u001b[0;34m\u001b[0m\u001b[0m\n\u001b[1;32m    280\u001b[0m         \u001b[0mself\u001b[0m\u001b[0;34m.\u001b[0m\u001b[0m_make_plot\u001b[0m\u001b[0;34m(\u001b[0m\u001b[0;34m)\u001b[0m\u001b[0;34m\u001b[0m\u001b[0;34m\u001b[0m\u001b[0m\n",
      "\u001b[0;32m/opt/anaconda3/lib/python3.8/site-packages/pandas/plotting/_matplotlib/core.py\u001b[0m in \u001b[0;36m_compute_plot_data\u001b[0;34m(self)\u001b[0m\n\u001b[1;32m    439\u001b[0m         \u001b[0;31m# no non-numeric frames or series allowed\u001b[0m\u001b[0;34m\u001b[0m\u001b[0;34m\u001b[0m\u001b[0;34m\u001b[0m\u001b[0m\n\u001b[1;32m    440\u001b[0m         \u001b[0;32mif\u001b[0m \u001b[0mis_empty\u001b[0m\u001b[0;34m:\u001b[0m\u001b[0;34m\u001b[0m\u001b[0;34m\u001b[0m\u001b[0m\n\u001b[0;32m--> 441\u001b[0;31m             \u001b[0;32mraise\u001b[0m \u001b[0mTypeError\u001b[0m\u001b[0;34m(\u001b[0m\u001b[0;34m\"no numeric data to plot\"\u001b[0m\u001b[0;34m)\u001b[0m\u001b[0;34m\u001b[0m\u001b[0;34m\u001b[0m\u001b[0m\n\u001b[0m\u001b[1;32m    442\u001b[0m \u001b[0;34m\u001b[0m\u001b[0m\n\u001b[1;32m    443\u001b[0m         \u001b[0mself\u001b[0m\u001b[0;34m.\u001b[0m\u001b[0mdata\u001b[0m \u001b[0;34m=\u001b[0m \u001b[0mnumeric_data\u001b[0m\u001b[0;34m.\u001b[0m\u001b[0mapply\u001b[0m\u001b[0;34m(\u001b[0m\u001b[0mself\u001b[0m\u001b[0;34m.\u001b[0m\u001b[0m_convert_to_ndarray\u001b[0m\u001b[0;34m)\u001b[0m\u001b[0;34m\u001b[0m\u001b[0;34m\u001b[0m\u001b[0m\n",
      "\u001b[0;31mTypeError\u001b[0m: no numeric data to plot"
     ]
    }
   ],
   "source": [
    "data.plot.(x=\"price\", y=\"hd\")"
   ]
  },
  {
   "cell_type": "code",
   "execution_count": 34,
   "id": "c3241bba",
   "metadata": {},
   "outputs": [],
   "source": [
    "data[\"ssd\"] = data[\"ssd\"].astype(\"category\")"
   ]
  },
  {
   "cell_type": "code",
   "execution_count": 35,
   "id": "7958f195",
   "metadata": {},
   "outputs": [
    {
     "data": {
      "text/plain": [
       "<AxesSubplot:title={'center':'hd'}, xlabel='[ssd]'>"
      ]
     },
     "execution_count": 35,
     "metadata": {},
     "output_type": "execute_result"
    },
    {
     "data": {
      "image/png": "[encoded data removed]",
      "text/plain": [
       "<Figure size 432x288 with 1 Axes>"
      ]
     },
     "metadata": {
      "needs_background": "light"
     },
     "output_type": "display_data"
    }
   ],
   "source": [
    "data.boxplot(column=\"hd\", by=[\"ssd\"])"
   ]
  },
  {
   "cell_type": "code",
   "execution_count": 19,
   "id": "59f054fc",
   "metadata": {},
   "outputs": [
    {
     "data": {
      "text/plain": [
       "128.0    57\n",
       "320.0    27\n",
       "160.0    24\n",
       "300.0    10\n",
       "120.0     7\n",
       "500.0     7\n",
       "240.0     4\n",
       "256.0     3\n",
       "80.0      2\n",
       "119.0     2\n",
       "130.0     2\n",
       "180.0     2\n",
       "150.0     1\n",
       "250.0     1\n",
       "512.0     1\n",
       "Name: hd, dtype: int64"
      ]
     },
     "execution_count": 19,
     "metadata": {},
     "output_type": "execute_result"
    }
   ],
   "source": [
    "data[\"hd\"].value_counts()"
   ]
  },
  {
   "cell_type": "code",
   "execution_count": 36,
   "id": "3321a7b8",
   "metadata": {},
   "outputs": [
    {
     "data": {
      "text/html": [
       "<div>\n",
       "<style scoped>\n",
       "    .dataframe tbody tr th:only-of-type {\n",
       "        vertical-align: middle;\n",
       "    }\n",
       "\n",
       "    .dataframe tbody tr th {\n",
       "        vertical-align: top;\n",
       "    }\n",
       "\n",
       "    .dataframe thead th {\n",
       "        text-align: right;\n",
       "    }\n",
       "</style>\n",
       "<table border=\"1\" class=\"dataframe\">\n",
       "  <thead>\n",
       "    <tr style=\"text-align: right;\">\n",
       "      <th></th>\n",
       "      <th>Unnamed: 0</th>\n",
       "      <th>price</th>\n",
       "      <th>ghz</th>\n",
       "      <th>ram</th>\n",
       "      <th>BIN</th>\n",
       "    </tr>\n",
       "  </thead>\n",
       "  <tbody>\n",
       "    <tr>\n",
       "      <th>Unnamed: 0</th>\n",
       "      <td>1.000000</td>\n",
       "      <td>-0.022537</td>\n",
       "      <td>0.152105</td>\n",
       "      <td>-0.094888</td>\n",
       "      <td>-0.153466</td>\n",
       "    </tr>\n",
       "    <tr>\n",
       "      <th>price</th>\n",
       "      <td>-0.022537</td>\n",
       "      <td>1.000000</td>\n",
       "      <td>0.200020</td>\n",
       "      <td>0.210697</td>\n",
       "      <td>0.173600</td>\n",
       "    </tr>\n",
       "    <tr>\n",
       "      <th>ghz</th>\n",
       "      <td>0.152105</td>\n",
       "      <td>0.200020</td>\n",
       "      <td>1.000000</td>\n",
       "      <td>0.341011</td>\n",
       "      <td>-0.007366</td>\n",
       "    </tr>\n",
       "    <tr>\n",
       "      <th>ram</th>\n",
       "      <td>-0.094888</td>\n",
       "      <td>0.210697</td>\n",
       "      <td>0.341011</td>\n",
       "      <td>1.000000</td>\n",
       "      <td>-0.018053</td>\n",
       "    </tr>\n",
       "    <tr>\n",
       "      <th>BIN</th>\n",
       "      <td>-0.153466</td>\n",
       "      <td>0.173600</td>\n",
       "      <td>-0.007366</td>\n",
       "      <td>-0.018053</td>\n",
       "      <td>1.000000</td>\n",
       "    </tr>\n",
       "  </tbody>\n",
       "</table>\n",
       "</div>"
      ],
      "text/plain": [
       "            Unnamed: 0     price       ghz       ram       BIN\n",
       "Unnamed: 0    1.000000 -0.022537  0.152105 -0.094888 -0.153466\n",
       "price        -0.022537  1.000000  0.200020  0.210697  0.173600\n",
       "ghz           0.152105  0.200020  1.000000  0.341011 -0.007366\n",
       "ram          -0.094888  0.210697  0.341011  1.000000 -0.018053\n",
       "BIN          -0.153466  0.173600 -0.007366 -0.018053  1.000000"
      ]
     },
     "execution_count": 36,
     "metadata": {},
     "output_type": "execute_result"
    }
   ],
   "source": [
    "data.corr()"
   ]
  },
  {
   "cell_type": "code",
   "execution_count": null,
   "id": "91d79c2c",
   "metadata": {},
   "outputs": [],
   "source": []
  }
 ],
 "metadata": {
  "kernelspec": {
   "display_name": "Python 3.8.8 64-bit ('base': conda)",
   "language": "python",
   "name": "python388jvsc74a57bd040d3a090f54c6569ab1632332b64b2c03c39dcf918b08424e98f38b5ae0af88f"
  },
  "language_info": {
   "codemirror_mode": {
    "name": "ipython",
    "version": 3
   },
   "file_extension": ".py",
   "mimetype": "text/x-python",
   "name": "python",
   "nbconvert_exporter": "python",
   "pygments_lexer": "ipython3",
   "version": "3.8.8"
  }
 },
 "nbformat": 4,
 "nbformat_minor": 5
}
