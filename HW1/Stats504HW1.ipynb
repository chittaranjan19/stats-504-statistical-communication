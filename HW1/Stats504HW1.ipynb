{
 "cells": [
  {
   "cell_type": "markdown",
   "id": "ffe307d3",
   "metadata": {},
   "source": [
    "# Appendix"
   ]
  },
  {
   "cell_type": "code",
   "execution_count": 11,
   "id": "3d2bbeef",
   "metadata": {},
   "outputs": [],
   "source": [
    "import pandas as pd\n",
    "import matplotlib.pyplot as plt\n",
    "import numpy as np\n",
    "from sklearn.linear_model import LinearRegression\n",
    "import patsy\n",
    "import statsmodels.api as sm\n",
    "from statsmodels.stats.outliers_influence import variance_inflation_factor\n",
    "from sklearn import tree\n",
    "import seaborn as sns"
   ]
  },
  {
   "cell_type": "code",
   "execution_count": 12,
   "id": "abeaf2a9",
   "metadata": {},
   "outputs": [],
   "source": [
    "sns.set(rc = {'figure.figsize': (12, 8)})\n",
    "plt.style.use('fivethirtyeight')"
   ]
  },
  {
   "cell_type": "markdown",
   "id": "e1c91eb1",
   "metadata": {},
   "source": [
    "### Read in the data and make necessary conversions"
   ]
  },
  {
   "cell_type": "code",
   "execution_count": 13,
   "id": "ea4da510",
   "metadata": {
    "scrolled": false
   },
   "outputs": [
    {
     "data": {
      "text/html": [
       "<div>\n",
       "<style scoped>\n",
       "    .dataframe tbody tr th:only-of-type {\n",
       "        vertical-align: middle;\n",
       "    }\n",
       "\n",
       "    .dataframe tbody tr th {\n",
       "        vertical-align: top;\n",
       "    }\n",
       "\n",
       "    .dataframe thead th {\n",
       "        text-align: right;\n",
       "    }\n",
       "</style>\n",
       "<table border=\"1\" class=\"dataframe\">\n",
       "  <thead>\n",
       "    <tr style=\"text-align: right;\">\n",
       "      <th></th>\n",
       "      <th>sale</th>\n",
       "      <th>price</th>\n",
       "      <th>ghz</th>\n",
       "      <th>ram</th>\n",
       "      <th>hd</th>\n",
       "      <th>ssd</th>\n",
       "      <th>BIN</th>\n",
       "    </tr>\n",
       "  </thead>\n",
       "  <tbody>\n",
       "    <tr>\n",
       "      <th>1</th>\n",
       "      <td>1</td>\n",
       "      <td>404.99</td>\n",
       "      <td>2.7</td>\n",
       "      <td>8.0</td>\n",
       "      <td>NaN</td>\n",
       "      <td>1</td>\n",
       "      <td>0</td>\n",
       "    </tr>\n",
       "    <tr>\n",
       "      <th>2</th>\n",
       "      <td>1</td>\n",
       "      <td>355.00</td>\n",
       "      <td>2.5</td>\n",
       "      <td>8.0</td>\n",
       "      <td>128.0</td>\n",
       "      <td>1</td>\n",
       "      <td>0</td>\n",
       "    </tr>\n",
       "    <tr>\n",
       "      <th>3</th>\n",
       "      <td>1</td>\n",
       "      <td>449.99</td>\n",
       "      <td>2.6</td>\n",
       "      <td>4.0</td>\n",
       "      <td>128.0</td>\n",
       "      <td>0</td>\n",
       "      <td>1</td>\n",
       "    </tr>\n",
       "    <tr>\n",
       "      <th>4</th>\n",
       "      <td>0</td>\n",
       "      <td>499.99</td>\n",
       "      <td>2.5</td>\n",
       "      <td>4.0</td>\n",
       "      <td>320.0</td>\n",
       "      <td>0</td>\n",
       "      <td>1</td>\n",
       "    </tr>\n",
       "    <tr>\n",
       "      <th>5</th>\n",
       "      <td>0</td>\n",
       "      <td>199.99</td>\n",
       "      <td>NaN</td>\n",
       "      <td>NaN</td>\n",
       "      <td>NaN</td>\n",
       "      <td>0</td>\n",
       "      <td>1</td>\n",
       "    </tr>\n",
       "    <tr>\n",
       "      <th>...</th>\n",
       "      <td>...</td>\n",
       "      <td>...</td>\n",
       "      <td>...</td>\n",
       "      <td>...</td>\n",
       "      <td>...</td>\n",
       "      <td>...</td>\n",
       "      <td>...</td>\n",
       "    </tr>\n",
       "    <tr>\n",
       "      <th>216</th>\n",
       "      <td>1</td>\n",
       "      <td>480.00</td>\n",
       "      <td>NaN</td>\n",
       "      <td>6.0</td>\n",
       "      <td>128.0</td>\n",
       "      <td>1</td>\n",
       "      <td>1</td>\n",
       "    </tr>\n",
       "    <tr>\n",
       "      <th>217</th>\n",
       "      <td>1</td>\n",
       "      <td>452.00</td>\n",
       "      <td>2.6</td>\n",
       "      <td>8.0</td>\n",
       "      <td>240.0</td>\n",
       "      <td>1</td>\n",
       "      <td>0</td>\n",
       "    </tr>\n",
       "    <tr>\n",
       "      <th>218</th>\n",
       "      <td>1</td>\n",
       "      <td>358.00</td>\n",
       "      <td>2.6</td>\n",
       "      <td>4.0</td>\n",
       "      <td>128.0</td>\n",
       "      <td>0</td>\n",
       "      <td>0</td>\n",
       "    </tr>\n",
       "    <tr>\n",
       "      <th>219</th>\n",
       "      <td>1</td>\n",
       "      <td>450.00</td>\n",
       "      <td>NaN</td>\n",
       "      <td>4.0</td>\n",
       "      <td>128.0</td>\n",
       "      <td>1</td>\n",
       "      <td>0</td>\n",
       "    </tr>\n",
       "    <tr>\n",
       "      <th>220</th>\n",
       "      <td>1</td>\n",
       "      <td>299.95</td>\n",
       "      <td>2.5</td>\n",
       "      <td>4.0</td>\n",
       "      <td>320.0</td>\n",
       "      <td>0</td>\n",
       "      <td>1</td>\n",
       "    </tr>\n",
       "  </tbody>\n",
       "</table>\n",
       "<p>220 rows × 7 columns</p>\n",
       "</div>"
      ],
      "text/plain": [
       "     sale   price  ghz  ram     hd  ssd  BIN\n",
       "1       1  404.99  2.7  8.0    NaN    1    0\n",
       "2       1  355.00  2.5  8.0  128.0    1    0\n",
       "3       1  449.99  2.6  4.0  128.0    0    1\n",
       "4       0  499.99  2.5  4.0  320.0    0    1\n",
       "5       0  199.99  NaN  NaN    NaN    0    1\n",
       "..    ...     ...  ...  ...    ...  ...  ...\n",
       "216     1  480.00  NaN  6.0  128.0    1    1\n",
       "217     1  452.00  2.6  8.0  240.0    1    0\n",
       "218     1  358.00  2.6  4.0  128.0    0    0\n",
       "219     1  450.00  NaN  4.0  128.0    1    0\n",
       "220     1  299.95  2.5  4.0  320.0    0    1\n",
       "\n",
       "[220 rows x 7 columns]"
      ]
     },
     "execution_count": 13,
     "metadata": {},
     "output_type": "execute_result"
    }
   ],
   "source": [
    "data = pd.read_csv(\"laptopData.csv\", index_col=0)\n",
    "data[\"ssd\"] = data[\"ssd\"].map({\"SSD\": 1, \"No\": 0})\n",
    "data[\"BIN\"] = data[\"BIN\"].map({False: 0, True: 1})\n",
    "data[\"sale\"] = data[\"sale\"].map({\"SOLD\": 1, \"NOT SOLD\": 0})\n",
    "data"
   ]
  },
  {
   "cell_type": "markdown",
   "id": "c6dfdc76",
   "metadata": {},
   "source": [
    "### Exploratory analysis on the response variable"
   ]
  },
  {
   "cell_type": "code",
   "execution_count": 14,
   "id": "bb10ff5d",
   "metadata": {
    "scrolled": false
   },
   "outputs": [
    {
     "data": {
      "text/plain": [
       "array([[<AxesSubplot:title={'center':'price'}>]], dtype=object)"
      ]
     },
     "execution_count": 14,
     "metadata": {},
     "output_type": "execute_result"
    },
    {
     "data": {
      "image/png": "[encoded data removed]",
      "text/plain": [
       "<Figure size 864x576 with 1 Axes>"
      ]
     },
     "metadata": {},
     "output_type": "display_data"
    }
   ],
   "source": [
    "data.hist(column=\"price\")"
   ]
  },
  {
   "cell_type": "code",
   "execution_count": 15,
   "id": "e934cbbe",
   "metadata": {},
   "outputs": [
    {
     "data": {
      "text/plain": [
       "count    220.000000\n",
       "mean     364.162727\n",
       "std      132.301459\n",
       "min        1.000000\n",
       "25%      299.980000\n",
       "50%      357.500000\n",
       "75%      449.992500\n",
       "max      699.990000\n",
       "Name: price, dtype: float64"
      ]
     },
     "execution_count": 15,
     "metadata": {},
     "output_type": "execute_result"
    }
   ],
   "source": [
    "data[\"price\"].describe()"
   ]
  },
  {
   "cell_type": "markdown",
   "id": "64548f55",
   "metadata": {},
   "source": [
    "Drop rows where the price is anomalous"
   ]
  },
  {
   "cell_type": "code",
   "execution_count": 16,
   "id": "36736428",
   "metadata": {},
   "outputs": [],
   "source": [
    "data = data.drop(data[data[\"price\"] < 10].index)"
   ]
  },
  {
   "cell_type": "code",
   "execution_count": 17,
   "id": "ae34ebba",
   "metadata": {},
   "outputs": [
    {
     "data": {
      "text/plain": [
       "sale      0\n",
       "price     0\n",
       "ghz      49\n",
       "ram      42\n",
       "hd       69\n",
       "ssd       0\n",
       "BIN       0\n",
       "dtype: int64"
      ]
     },
     "execution_count": 17,
     "metadata": {},
     "output_type": "execute_result"
    }
   ],
   "source": [
    "data.isna().sum()"
   ]
  },
  {
   "cell_type": "markdown",
   "id": "38ae28cb",
   "metadata": {},
   "source": [
    "### Data Imputation for missing values"
   ]
  },
  {
   "cell_type": "code",
   "execution_count": 18,
   "id": "19c8675d",
   "metadata": {},
   "outputs": [
    {
     "data": {
      "text/html": [
       "<div>\n",
       "<style scoped>\n",
       "    .dataframe tbody tr th:only-of-type {\n",
       "        vertical-align: middle;\n",
       "    }\n",
       "\n",
       "    .dataframe tbody tr th {\n",
       "        vertical-align: top;\n",
       "    }\n",
       "\n",
       "    .dataframe thead th {\n",
       "        text-align: right;\n",
       "    }\n",
       "</style>\n",
       "<table border=\"1\" class=\"dataframe\">\n",
       "  <thead>\n",
       "    <tr style=\"text-align: right;\">\n",
       "      <th></th>\n",
       "      <th>sale</th>\n",
       "      <th>price</th>\n",
       "      <th>ghz</th>\n",
       "      <th>ram</th>\n",
       "      <th>hd</th>\n",
       "      <th>ssd</th>\n",
       "      <th>BIN</th>\n",
       "    </tr>\n",
       "  </thead>\n",
       "  <tbody>\n",
       "    <tr>\n",
       "      <th>sale</th>\n",
       "      <td>1.00</td>\n",
       "      <td>-0.12</td>\n",
       "      <td>0.10</td>\n",
       "      <td>-0.05</td>\n",
       "      <td>-0.05</td>\n",
       "      <td>0.16</td>\n",
       "      <td>-0.22</td>\n",
       "    </tr>\n",
       "    <tr>\n",
       "      <th>price</th>\n",
       "      <td>-0.12</td>\n",
       "      <td>1.00</td>\n",
       "      <td>0.28</td>\n",
       "      <td>0.25</td>\n",
       "      <td>-0.16</td>\n",
       "      <td>0.44</td>\n",
       "      <td>0.26</td>\n",
       "    </tr>\n",
       "    <tr>\n",
       "      <th>ghz</th>\n",
       "      <td>0.10</td>\n",
       "      <td>0.28</td>\n",
       "      <td>1.00</td>\n",
       "      <td>0.32</td>\n",
       "      <td>-0.08</td>\n",
       "      <td>0.19</td>\n",
       "      <td>-0.02</td>\n",
       "    </tr>\n",
       "    <tr>\n",
       "      <th>ram</th>\n",
       "      <td>-0.05</td>\n",
       "      <td>0.25</td>\n",
       "      <td>0.32</td>\n",
       "      <td>1.00</td>\n",
       "      <td>-0.02</td>\n",
       "      <td>0.29</td>\n",
       "      <td>-0.02</td>\n",
       "    </tr>\n",
       "    <tr>\n",
       "      <th>hd</th>\n",
       "      <td>-0.05</td>\n",
       "      <td>-0.16</td>\n",
       "      <td>-0.08</td>\n",
       "      <td>-0.02</td>\n",
       "      <td>1.00</td>\n",
       "      <td>-0.54</td>\n",
       "      <td>-0.17</td>\n",
       "    </tr>\n",
       "    <tr>\n",
       "      <th>ssd</th>\n",
       "      <td>0.16</td>\n",
       "      <td>0.44</td>\n",
       "      <td>0.19</td>\n",
       "      <td>0.29</td>\n",
       "      <td>-0.54</td>\n",
       "      <td>1.00</td>\n",
       "      <td>-0.01</td>\n",
       "    </tr>\n",
       "    <tr>\n",
       "      <th>BIN</th>\n",
       "      <td>-0.22</td>\n",
       "      <td>0.26</td>\n",
       "      <td>-0.02</td>\n",
       "      <td>-0.02</td>\n",
       "      <td>-0.17</td>\n",
       "      <td>-0.01</td>\n",
       "      <td>1.00</td>\n",
       "    </tr>\n",
       "  </tbody>\n",
       "</table>\n",
       "</div>"
      ],
      "text/plain": [
       "       sale  price   ghz   ram    hd   ssd   BIN\n",
       "sale   1.00  -0.12  0.10 -0.05 -0.05  0.16 -0.22\n",
       "price -0.12   1.00  0.28  0.25 -0.16  0.44  0.26\n",
       "ghz    0.10   0.28  1.00  0.32 -0.08  0.19 -0.02\n",
       "ram   -0.05   0.25  0.32  1.00 -0.02  0.29 -0.02\n",
       "hd    -0.05  -0.16 -0.08 -0.02  1.00 -0.54 -0.17\n",
       "ssd    0.16   0.44  0.19  0.29 -0.54  1.00 -0.01\n",
       "BIN   -0.22   0.26 -0.02 -0.02 -0.17 -0.01  1.00"
      ]
     },
     "execution_count": 18,
     "metadata": {},
     "output_type": "execute_result"
    }
   ],
   "source": [
    "data.corr().round(2)"
   ]
  },
  {
   "cell_type": "code",
   "execution_count": 19,
   "id": "50098231",
   "metadata": {},
   "outputs": [
    {
     "data": {
      "text/plain": [
       "0    128.0\n",
       "dtype: float64"
      ]
     },
     "execution_count": 19,
     "metadata": {},
     "output_type": "execute_result"
    }
   ],
   "source": [
    "data[data[\"ssd\"] == 1][\"hd\"].mode()"
   ]
  },
  {
   "cell_type": "code",
   "execution_count": 20,
   "id": "f90ed113",
   "metadata": {},
   "outputs": [
    {
     "data": {
      "text/plain": [
       "0    320.0\n",
       "dtype: float64"
      ]
     },
     "execution_count": 20,
     "metadata": {},
     "output_type": "execute_result"
    }
   ],
   "source": [
    "data[data[\"ssd\"] == 0][\"hd\"].mode()"
   ]
  },
  {
   "cell_type": "markdown",
   "id": "d261aa03",
   "metadata": {},
   "source": [
    "Fill in `hd` with most common (mode) value amongst laptops with same `ssd` value. This is because the highest correlated variable for `hd` is `ssd`"
   ]
  },
  {
   "cell_type": "code",
   "execution_count": 21,
   "id": "c129369e",
   "metadata": {},
   "outputs": [
    {
     "data": {
      "text/plain": [
       "sale      0\n",
       "price     0\n",
       "ghz      49\n",
       "ram      42\n",
       "hd        0\n",
       "ssd       0\n",
       "BIN       0\n",
       "dtype: int64"
      ]
     },
     "execution_count": 21,
     "metadata": {},
     "output_type": "execute_result"
    }
   ],
   "source": [
    "data[\"hd\"].fillna(data[\"ssd\"].map({1: 128, 0: 320}), inplace=True)\n",
    "data.isna().sum()"
   ]
  },
  {
   "cell_type": "markdown",
   "id": "eb68c11a",
   "metadata": {},
   "source": [
    "Similarly, for `ghz` and `ram`, use a stratified mode to fill in missing values"
   ]
  },
  {
   "cell_type": "code",
   "execution_count": 22,
   "id": "d1aed615",
   "metadata": {},
   "outputs": [
    {
     "data": {
      "text/plain": [
       "ghz\n",
       "2.5           4.0\n",
       "2.6           4.0\n",
       "2.7           8.0\n",
       "2.8    [4.0, 8.0]\n",
       "3.2           8.0\n",
       "Name: ram, dtype: object"
      ]
     },
     "execution_count": 22,
     "metadata": {},
     "output_type": "execute_result"
    }
   ],
   "source": [
    "data.groupby(\"ghz\")[\"ram\"].agg(pd.Series.mode)"
   ]
  },
  {
   "cell_type": "code",
   "execution_count": 23,
   "id": "f059680e",
   "metadata": {},
   "outputs": [
    {
     "data": {
      "text/plain": [
       "ram\n",
       "2.0     2.5\n",
       "3.0     2.5\n",
       "4.0     2.5\n",
       "6.0     2.6\n",
       "8.0     2.5\n",
       "12.0     []\n",
       "16.0     []\n",
       "Name: ghz, dtype: object"
      ]
     },
     "execution_count": 23,
     "metadata": {},
     "output_type": "execute_result"
    }
   ],
   "source": [
    "data.groupby(\"ram\")[\"ghz\"].agg(pd.Series.mode)"
   ]
  },
  {
   "cell_type": "code",
   "execution_count": 24,
   "id": "ac06afd0",
   "metadata": {},
   "outputs": [
    {
     "data": {
      "text/plain": [
       "sale     0\n",
       "price    0\n",
       "ghz      0\n",
       "ram      0\n",
       "hd       0\n",
       "ssd      0\n",
       "BIN      0\n",
       "dtype: int64"
      ]
     },
     "execution_count": 24,
     "metadata": {},
     "output_type": "execute_result"
    }
   ],
   "source": [
    "imputed_data_ram = data[\"ram\"].fillna(data[\"ghz\"].map({2.5: 4, 2.6: 4, 2.7: 8, 2.8: 4, 3.2: 8, np.nan: 4}))\n",
    "imputed_data_ghz = data[\"ghz\"].fillna(2.5) # most values are 2.5, so fill with this for simplicity\n",
    "data[\"ram\"] = imputed_data_ram\n",
    "data[\"ghz\"] = imputed_data_ghz\n",
    "data.isna().sum()"
   ]
  },
  {
   "cell_type": "markdown",
   "id": "e1e3e6f5",
   "metadata": {},
   "source": [
    "### Model Selection & Variable Selection"
   ]
  },
  {
   "cell_type": "code",
   "execution_count": 25,
   "id": "7e7a38cf",
   "metadata": {
    "scrolled": false
   },
   "outputs": [
    {
     "name": "stderr",
     "output_type": "stream",
     "text": [
      "*c* argument looks like a single numeric RGB or RGBA sequence, which should be avoided as value-mapping will have precedence in case its length matches with *x* & *y*.  Please use the *color* keyword-argument or provide a 2-D array with a single row if you intend to specify the same RGB or RGBA value for all points.\n"
     ]
    },
    {
     "data": {
      "image/png": "[encoded data removed]",
      "text/plain": [
       "<Figure size 1440x720 with 6 Axes>"
      ]
     },
     "metadata": {},
     "output_type": "display_data"
    }
   ],
   "source": [
    "plt.rcParams[\"figure.figsize\"] = (20,10)\n",
    "def draw_outcome_plots(df, outcome, n_rows, n_cols):\n",
    "    fig=plt.figure()\n",
    "    variables = df.columns.drop(outcome)\n",
    "    for i, var_name in enumerate(variables):\n",
    "        ax=fig.add_subplot(n_rows,n_cols,i+1)\n",
    "        if len(df[var_name].unique()) > 10:\n",
    "            df.plot.scatter(x= var_name, y= outcome, ax=ax)\n",
    "        else:\n",
    "            df.boxplot(column=outcome, by=var_name, grid = False, ax=ax)\n",
    "        ax.set(ylabel=outcome)\n",
    "        ax.set_title(var_name)\n",
    "    fig.suptitle('Scatter and Box Plots by '+outcome)\n",
    "    fig.tight_layout()\n",
    "    plt.show()\n",
    "draw_outcome_plots(data, 'price', 2, 3)"
   ]
  },
  {
   "cell_type": "markdown",
   "id": "f0ee3e1c",
   "metadata": {},
   "source": [
    "Looking at boxplots, there seem to be linear trends across all variables except `sale` and `hd`. This may need further investigation."
   ]
  },
  {
   "cell_type": "markdown",
   "id": "a616b410",
   "metadata": {},
   "source": [
    "This is indicative of a linear regression model, also because the response variable is normally distributed."
   ]
  },
  {
   "cell_type": "markdown",
   "id": "785782d8",
   "metadata": {},
   "source": [
    "Exclude `sale` since that is being influenced by the response variable"
   ]
  },
  {
   "cell_type": "code",
   "execution_count": 26,
   "id": "da81715b",
   "metadata": {
    "scrolled": false
   },
   "outputs": [
    {
     "name": "stdout",
     "output_type": "stream",
     "text": [
      "                            OLS Regression Results                            \n",
      "==============================================================================\n",
      "Dep. Variable:                  price   R-squared:                       0.312\n",
      "Model:                            OLS   Adj. R-squared:                  0.296\n",
      "Method:                 Least Squares   F-statistic:                     18.95\n",
      "Date:                Thu, 08 Sep 2022   Prob (F-statistic):           1.58e-15\n",
      "Time:                        15:33:47   Log-Likelihood:                -1296.4\n",
      "No. Observations:                 215   AIC:                             2605.\n",
      "Df Residuals:                     209   BIC:                             2625.\n",
      "Df Model:                           5                                         \n",
      "Covariance Type:            nonrobust                                         \n",
      "==============================================================================\n",
      "                 coef    std err          t      P>|t|      [0.025      0.975]\n",
      "------------------------------------------------------------------------------\n",
      "Intercept   -183.0675    178.151     -1.028      0.305    -534.270     168.135\n",
      "ghz          170.0113     69.891      2.433      0.016      32.230     307.793\n",
      "ram            9.8137      3.703      2.650      0.009       2.514      17.113\n",
      "hd            -0.0050      0.092     -0.054      0.957      -0.186       0.176\n",
      "ssd           87.9694     20.529      4.285      0.000      47.498     128.441\n",
      "BIN           67.1178     14.087      4.765      0.000      39.347      94.888\n",
      "==============================================================================\n",
      "Omnibus:                        5.752   Durbin-Watson:                   1.836\n",
      "Prob(Omnibus):                  0.056   Jarque-Bera (JB):                6.366\n",
      "Skew:                           0.242   Prob(JB):                       0.0415\n",
      "Kurtosis:                       3.691   Cond. No.                     7.12e+03\n",
      "==============================================================================\n",
      "\n",
      "Notes:\n",
      "[1] Standard Errors assume that the covariance matrix of the errors is correctly specified.\n",
      "[2] The condition number is large, 7.12e+03. This might indicate that there are\n",
      "strong multicollinearity or other numerical problems.\n"
     ]
    }
   ],
   "source": [
    "y1, X1 = patsy.dmatrices(\"price ~ ghz + ram + hd + ssd + BIN\", data, return_type=\"dataframe\")\n",
    "model1 = sm.OLS(y1, X1).fit()\n",
    "print(model1.summary())"
   ]
  },
  {
   "cell_type": "markdown",
   "id": "55f71c45",
   "metadata": {},
   "source": [
    "Also check with an interaction term of `hd:ssd` since that is an inference we are interested in"
   ]
  },
  {
   "cell_type": "code",
   "execution_count": 27,
   "id": "8c03fa3b",
   "metadata": {
    "scrolled": false
   },
   "outputs": [
    {
     "name": "stdout",
     "output_type": "stream",
     "text": [
      "                            OLS Regression Results                            \n",
      "==============================================================================\n",
      "Dep. Variable:                  price   R-squared:                       0.341\n",
      "Model:                            OLS   Adj. R-squared:                  0.322\n",
      "Method:                 Least Squares   F-statistic:                     17.96\n",
      "Date:                Thu, 08 Sep 2022   Prob (F-statistic):           9.41e-17\n",
      "Time:                        15:33:47   Log-Likelihood:                -1291.7\n",
      "No. Observations:                 215   AIC:                             2597.\n",
      "Df Residuals:                     208   BIC:                             2621.\n",
      "Df Model:                           6                                         \n",
      "Covariance Type:            nonrobust                                         \n",
      "==============================================================================\n",
      "                 coef    std err          t      P>|t|      [0.025      0.975]\n",
      "------------------------------------------------------------------------------\n",
      "Intercept    -25.7613    182.228     -0.141      0.888    -385.012     333.489\n",
      "ghz          124.4547     70.168      1.774      0.078     -13.877     262.786\n",
      "ram            9.0168      3.641      2.476      0.014       1.838      16.195\n",
      "hd            -0.1403      0.100     -1.397      0.164      -0.338       0.058\n",
      "ssd          -32.5746     44.453     -0.733      0.465    -120.211      55.062\n",
      "hd:ssd         0.7034      0.231      3.042      0.003       0.248       1.159\n",
      "BIN           70.3974     13.859      5.080      0.000      43.076      97.719\n",
      "==============================================================================\n",
      "Omnibus:                        7.678   Durbin-Watson:                   1.848\n",
      "Prob(Omnibus):                  0.022   Jarque-Bera (JB):                9.815\n",
      "Skew:                           0.260   Prob(JB):                      0.00739\n",
      "Kurtosis:                       3.908   Cond. No.                     7.50e+03\n",
      "==============================================================================\n",
      "\n",
      "Notes:\n",
      "[1] Standard Errors assume that the covariance matrix of the errors is correctly specified.\n",
      "[2] The condition number is large, 7.5e+03. This might indicate that there are\n",
      "strong multicollinearity or other numerical problems.\n"
     ]
    }
   ],
   "source": [
    "y2, X2 = patsy.dmatrices(\"price ~ ghz + ram + hd*ssd + BIN\", data, return_type=\"dataframe\")\n",
    "model2 = sm.OLS(y2, X2).fit()\n",
    "print(model2.summary())"
   ]
  },
  {
   "cell_type": "markdown",
   "id": "374553f3",
   "metadata": {},
   "source": [
    "AIC values are very similar, so prefer to keep the model without the interaction term as it is more easily interpretable, and the coefficients seem more reasonable and closer to reality"
   ]
  },
  {
   "cell_type": "markdown",
   "id": "b98dfaac",
   "metadata": {},
   "source": [
    "### Model Diagnostics"
   ]
  },
  {
   "cell_type": "code",
   "execution_count": 44,
   "id": "ed7cf7d5",
   "metadata": {},
   "outputs": [
    {
     "data": {
      "image/png": "[encoded data removed]",
      "text/plain": [
       "<Figure size 1440x720 with 1 Axes>"
      ]
     },
     "metadata": {},
     "output_type": "display_data"
    }
   ],
   "source": [
    "def diagnostic_plots(fit, response):\n",
    "    fig, (ax1) = plt.subplots(1,1)\n",
    "    ax1.scatter(fit.fittedvalues, response)\n",
    "    abline_max = min(max(fit.fittedvalues), max(response))\n",
    "    ax1.plot([0, abline_max], [0, abline_max], color='r')\n",
    "    ax1.set_title('Model Fit Plot')\n",
    "    ax1.set_ylabel('Observed values')\n",
    "    ax1.set_xlabel('Fitted values');\n",
    "    ax1.set_box_aspect(1)\n",
    "    \n",
    "diagnostic_plots(model1, data.price)"
   ]
  },
  {
   "cell_type": "markdown",
   "id": "36e9ac13",
   "metadata": {},
   "source": [
    "### Recommendation"
   ]
  },
  {
   "cell_type": "markdown",
   "id": "06d14475",
   "metadata": {},
   "source": [
    "From the best model, predict prices and look at laptops that have lower prices than the predictions. These are \"good\" deals. Further filter based on requirements like `ssd=1`, and `BIN=0` (since this makes the price cheaper) and large HD capacity"
   ]
  },
  {
   "cell_type": "code",
   "execution_count": 36,
   "id": "a8af8fc5",
   "metadata": {},
   "outputs": [
    {
     "data": {
      "text/html": [
       "<div>\n",
       "<style scoped>\n",
       "    .dataframe tbody tr th:only-of-type {\n",
       "        vertical-align: middle;\n",
       "    }\n",
       "\n",
       "    .dataframe tbody tr th {\n",
       "        vertical-align: top;\n",
       "    }\n",
       "\n",
       "    .dataframe thead th {\n",
       "        text-align: right;\n",
       "    }\n",
       "</style>\n",
       "<table border=\"1\" class=\"dataframe\">\n",
       "  <thead>\n",
       "    <tr style=\"text-align: right;\">\n",
       "      <th></th>\n",
       "      <th>sale</th>\n",
       "      <th>price</th>\n",
       "      <th>ghz</th>\n",
       "      <th>ram</th>\n",
       "      <th>hd</th>\n",
       "      <th>ssd</th>\n",
       "      <th>BIN</th>\n",
       "      <th>savings</th>\n",
       "    </tr>\n",
       "  </thead>\n",
       "  <tbody>\n",
       "    <tr>\n",
       "      <th>6</th>\n",
       "      <td>0</td>\n",
       "      <td>699.95</td>\n",
       "      <td>2.5</td>\n",
       "      <td>4.0</td>\n",
       "      <td>128.0</td>\n",
       "      <td>1</td>\n",
       "      <td>1</td>\n",
       "      <td>264.285959</td>\n",
       "    </tr>\n",
       "    <tr>\n",
       "      <th>7</th>\n",
       "      <td>0</td>\n",
       "      <td>437.71</td>\n",
       "      <td>2.5</td>\n",
       "      <td>4.0</td>\n",
       "      <td>128.0</td>\n",
       "      <td>1</td>\n",
       "      <td>1</td>\n",
       "      <td>2.045959</td>\n",
       "    </tr>\n",
       "    <tr>\n",
       "      <th>23</th>\n",
       "      <td>0</td>\n",
       "      <td>565.00</td>\n",
       "      <td>2.5</td>\n",
       "      <td>8.0</td>\n",
       "      <td>240.0</td>\n",
       "      <td>1</td>\n",
       "      <td>1</td>\n",
       "      <td>90.639956</td>\n",
       "    </tr>\n",
       "    <tr>\n",
       "      <th>30</th>\n",
       "      <td>0</td>\n",
       "      <td>500.00</td>\n",
       "      <td>2.7</td>\n",
       "      <td>8.0</td>\n",
       "      <td>160.0</td>\n",
       "      <td>1</td>\n",
       "      <td>0</td>\n",
       "      <td>58.356284</td>\n",
       "    </tr>\n",
       "    <tr>\n",
       "      <th>36</th>\n",
       "      <td>0</td>\n",
       "      <td>437.71</td>\n",
       "      <td>2.5</td>\n",
       "      <td>4.0</td>\n",
       "      <td>128.0</td>\n",
       "      <td>1</td>\n",
       "      <td>1</td>\n",
       "      <td>2.045959</td>\n",
       "    </tr>\n",
       "    <tr>\n",
       "      <th>39</th>\n",
       "      <td>0</td>\n",
       "      <td>499.99</td>\n",
       "      <td>2.7</td>\n",
       "      <td>8.0</td>\n",
       "      <td>128.0</td>\n",
       "      <td>1</td>\n",
       "      <td>0</td>\n",
       "      <td>58.186608</td>\n",
       "    </tr>\n",
       "    <tr>\n",
       "      <th>53</th>\n",
       "      <td>0</td>\n",
       "      <td>564.95</td>\n",
       "      <td>2.5</td>\n",
       "      <td>8.0</td>\n",
       "      <td>128.0</td>\n",
       "      <td>1</td>\n",
       "      <td>1</td>\n",
       "      <td>90.031090</td>\n",
       "    </tr>\n",
       "    <tr>\n",
       "      <th>54</th>\n",
       "      <td>0</td>\n",
       "      <td>560.00</td>\n",
       "      <td>2.7</td>\n",
       "      <td>8.0</td>\n",
       "      <td>160.0</td>\n",
       "      <td>1</td>\n",
       "      <td>0</td>\n",
       "      <td>118.356284</td>\n",
       "    </tr>\n",
       "    <tr>\n",
       "      <th>75</th>\n",
       "      <td>0</td>\n",
       "      <td>565.00</td>\n",
       "      <td>2.7</td>\n",
       "      <td>8.0</td>\n",
       "      <td>160.0</td>\n",
       "      <td>1</td>\n",
       "      <td>0</td>\n",
       "      <td>123.356284</td>\n",
       "    </tr>\n",
       "    <tr>\n",
       "      <th>100</th>\n",
       "      <td>0</td>\n",
       "      <td>579.00</td>\n",
       "      <td>2.7</td>\n",
       "      <td>8.0</td>\n",
       "      <td>160.0</td>\n",
       "      <td>1</td>\n",
       "      <td>0</td>\n",
       "      <td>137.356284</td>\n",
       "    </tr>\n",
       "  </tbody>\n",
       "</table>\n",
       "</div>"
      ],
      "text/plain": [
       "     sale   price  ghz  ram     hd  ssd  BIN     savings\n",
       "6       0  699.95  2.5  4.0  128.0    1    1  264.285959\n",
       "7       0  437.71  2.5  4.0  128.0    1    1    2.045959\n",
       "23      0  565.00  2.5  8.0  240.0    1    1   90.639956\n",
       "30      0  500.00  2.7  8.0  160.0    1    0   58.356284\n",
       "36      0  437.71  2.5  4.0  128.0    1    1    2.045959\n",
       "39      0  499.99  2.7  8.0  128.0    1    0   58.186608\n",
       "53      0  564.95  2.5  8.0  128.0    1    1   90.031090\n",
       "54      0  560.00  2.7  8.0  160.0    1    0  118.356284\n",
       "75      0  565.00  2.7  8.0  160.0    1    0  123.356284\n",
       "100     0  579.00  2.7  8.0  160.0    1    0  137.356284"
      ]
     },
     "execution_count": 36,
     "metadata": {},
     "output_type": "execute_result"
    }
   ],
   "source": [
    "data[\"savings\"] =  data[\"price\"] - model1.predict(X1)\n",
    "data[(model1.predict(X1) < data[\"price\"]) & (data[\"ssd\"] == 1)  & (data[\"sale\"] == 0) ]"
   ]
  },
  {
   "cell_type": "code",
   "execution_count": 37,
   "id": "13f0f4b1",
   "metadata": {},
   "outputs": [
    {
     "data": {
      "text/html": [
       "<div>\n",
       "<style scoped>\n",
       "    .dataframe tbody tr th:only-of-type {\n",
       "        vertical-align: middle;\n",
       "    }\n",
       "\n",
       "    .dataframe tbody tr th {\n",
       "        vertical-align: top;\n",
       "    }\n",
       "\n",
       "    .dataframe thead th {\n",
       "        text-align: right;\n",
       "    }\n",
       "</style>\n",
       "<table border=\"1\" class=\"dataframe\">\n",
       "  <thead>\n",
       "    <tr style=\"text-align: right;\">\n",
       "      <th></th>\n",
       "      <th>sale</th>\n",
       "      <th>price</th>\n",
       "      <th>ghz</th>\n",
       "      <th>ram</th>\n",
       "      <th>hd</th>\n",
       "      <th>ssd</th>\n",
       "      <th>BIN</th>\n",
       "      <th>savings</th>\n",
       "    </tr>\n",
       "  </thead>\n",
       "  <tbody>\n",
       "    <tr>\n",
       "      <th>23</th>\n",
       "      <td>0</td>\n",
       "      <td>565.00</td>\n",
       "      <td>2.5</td>\n",
       "      <td>8.0</td>\n",
       "      <td>240.0</td>\n",
       "      <td>1</td>\n",
       "      <td>1</td>\n",
       "      <td>90.639956</td>\n",
       "    </tr>\n",
       "    <tr>\n",
       "      <th>30</th>\n",
       "      <td>0</td>\n",
       "      <td>500.00</td>\n",
       "      <td>2.7</td>\n",
       "      <td>8.0</td>\n",
       "      <td>160.0</td>\n",
       "      <td>1</td>\n",
       "      <td>0</td>\n",
       "      <td>58.356284</td>\n",
       "    </tr>\n",
       "    <tr>\n",
       "      <th>53</th>\n",
       "      <td>0</td>\n",
       "      <td>564.95</td>\n",
       "      <td>2.5</td>\n",
       "      <td>8.0</td>\n",
       "      <td>128.0</td>\n",
       "      <td>1</td>\n",
       "      <td>1</td>\n",
       "      <td>90.031090</td>\n",
       "    </tr>\n",
       "    <tr>\n",
       "      <th>100</th>\n",
       "      <td>0</td>\n",
       "      <td>579.00</td>\n",
       "      <td>2.7</td>\n",
       "      <td>8.0</td>\n",
       "      <td>160.0</td>\n",
       "      <td>1</td>\n",
       "      <td>0</td>\n",
       "      <td>137.356284</td>\n",
       "    </tr>\n",
       "  </tbody>\n",
       "</table>\n",
       "</div>"
      ],
      "text/plain": [
       "     sale   price  ghz  ram     hd  ssd  BIN     savings\n",
       "23      0  565.00  2.5  8.0  240.0    1    1   90.639956\n",
       "30      0  500.00  2.7  8.0  160.0    1    0   58.356284\n",
       "53      0  564.95  2.5  8.0  128.0    1    1   90.031090\n",
       "100     0  579.00  2.7  8.0  160.0    1    0  137.356284"
      ]
     },
     "execution_count": 37,
     "metadata": {},
     "output_type": "execute_result"
    }
   ],
   "source": [
    "data.loc[[23, 30, 53, 100]]"
   ]
  },
  {
   "cell_type": "code",
   "execution_count": null,
   "id": "5a00a811",
   "metadata": {},
   "outputs": [],
   "source": []
  },
  {
   "cell_type": "code",
   "execution_count": null,
   "id": "3ec4e9a3",
   "metadata": {},
   "outputs": [],
   "source": []
  },
  {
   "cell_type": "code",
   "execution_count": null,
   "id": "711aa6b9",
   "metadata": {},
   "outputs": [],
   "source": []
  },
  {
   "cell_type": "code",
   "execution_count": null,
   "id": "6d62654b",
   "metadata": {},
   "outputs": [],
   "source": []
  },
  {
   "cell_type": "code",
   "execution_count": null,
   "id": "1a27b2dd",
   "metadata": {},
   "outputs": [],
   "source": []
  },
  {
   "cell_type": "code",
   "execution_count": null,
   "id": "acbcf675",
   "metadata": {},
   "outputs": [],
   "source": []
  },
  {
   "cell_type": "code",
   "execution_count": null,
   "id": "3cefd4b5",
   "metadata": {},
   "outputs": [],
   "source": []
  }
 ],
 "metadata": {
  "kernelspec": {
   "display_name": "Python 3.8.8 64-bit ('base': conda)",
   "language": "python",
   "name": "python388jvsc74a57bd040d3a090f54c6569ab1632332b64b2c03c39dcf918b08424e98f38b5ae0af88f"
  },
  "language_info": {
   "codemirror_mode": {
    "name": "ipython",
    "version": 3
   },
   "file_extension": ".py",
   "mimetype": "text/x-python",
   "name": "python",
   "nbconvert_exporter": "python",
   "pygments_lexer": "ipython3",
   "version": "3.8.8"
  }
 },
 "nbformat": 4,
 "nbformat_minor": 5
}
