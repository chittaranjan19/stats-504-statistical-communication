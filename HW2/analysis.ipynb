{
 "cells": [
  {
   "cell_type": "code",
   "execution_count": 75,
   "id": "4cfceb38",
   "metadata": {},
   "outputs": [],
   "source": [
    "library(survival)"
   ]
  },
  {
   "cell_type": "markdown",
   "id": "cfe6863d",
   "metadata": {},
   "source": [
    "## Appropriate data manipulations"
   ]
  },
  {
   "cell_type": "code",
   "execution_count": 83,
   "id": "77fe7011",
   "metadata": {},
   "outputs": [
    {
     "data": {
      "text/html": [
       "<table class=\"dataframe\">\n",
       "<caption>A data.frame: 394 × 11</caption>\n",
       "<thead>\n",
       "\t<tr><th scope=col>X</th><th scope=col>id</th><th scope=col>laser</th><th scope=col>eye</th><th scope=col>age</th><th scope=col>type</th><th scope=col>trt</th><th scope=col>futime</th><th scope=col>status</th><th scope=col>risk</th><th scope=col>group</th></tr>\n",
       "\t<tr><th scope=col>&lt;int&gt;</th><th scope=col>&lt;int&gt;</th><th scope=col>&lt;fct&gt;</th><th scope=col>&lt;chr&gt;</th><th scope=col>&lt;int&gt;</th><th scope=col>&lt;fct&gt;</th><th scope=col>&lt;fct&gt;</th><th scope=col>&lt;dbl&gt;</th><th scope=col>&lt;int&gt;</th><th scope=col>&lt;int&gt;</th><th scope=col>&lt;fct&gt;</th></tr>\n",
       "</thead>\n",
       "<tbody>\n",
       "\t<tr><td> 1</td><td>  5</td><td>argon</td><td>left </td><td>28</td><td>adult   </td><td>1</td><td>46.23</td><td>0</td><td> 9</td><td>2</td></tr>\n",
       "\t<tr><td> 2</td><td>  5</td><td>argon</td><td>left </td><td>28</td><td>adult   </td><td>0</td><td>46.23</td><td>0</td><td> 9</td><td>0</td></tr>\n",
       "\t<tr><td> 3</td><td> 14</td><td>argon</td><td>right</td><td>12</td><td>juvenile</td><td>1</td><td>42.50</td><td>0</td><td> 8</td><td>2</td></tr>\n",
       "\t<tr><td> 4</td><td> 14</td><td>argon</td><td>right</td><td>12</td><td>juvenile</td><td>0</td><td>31.30</td><td>1</td><td> 6</td><td>0</td></tr>\n",
       "\t<tr><td> 5</td><td> 16</td><td>xenon</td><td>right</td><td> 9</td><td>juvenile</td><td>1</td><td>42.27</td><td>0</td><td>11</td><td>3</td></tr>\n",
       "\t<tr><td> 6</td><td> 16</td><td>xenon</td><td>right</td><td> 9</td><td>juvenile</td><td>0</td><td>42.27</td><td>0</td><td>11</td><td>1</td></tr>\n",
       "\t<tr><td> 7</td><td> 25</td><td>argon</td><td>left </td><td> 9</td><td>juvenile</td><td>1</td><td>20.60</td><td>0</td><td>11</td><td>2</td></tr>\n",
       "\t<tr><td> 8</td><td> 25</td><td>argon</td><td>left </td><td> 9</td><td>juvenile</td><td>0</td><td>20.60</td><td>0</td><td>11</td><td>0</td></tr>\n",
       "\t<tr><td> 9</td><td> 29</td><td>xenon</td><td>left </td><td>13</td><td>juvenile</td><td>1</td><td>38.77</td><td>0</td><td> 9</td><td>3</td></tr>\n",
       "\t<tr><td>10</td><td> 29</td><td>xenon</td><td>left </td><td>13</td><td>juvenile</td><td>0</td><td> 0.30</td><td>1</td><td>10</td><td>1</td></tr>\n",
       "\t<tr><td>11</td><td> 46</td><td>xenon</td><td>right</td><td>12</td><td>juvenile</td><td>1</td><td>65.23</td><td>0</td><td> 9</td><td>3</td></tr>\n",
       "\t<tr><td>12</td><td> 46</td><td>xenon</td><td>right</td><td>12</td><td>juvenile</td><td>0</td><td>54.27</td><td>1</td><td> 9</td><td>1</td></tr>\n",
       "\t<tr><td>13</td><td> 49</td><td>argon</td><td>right</td><td> 8</td><td>juvenile</td><td>1</td><td>63.50</td><td>0</td><td> 8</td><td>2</td></tr>\n",
       "\t<tr><td>14</td><td> 49</td><td>argon</td><td>right</td><td> 8</td><td>juvenile</td><td>0</td><td>10.80</td><td>1</td><td> 6</td><td>0</td></tr>\n",
       "\t<tr><td>15</td><td> 56</td><td>xenon</td><td>right</td><td>12</td><td>juvenile</td><td>1</td><td>23.17</td><td>0</td><td> 8</td><td>3</td></tr>\n",
       "\t<tr><td>16</td><td> 56</td><td>xenon</td><td>right</td><td>12</td><td>juvenile</td><td>0</td><td>23.17</td><td>0</td><td> 9</td><td>1</td></tr>\n",
       "\t<tr><td>17</td><td> 61</td><td>argon</td><td>right</td><td>16</td><td>juvenile</td><td>1</td><td> 1.47</td><td>0</td><td> 9</td><td>2</td></tr>\n",
       "\t<tr><td>18</td><td> 61</td><td>argon</td><td>right</td><td>16</td><td>juvenile</td><td>0</td><td> 1.47</td><td>0</td><td>10</td><td>0</td></tr>\n",
       "\t<tr><td>19</td><td> 71</td><td>argon</td><td>right</td><td>21</td><td>adult   </td><td>1</td><td>58.07</td><td>0</td><td> 9</td><td>2</td></tr>\n",
       "\t<tr><td>20</td><td> 71</td><td>argon</td><td>right</td><td>21</td><td>adult   </td><td>0</td><td>13.83</td><td>1</td><td> 9</td><td>0</td></tr>\n",
       "\t<tr><td>21</td><td>100</td><td>argon</td><td>left </td><td>23</td><td>adult   </td><td>1</td><td>46.43</td><td>1</td><td> 9</td><td>2</td></tr>\n",
       "\t<tr><td>22</td><td>100</td><td>argon</td><td>left </td><td>23</td><td>adult   </td><td>0</td><td>48.53</td><td>0</td><td> 9</td><td>0</td></tr>\n",
       "\t<tr><td>23</td><td>112</td><td>argon</td><td>right</td><td>44</td><td>adult   </td><td>1</td><td>44.40</td><td>0</td><td>11</td><td>2</td></tr>\n",
       "\t<tr><td>24</td><td>112</td><td>argon</td><td>right</td><td>44</td><td>adult   </td><td>0</td><td> 7.90</td><td>1</td><td>12</td><td>0</td></tr>\n",
       "\t<tr><td>25</td><td>120</td><td>xenon</td><td>left </td><td>47</td><td>adult   </td><td>1</td><td>39.57</td><td>0</td><td>11</td><td>3</td></tr>\n",
       "\t<tr><td>26</td><td>120</td><td>xenon</td><td>left </td><td>47</td><td>adult   </td><td>0</td><td>39.57</td><td>0</td><td> 6</td><td>1</td></tr>\n",
       "\t<tr><td>27</td><td>127</td><td>xenon</td><td>right</td><td>48</td><td>adult   </td><td>1</td><td>30.83</td><td>1</td><td> 6</td><td>3</td></tr>\n",
       "\t<tr><td>28</td><td>127</td><td>xenon</td><td>right</td><td>48</td><td>adult   </td><td>0</td><td>38.57</td><td>1</td><td>10</td><td>1</td></tr>\n",
       "\t<tr><td>29</td><td>133</td><td>argon</td><td>right</td><td>26</td><td>adult   </td><td>1</td><td>66.27</td><td>0</td><td>10</td><td>2</td></tr>\n",
       "\t<tr><td>30</td><td>133</td><td>argon</td><td>right</td><td>26</td><td>adult   </td><td>0</td><td>14.10</td><td>1</td><td> 9</td><td>0</td></tr>\n",
       "\t<tr><td>⋮</td><td>⋮</td><td>⋮</td><td>⋮</td><td>⋮</td><td>⋮</td><td>⋮</td><td>⋮</td><td>⋮</td><td>⋮</td><td>⋮</td></tr>\n",
       "\t<tr><td>365</td><td>1619</td><td>xenon</td><td>left </td><td>20</td><td>adult   </td><td>1</td><td>74.97</td><td>0</td><td> 9</td><td>3</td></tr>\n",
       "\t<tr><td>366</td><td>1619</td><td>xenon</td><td>left </td><td>20</td><td>adult   </td><td>0</td><td>61.83</td><td>1</td><td>12</td><td>1</td></tr>\n",
       "\t<tr><td>367</td><td>1627</td><td>xenon</td><td>left </td><td>10</td><td>juvenile</td><td>1</td><td> 6.57</td><td>1</td><td>10</td><td>3</td></tr>\n",
       "\t<tr><td>368</td><td>1627</td><td>xenon</td><td>left </td><td>10</td><td>juvenile</td><td>0</td><td>66.97</td><td>0</td><td>12</td><td>1</td></tr>\n",
       "\t<tr><td>369</td><td>1636</td><td>argon</td><td>right</td><td>16</td><td>juvenile</td><td>1</td><td>38.87</td><td>1</td><td> 6</td><td>2</td></tr>\n",
       "\t<tr><td>370</td><td>1636</td><td>argon</td><td>right</td><td>16</td><td>juvenile</td><td>0</td><td>68.30</td><td>0</td><td> 6</td><td>0</td></tr>\n",
       "\t<tr><td>371</td><td>1640</td><td>xenon</td><td>left </td><td>10</td><td>juvenile</td><td>1</td><td>42.43</td><td>1</td><td>11</td><td>3</td></tr>\n",
       "\t<tr><td>372</td><td>1640</td><td>xenon</td><td>left </td><td>10</td><td>juvenile</td><td>0</td><td>46.63</td><td>1</td><td> 9</td><td>1</td></tr>\n",
       "\t<tr><td>373</td><td>1643</td><td>xenon</td><td>right</td><td>11</td><td>juvenile</td><td>1</td><td>67.07</td><td>0</td><td> 9</td><td>3</td></tr>\n",
       "\t<tr><td>374</td><td>1643</td><td>xenon</td><td>right</td><td>11</td><td>juvenile</td><td>0</td><td>67.07</td><td>0</td><td> 9</td><td>1</td></tr>\n",
       "\t<tr><td>375</td><td>1649</td><td>argon</td><td>right</td><td> 1</td><td>juvenile</td><td>1</td><td> 2.70</td><td>1</td><td>10</td><td>2</td></tr>\n",
       "\t<tr><td>376</td><td>1649</td><td>argon</td><td>right</td><td> 1</td><td>juvenile</td><td>0</td><td> 2.70</td><td>0</td><td>12</td><td>0</td></tr>\n",
       "\t<tr><td>377</td><td>1666</td><td>argon</td><td>left </td><td>17</td><td>juvenile</td><td>1</td><td>63.80</td><td>0</td><td> 6</td><td>2</td></tr>\n",
       "\t<tr><td>378</td><td>1666</td><td>argon</td><td>left </td><td>17</td><td>juvenile</td><td>0</td><td>63.80</td><td>0</td><td> 8</td><td>0</td></tr>\n",
       "\t<tr><td>379</td><td>1672</td><td>argon</td><td>left </td><td> 7</td><td>juvenile</td><td>1</td><td>32.63</td><td>0</td><td> 9</td><td>2</td></tr>\n",
       "\t<tr><td>380</td><td>1672</td><td>argon</td><td>left </td><td> 7</td><td>juvenile</td><td>0</td><td>32.63</td><td>0</td><td> 9</td><td>0</td></tr>\n",
       "\t<tr><td>381</td><td>1683</td><td>xenon</td><td>right</td><td>29</td><td>adult   </td><td>1</td><td>62.00</td><td>0</td><td>10</td><td>3</td></tr>\n",
       "\t<tr><td>382</td><td>1683</td><td>xenon</td><td>right</td><td>29</td><td>adult   </td><td>0</td><td>62.00</td><td>0</td><td> 8</td><td>1</td></tr>\n",
       "\t<tr><td>383</td><td>1688</td><td>xenon</td><td>left </td><td> 5</td><td>juvenile</td><td>1</td><td>13.10</td><td>1</td><td>11</td><td>3</td></tr>\n",
       "\t<tr><td>384</td><td>1688</td><td>xenon</td><td>left </td><td> 5</td><td>juvenile</td><td>0</td><td>54.80</td><td>0</td><td>10</td><td>1</td></tr>\n",
       "\t<tr><td>385</td><td>1705</td><td>xenon</td><td>left </td><td> 1</td><td>juvenile</td><td>1</td><td> 8.00</td><td>0</td><td> 8</td><td>3</td></tr>\n",
       "\t<tr><td>386</td><td>1705</td><td>xenon</td><td>left </td><td> 1</td><td>juvenile</td><td>0</td><td> 8.00</td><td>0</td><td> 8</td><td>1</td></tr>\n",
       "\t<tr><td>387</td><td>1717</td><td>argon</td><td>left </td><td>22</td><td>adult   </td><td>1</td><td>51.60</td><td>0</td><td>12</td><td>2</td></tr>\n",
       "\t<tr><td>388</td><td>1717</td><td>argon</td><td>left </td><td>22</td><td>adult   </td><td>0</td><td>42.33</td><td>1</td><td>11</td><td>0</td></tr>\n",
       "\t<tr><td>389</td><td>1727</td><td>argon</td><td>right</td><td>33</td><td>adult   </td><td>1</td><td>49.97</td><td>0</td><td> 9</td><td>2</td></tr>\n",
       "\t<tr><td>390</td><td>1727</td><td>argon</td><td>right</td><td>33</td><td>adult   </td><td>0</td><td> 2.90</td><td>1</td><td>10</td><td>0</td></tr>\n",
       "\t<tr><td>391</td><td>1746</td><td>argon</td><td>right</td><td> 3</td><td>juvenile</td><td>1</td><td>45.90</td><td>0</td><td>10</td><td>2</td></tr>\n",
       "\t<tr><td>392</td><td>1746</td><td>argon</td><td>right</td><td> 3</td><td>juvenile</td><td>0</td><td> 1.43</td><td>1</td><td>10</td><td>0</td></tr>\n",
       "\t<tr><td>393</td><td>1749</td><td>argon</td><td>right</td><td>32</td><td>adult   </td><td>1</td><td>41.93</td><td>0</td><td> 9</td><td>2</td></tr>\n",
       "\t<tr><td>394</td><td>1749</td><td>argon</td><td>right</td><td>32</td><td>adult   </td><td>0</td><td>41.93</td><td>0</td><td> 9</td><td>0</td></tr>\n",
       "</tbody>\n",
       "</table>\n"
      ],
      "text/latex": [
       "A data.frame: 394 × 11\n",
       "\\begin{tabular}{lllllllllll}\n",
       " X & id & laser & eye & age & type & trt & futime & status & risk & group\\\\\n",
       " <int> & <int> & <fct> & <chr> & <int> & <fct> & <fct> & <dbl> & <int> & <int> & <fct>\\\\\n",
       "\\hline\n",
       "\t  1 &   5 & argon & left  & 28 & adult    & 1 & 46.23 & 0 &  9 & 2\\\\\n",
       "\t  2 &   5 & argon & left  & 28 & adult    & 0 & 46.23 & 0 &  9 & 0\\\\\n",
       "\t  3 &  14 & argon & right & 12 & juvenile & 1 & 42.50 & 0 &  8 & 2\\\\\n",
       "\t  4 &  14 & argon & right & 12 & juvenile & 0 & 31.30 & 1 &  6 & 0\\\\\n",
       "\t  5 &  16 & xenon & right &  9 & juvenile & 1 & 42.27 & 0 & 11 & 3\\\\\n",
       "\t  6 &  16 & xenon & right &  9 & juvenile & 0 & 42.27 & 0 & 11 & 1\\\\\n",
       "\t  7 &  25 & argon & left  &  9 & juvenile & 1 & 20.60 & 0 & 11 & 2\\\\\n",
       "\t  8 &  25 & argon & left  &  9 & juvenile & 0 & 20.60 & 0 & 11 & 0\\\\\n",
       "\t  9 &  29 & xenon & left  & 13 & juvenile & 1 & 38.77 & 0 &  9 & 3\\\\\n",
       "\t 10 &  29 & xenon & left  & 13 & juvenile & 0 &  0.30 & 1 & 10 & 1\\\\\n",
       "\t 11 &  46 & xenon & right & 12 & juvenile & 1 & 65.23 & 0 &  9 & 3\\\\\n",
       "\t 12 &  46 & xenon & right & 12 & juvenile & 0 & 54.27 & 1 &  9 & 1\\\\\n",
       "\t 13 &  49 & argon & right &  8 & juvenile & 1 & 63.50 & 0 &  8 & 2\\\\\n",
       "\t 14 &  49 & argon & right &  8 & juvenile & 0 & 10.80 & 1 &  6 & 0\\\\\n",
       "\t 15 &  56 & xenon & right & 12 & juvenile & 1 & 23.17 & 0 &  8 & 3\\\\\n",
       "\t 16 &  56 & xenon & right & 12 & juvenile & 0 & 23.17 & 0 &  9 & 1\\\\\n",
       "\t 17 &  61 & argon & right & 16 & juvenile & 1 &  1.47 & 0 &  9 & 2\\\\\n",
       "\t 18 &  61 & argon & right & 16 & juvenile & 0 &  1.47 & 0 & 10 & 0\\\\\n",
       "\t 19 &  71 & argon & right & 21 & adult    & 1 & 58.07 & 0 &  9 & 2\\\\\n",
       "\t 20 &  71 & argon & right & 21 & adult    & 0 & 13.83 & 1 &  9 & 0\\\\\n",
       "\t 21 & 100 & argon & left  & 23 & adult    & 1 & 46.43 & 1 &  9 & 2\\\\\n",
       "\t 22 & 100 & argon & left  & 23 & adult    & 0 & 48.53 & 0 &  9 & 0\\\\\n",
       "\t 23 & 112 & argon & right & 44 & adult    & 1 & 44.40 & 0 & 11 & 2\\\\\n",
       "\t 24 & 112 & argon & right & 44 & adult    & 0 &  7.90 & 1 & 12 & 0\\\\\n",
       "\t 25 & 120 & xenon & left  & 47 & adult    & 1 & 39.57 & 0 & 11 & 3\\\\\n",
       "\t 26 & 120 & xenon & left  & 47 & adult    & 0 & 39.57 & 0 &  6 & 1\\\\\n",
       "\t 27 & 127 & xenon & right & 48 & adult    & 1 & 30.83 & 1 &  6 & 3\\\\\n",
       "\t 28 & 127 & xenon & right & 48 & adult    & 0 & 38.57 & 1 & 10 & 1\\\\\n",
       "\t 29 & 133 & argon & right & 26 & adult    & 1 & 66.27 & 0 & 10 & 2\\\\\n",
       "\t 30 & 133 & argon & right & 26 & adult    & 0 & 14.10 & 1 &  9 & 0\\\\\n",
       "\t ⋮ & ⋮ & ⋮ & ⋮ & ⋮ & ⋮ & ⋮ & ⋮ & ⋮ & ⋮ & ⋮\\\\\n",
       "\t 365 & 1619 & xenon & left  & 20 & adult    & 1 & 74.97 & 0 &  9 & 3\\\\\n",
       "\t 366 & 1619 & xenon & left  & 20 & adult    & 0 & 61.83 & 1 & 12 & 1\\\\\n",
       "\t 367 & 1627 & xenon & left  & 10 & juvenile & 1 &  6.57 & 1 & 10 & 3\\\\\n",
       "\t 368 & 1627 & xenon & left  & 10 & juvenile & 0 & 66.97 & 0 & 12 & 1\\\\\n",
       "\t 369 & 1636 & argon & right & 16 & juvenile & 1 & 38.87 & 1 &  6 & 2\\\\\n",
       "\t 370 & 1636 & argon & right & 16 & juvenile & 0 & 68.30 & 0 &  6 & 0\\\\\n",
       "\t 371 & 1640 & xenon & left  & 10 & juvenile & 1 & 42.43 & 1 & 11 & 3\\\\\n",
       "\t 372 & 1640 & xenon & left  & 10 & juvenile & 0 & 46.63 & 1 &  9 & 1\\\\\n",
       "\t 373 & 1643 & xenon & right & 11 & juvenile & 1 & 67.07 & 0 &  9 & 3\\\\\n",
       "\t 374 & 1643 & xenon & right & 11 & juvenile & 0 & 67.07 & 0 &  9 & 1\\\\\n",
       "\t 375 & 1649 & argon & right &  1 & juvenile & 1 &  2.70 & 1 & 10 & 2\\\\\n",
       "\t 376 & 1649 & argon & right &  1 & juvenile & 0 &  2.70 & 0 & 12 & 0\\\\\n",
       "\t 377 & 1666 & argon & left  & 17 & juvenile & 1 & 63.80 & 0 &  6 & 2\\\\\n",
       "\t 378 & 1666 & argon & left  & 17 & juvenile & 0 & 63.80 & 0 &  8 & 0\\\\\n",
       "\t 379 & 1672 & argon & left  &  7 & juvenile & 1 & 32.63 & 0 &  9 & 2\\\\\n",
       "\t 380 & 1672 & argon & left  &  7 & juvenile & 0 & 32.63 & 0 &  9 & 0\\\\\n",
       "\t 381 & 1683 & xenon & right & 29 & adult    & 1 & 62.00 & 0 & 10 & 3\\\\\n",
       "\t 382 & 1683 & xenon & right & 29 & adult    & 0 & 62.00 & 0 &  8 & 1\\\\\n",
       "\t 383 & 1688 & xenon & left  &  5 & juvenile & 1 & 13.10 & 1 & 11 & 3\\\\\n",
       "\t 384 & 1688 & xenon & left  &  5 & juvenile & 0 & 54.80 & 0 & 10 & 1\\\\\n",
       "\t 385 & 1705 & xenon & left  &  1 & juvenile & 1 &  8.00 & 0 &  8 & 3\\\\\n",
       "\t 386 & 1705 & xenon & left  &  1 & juvenile & 0 &  8.00 & 0 &  8 & 1\\\\\n",
       "\t 387 & 1717 & argon & left  & 22 & adult    & 1 & 51.60 & 0 & 12 & 2\\\\\n",
       "\t 388 & 1717 & argon & left  & 22 & adult    & 0 & 42.33 & 1 & 11 & 0\\\\\n",
       "\t 389 & 1727 & argon & right & 33 & adult    & 1 & 49.97 & 0 &  9 & 2\\\\\n",
       "\t 390 & 1727 & argon & right & 33 & adult    & 0 &  2.90 & 1 & 10 & 0\\\\\n",
       "\t 391 & 1746 & argon & right &  3 & juvenile & 1 & 45.90 & 0 & 10 & 2\\\\\n",
       "\t 392 & 1746 & argon & right &  3 & juvenile & 0 &  1.43 & 1 & 10 & 0\\\\\n",
       "\t 393 & 1749 & argon & right & 32 & adult    & 1 & 41.93 & 0 &  9 & 2\\\\\n",
       "\t 394 & 1749 & argon & right & 32 & adult    & 0 & 41.93 & 0 &  9 & 0\\\\\n",
       "\\end{tabular}\n"
      ],
      "text/markdown": [
       "\n",
       "A data.frame: 394 × 11\n",
       "\n",
       "| X &lt;int&gt; | id &lt;int&gt; | laser &lt;fct&gt; | eye &lt;chr&gt; | age &lt;int&gt; | type &lt;fct&gt; | trt &lt;fct&gt; | futime &lt;dbl&gt; | status &lt;int&gt; | risk &lt;int&gt; | group &lt;fct&gt; |\n",
       "|---|---|---|---|---|---|---|---|---|---|---|\n",
       "|  1 |   5 | argon | left  | 28 | adult    | 1 | 46.23 | 0 |  9 | 2 |\n",
       "|  2 |   5 | argon | left  | 28 | adult    | 0 | 46.23 | 0 |  9 | 0 |\n",
       "|  3 |  14 | argon | right | 12 | juvenile | 1 | 42.50 | 0 |  8 | 2 |\n",
       "|  4 |  14 | argon | right | 12 | juvenile | 0 | 31.30 | 1 |  6 | 0 |\n",
       "|  5 |  16 | xenon | right |  9 | juvenile | 1 | 42.27 | 0 | 11 | 3 |\n",
       "|  6 |  16 | xenon | right |  9 | juvenile | 0 | 42.27 | 0 | 11 | 1 |\n",
       "|  7 |  25 | argon | left  |  9 | juvenile | 1 | 20.60 | 0 | 11 | 2 |\n",
       "|  8 |  25 | argon | left  |  9 | juvenile | 0 | 20.60 | 0 | 11 | 0 |\n",
       "|  9 |  29 | xenon | left  | 13 | juvenile | 1 | 38.77 | 0 |  9 | 3 |\n",
       "| 10 |  29 | xenon | left  | 13 | juvenile | 0 |  0.30 | 1 | 10 | 1 |\n",
       "| 11 |  46 | xenon | right | 12 | juvenile | 1 | 65.23 | 0 |  9 | 3 |\n",
       "| 12 |  46 | xenon | right | 12 | juvenile | 0 | 54.27 | 1 |  9 | 1 |\n",
       "| 13 |  49 | argon | right |  8 | juvenile | 1 | 63.50 | 0 |  8 | 2 |\n",
       "| 14 |  49 | argon | right |  8 | juvenile | 0 | 10.80 | 1 |  6 | 0 |\n",
       "| 15 |  56 | xenon | right | 12 | juvenile | 1 | 23.17 | 0 |  8 | 3 |\n",
       "| 16 |  56 | xenon | right | 12 | juvenile | 0 | 23.17 | 0 |  9 | 1 |\n",
       "| 17 |  61 | argon | right | 16 | juvenile | 1 |  1.47 | 0 |  9 | 2 |\n",
       "| 18 |  61 | argon | right | 16 | juvenile | 0 |  1.47 | 0 | 10 | 0 |\n",
       "| 19 |  71 | argon | right | 21 | adult    | 1 | 58.07 | 0 |  9 | 2 |\n",
       "| 20 |  71 | argon | right | 21 | adult    | 0 | 13.83 | 1 |  9 | 0 |\n",
       "| 21 | 100 | argon | left  | 23 | adult    | 1 | 46.43 | 1 |  9 | 2 |\n",
       "| 22 | 100 | argon | left  | 23 | adult    | 0 | 48.53 | 0 |  9 | 0 |\n",
       "| 23 | 112 | argon | right | 44 | adult    | 1 | 44.40 | 0 | 11 | 2 |\n",
       "| 24 | 112 | argon | right | 44 | adult    | 0 |  7.90 | 1 | 12 | 0 |\n",
       "| 25 | 120 | xenon | left  | 47 | adult    | 1 | 39.57 | 0 | 11 | 3 |\n",
       "| 26 | 120 | xenon | left  | 47 | adult    | 0 | 39.57 | 0 |  6 | 1 |\n",
       "| 27 | 127 | xenon | right | 48 | adult    | 1 | 30.83 | 1 |  6 | 3 |\n",
       "| 28 | 127 | xenon | right | 48 | adult    | 0 | 38.57 | 1 | 10 | 1 |\n",
       "| 29 | 133 | argon | right | 26 | adult    | 1 | 66.27 | 0 | 10 | 2 |\n",
       "| 30 | 133 | argon | right | 26 | adult    | 0 | 14.10 | 1 |  9 | 0 |\n",
       "| ⋮ | ⋮ | ⋮ | ⋮ | ⋮ | ⋮ | ⋮ | ⋮ | ⋮ | ⋮ | ⋮ |\n",
       "| 365 | 1619 | xenon | left  | 20 | adult    | 1 | 74.97 | 0 |  9 | 3 |\n",
       "| 366 | 1619 | xenon | left  | 20 | adult    | 0 | 61.83 | 1 | 12 | 1 |\n",
       "| 367 | 1627 | xenon | left  | 10 | juvenile | 1 |  6.57 | 1 | 10 | 3 |\n",
       "| 368 | 1627 | xenon | left  | 10 | juvenile | 0 | 66.97 | 0 | 12 | 1 |\n",
       "| 369 | 1636 | argon | right | 16 | juvenile | 1 | 38.87 | 1 |  6 | 2 |\n",
       "| 370 | 1636 | argon | right | 16 | juvenile | 0 | 68.30 | 0 |  6 | 0 |\n",
       "| 371 | 1640 | xenon | left  | 10 | juvenile | 1 | 42.43 | 1 | 11 | 3 |\n",
       "| 372 | 1640 | xenon | left  | 10 | juvenile | 0 | 46.63 | 1 |  9 | 1 |\n",
       "| 373 | 1643 | xenon | right | 11 | juvenile | 1 | 67.07 | 0 |  9 | 3 |\n",
       "| 374 | 1643 | xenon | right | 11 | juvenile | 0 | 67.07 | 0 |  9 | 1 |\n",
       "| 375 | 1649 | argon | right |  1 | juvenile | 1 |  2.70 | 1 | 10 | 2 |\n",
       "| 376 | 1649 | argon | right |  1 | juvenile | 0 |  2.70 | 0 | 12 | 0 |\n",
       "| 377 | 1666 | argon | left  | 17 | juvenile | 1 | 63.80 | 0 |  6 | 2 |\n",
       "| 378 | 1666 | argon | left  | 17 | juvenile | 0 | 63.80 | 0 |  8 | 0 |\n",
       "| 379 | 1672 | argon | left  |  7 | juvenile | 1 | 32.63 | 0 |  9 | 2 |\n",
       "| 380 | 1672 | argon | left  |  7 | juvenile | 0 | 32.63 | 0 |  9 | 0 |\n",
       "| 381 | 1683 | xenon | right | 29 | adult    | 1 | 62.00 | 0 | 10 | 3 |\n",
       "| 382 | 1683 | xenon | right | 29 | adult    | 0 | 62.00 | 0 |  8 | 1 |\n",
       "| 383 | 1688 | xenon | left  |  5 | juvenile | 1 | 13.10 | 1 | 11 | 3 |\n",
       "| 384 | 1688 | xenon | left  |  5 | juvenile | 0 | 54.80 | 0 | 10 | 1 |\n",
       "| 385 | 1705 | xenon | left  |  1 | juvenile | 1 |  8.00 | 0 |  8 | 3 |\n",
       "| 386 | 1705 | xenon | left  |  1 | juvenile | 0 |  8.00 | 0 |  8 | 1 |\n",
       "| 387 | 1717 | argon | left  | 22 | adult    | 1 | 51.60 | 0 | 12 | 2 |\n",
       "| 388 | 1717 | argon | left  | 22 | adult    | 0 | 42.33 | 1 | 11 | 0 |\n",
       "| 389 | 1727 | argon | right | 33 | adult    | 1 | 49.97 | 0 |  9 | 2 |\n",
       "| 390 | 1727 | argon | right | 33 | adult    | 0 |  2.90 | 1 | 10 | 0 |\n",
       "| 391 | 1746 | argon | right |  3 | juvenile | 1 | 45.90 | 0 | 10 | 2 |\n",
       "| 392 | 1746 | argon | right |  3 | juvenile | 0 |  1.43 | 1 | 10 | 0 |\n",
       "| 393 | 1749 | argon | right | 32 | adult    | 1 | 41.93 | 0 |  9 | 2 |\n",
       "| 394 | 1749 | argon | right | 32 | adult    | 0 | 41.93 | 0 |  9 | 0 |\n",
       "\n"
      ],
      "text/plain": [
       "    X   id   laser eye   age type     trt futime status risk group\n",
       "1    1    5  argon left  28  adult    1   46.23  0       9   2    \n",
       "2    2    5  argon left  28  adult    0   46.23  0       9   0    \n",
       "3    3   14  argon right 12  juvenile 1   42.50  0       8   2    \n",
       "4    4   14  argon right 12  juvenile 0   31.30  1       6   0    \n",
       "5    5   16  xenon right  9  juvenile 1   42.27  0      11   3    \n",
       "6    6   16  xenon right  9  juvenile 0   42.27  0      11   1    \n",
       "7    7   25  argon left   9  juvenile 1   20.60  0      11   2    \n",
       "8    8   25  argon left   9  juvenile 0   20.60  0      11   0    \n",
       "9    9   29  xenon left  13  juvenile 1   38.77  0       9   3    \n",
       "10  10   29  xenon left  13  juvenile 0    0.30  1      10   1    \n",
       "11  11   46  xenon right 12  juvenile 1   65.23  0       9   3    \n",
       "12  12   46  xenon right 12  juvenile 0   54.27  1       9   1    \n",
       "13  13   49  argon right  8  juvenile 1   63.50  0       8   2    \n",
       "14  14   49  argon right  8  juvenile 0   10.80  1       6   0    \n",
       "15  15   56  xenon right 12  juvenile 1   23.17  0       8   3    \n",
       "16  16   56  xenon right 12  juvenile 0   23.17  0       9   1    \n",
       "17  17   61  argon right 16  juvenile 1    1.47  0       9   2    \n",
       "18  18   61  argon right 16  juvenile 0    1.47  0      10   0    \n",
       "19  19   71  argon right 21  adult    1   58.07  0       9   2    \n",
       "20  20   71  argon right 21  adult    0   13.83  1       9   0    \n",
       "21  21  100  argon left  23  adult    1   46.43  1       9   2    \n",
       "22  22  100  argon left  23  adult    0   48.53  0       9   0    \n",
       "23  23  112  argon right 44  adult    1   44.40  0      11   2    \n",
       "24  24  112  argon right 44  adult    0    7.90  1      12   0    \n",
       "25  25  120  xenon left  47  adult    1   39.57  0      11   3    \n",
       "26  26  120  xenon left  47  adult    0   39.57  0       6   1    \n",
       "27  27  127  xenon right 48  adult    1   30.83  1       6   3    \n",
       "28  28  127  xenon right 48  adult    0   38.57  1      10   1    \n",
       "29  29  133  argon right 26  adult    1   66.27  0      10   2    \n",
       "30  30  133  argon right 26  adult    0   14.10  1       9   0    \n",
       "⋮   ⋮   ⋮    ⋮     ⋮     ⋮   ⋮        ⋮   ⋮      ⋮      ⋮    ⋮    \n",
       "365 365 1619 xenon left  20  adult    1   74.97  0       9   3    \n",
       "366 366 1619 xenon left  20  adult    0   61.83  1      12   1    \n",
       "367 367 1627 xenon left  10  juvenile 1    6.57  1      10   3    \n",
       "368 368 1627 xenon left  10  juvenile 0   66.97  0      12   1    \n",
       "369 369 1636 argon right 16  juvenile 1   38.87  1       6   2    \n",
       "370 370 1636 argon right 16  juvenile 0   68.30  0       6   0    \n",
       "371 371 1640 xenon left  10  juvenile 1   42.43  1      11   3    \n",
       "372 372 1640 xenon left  10  juvenile 0   46.63  1       9   1    \n",
       "373 373 1643 xenon right 11  juvenile 1   67.07  0       9   3    \n",
       "374 374 1643 xenon right 11  juvenile 0   67.07  0       9   1    \n",
       "375 375 1649 argon right  1  juvenile 1    2.70  1      10   2    \n",
       "376 376 1649 argon right  1  juvenile 0    2.70  0      12   0    \n",
       "377 377 1666 argon left  17  juvenile 1   63.80  0       6   2    \n",
       "378 378 1666 argon left  17  juvenile 0   63.80  0       8   0    \n",
       "379 379 1672 argon left   7  juvenile 1   32.63  0       9   2    \n",
       "380 380 1672 argon left   7  juvenile 0   32.63  0       9   0    \n",
       "381 381 1683 xenon right 29  adult    1   62.00  0      10   3    \n",
       "382 382 1683 xenon right 29  adult    0   62.00  0       8   1    \n",
       "383 383 1688 xenon left   5  juvenile 1   13.10  1      11   3    \n",
       "384 384 1688 xenon left   5  juvenile 0   54.80  0      10   1    \n",
       "385 385 1705 xenon left   1  juvenile 1    8.00  0       8   3    \n",
       "386 386 1705 xenon left   1  juvenile 0    8.00  0       8   1    \n",
       "387 387 1717 argon left  22  adult    1   51.60  0      12   2    \n",
       "388 388 1717 argon left  22  adult    0   42.33  1      11   0    \n",
       "389 389 1727 argon right 33  adult    1   49.97  0       9   2    \n",
       "390 390 1727 argon right 33  adult    0    2.90  1      10   0    \n",
       "391 391 1746 argon right  3  juvenile 1   45.90  0      10   2    \n",
       "392 392 1746 argon right  3  juvenile 0    1.43  1      10   0    \n",
       "393 393 1749 argon right 32  adult    1   41.93  0       9   2    \n",
       "394 394 1749 argon right 32  adult    0   41.93  0       9   0    "
      ]
     },
     "metadata": {},
     "output_type": "display_data"
    }
   ],
   "source": [
    "dat <- read.csv(\"diabeticVision.csv\")\n",
    "dat$trt = factor(dat$trt)\n",
    "dat$laser = factor(dat$laser)\n",
    "dat$type = factor(dat$type)\n",
    "dat$group = factor(dat$group)\n",
    "dat"
   ]
  },
  {
   "cell_type": "code",
   "execution_count": 28,
   "id": "f4104f8a",
   "metadata": {},
   "outputs": [
    {
     "data": {
      "text/html": [
       "<style>\n",
       ".list-inline {list-style: none; margin:0; padding: 0}\n",
       ".list-inline>li {display: inline-block}\n",
       ".list-inline>li:not(:last-child)::after {content: \"\\00b7\"; padding: 0 .5ex}\n",
       "</style>\n",
       "<ol class=list-inline><li>'0'</li><li>'1'</li><li>'2'</li><li>'3'</li></ol>\n"
      ],
      "text/latex": [
       "\\begin{enumerate*}\n",
       "\\item '0'\n",
       "\\item '1'\n",
       "\\item '2'\n",
       "\\item '3'\n",
       "\\end{enumerate*}\n"
      ],
      "text/markdown": [
       "1. '0'\n",
       "2. '1'\n",
       "3. '2'\n",
       "4. '3'\n",
       "\n",
       "\n"
      ],
      "text/plain": [
       "[1] \"0\" \"1\" \"2\" \"3\""
      ]
     },
     "metadata": {},
     "output_type": "display_data"
    }
   ],
   "source": [
    "levels(dat$group)"
   ]
  },
  {
   "cell_type": "markdown",
   "id": "806d8669",
   "metadata": {},
   "source": [
    "## Kaplan-Meier Curves and Log Rank"
   ]
  },
  {
   "cell_type": "code",
   "execution_count": 76,
   "id": "51d38915",
   "metadata": {},
   "outputs": [
    {
     "data": {
      "image/png": "[encoded data removed]",
      "text/plain": [
       "Plot with title “Survival Rates”"
      ]
     },
     "metadata": {
      "image/png": {
       "height": 420,
       "width": 420
      }
     },
     "output_type": "display_data"
    }
   ],
   "source": [
    "survobj <- with(dat, Surv(futime, status))\n",
    "\n",
    "# ph$compas <- cut(ph$decile_score, breaks=c(0,3,6,10))\n",
    "fitc <- survfit(survobj~group, data=dat)\n",
    "plot(fitc, xlab=\"Time at Risk (Months)\", \n",
    "   ylab=\"Percent With Vision\", yscale=100, ylim=c(1, 0.4),\n",
    "   main=\"Survival Rates\",\n",
    "   col = c('blue', 'red', 'blue', 'red'),\n",
    "   lty = c('solid', 'solid', 'dashed', 'dashed')\n",
    ")\n",
    "legend_text = c('Argon Control Group', 'Xenon Control Group', 'Argon Treatment Group', 'Xenon Treatment Group')\n",
    "legend('bottomleft', legend=legend_text, bty='n',\n",
    "       col=c('blue', 'red', 'blue', 'red'), lty=c('solid', 'solid', 'dashed', 'dashed'))\n",
    "text(62, 0.9, 'Log-Rank Test\\n p<0.001', cex=1.4)"
   ]
  },
  {
   "cell_type": "code",
   "execution_count": 6,
   "id": "0de0ad05",
   "metadata": {},
   "outputs": [],
   "source": [
    "dat$group = relevel(dat$group, ref=\"2\")"
   ]
  },
  {
   "cell_type": "code",
   "execution_count": 77,
   "id": "5dbbcabc",
   "metadata": {},
   "outputs": [
    {
     "data": {
      "text/html": [
       "<table class=\"dataframe\">\n",
       "<caption>A data.frame.ff: 9 × 5</caption>\n",
       "<thead>\n",
       "\t<tr><th></th><th scope=col>Dependent: Surv(futime, status)</th><th scope=col> </th><th scope=col>all</th><th scope=col>HR (univariable)</th><th scope=col>HR (multivariable)</th></tr>\n",
       "\t<tr><th></th><th scope=col>&lt;chr&gt;</th><th scope=col>&lt;chr&gt;</th><th scope=col>&lt;chr&gt;</th><th scope=col>&lt;chr&gt;</th><th scope=col>&lt;chr&gt;</th></tr>\n",
       "</thead>\n",
       "<tbody>\n",
       "\t<tr><th scope=row>8</th><td>trt           </td><td>0          </td><td>197 (50.0) </td><td>-                        </td><td>-                        </td></tr>\n",
       "\t<tr><th scope=row>9</th><td>              </td><td>1          </td><td>197 (50.0) </td><td>-                        </td><td>-                        </td></tr>\n",
       "\t<tr><th scope=row>3</th><td>laser         </td><td>argon      </td><td>194 (49.2) </td><td>-                        </td><td>-                        </td></tr>\n",
       "\t<tr><th scope=row>4</th><td>              </td><td>xenon      </td><td>200 (50.8) </td><td>0.85 (0.57-1.25, p=0.412)</td><td>0.75 (0.46-1.22, p=0.247)</td></tr>\n",
       "\t<tr><th scope=row>1</th><td>age           </td><td>Mean (SD)  </td><td>20.8 (14.8)</td><td>1.00 (0.99-1.01, p=0.604)</td><td>1.01 (0.99-1.02, p=0.358)</td></tr>\n",
       "\t<tr><th scope=row>5</th><td>risk          </td><td>Mean (SD)  </td><td>9.7 (1.5)  </td><td>1.16 (1.04-1.29, p=0.009)</td><td>1.19 (1.03-1.36, p=0.014)</td></tr>\n",
       "\t<tr><th scope=row>2</th><td>frailty(id)   </td><td>           </td><td>           </td><td>-                        </td><td>-                        </td></tr>\n",
       "\t<tr><th scope=row>6</th><td><span style=white-space:pre-wrap>NA            </span></td><td><span style=white-space:pre-wrap>NA         </span></td><td><span style=white-space:pre-wrap>NA         </span></td><td>0.47 (0.30-0.74, p=0.001)</td><td>0.38 (0.24-0.62, p&lt;0.001)</td></tr>\n",
       "\t<tr><th scope=row>7</th><td>trt:laserxenon</td><td>Interaction</td><td>NA         </td><td>0.95 (0.49-1.83, p=0.869)</td><td>1.07 (0.54-2.11, p=0.854)</td></tr>\n",
       "</tbody>\n",
       "</table>\n"
      ],
      "text/latex": [
       "A data.frame.ff: 9 × 5\n",
       "\\begin{tabular}{r|lllll}\n",
       "  & Dependent: Surv(futime, status) &   & all & HR (univariable) & HR (multivariable)\\\\\n",
       "  & <chr> & <chr> & <chr> & <chr> & <chr>\\\\\n",
       "\\hline\n",
       "\t8 & trt            & 0           & 197 (50.0)  & -                         & -                        \\\\\n",
       "\t9 &                & 1           & 197 (50.0)  & -                         & -                        \\\\\n",
       "\t3 & laser          & argon       & 194 (49.2)  & -                         & -                        \\\\\n",
       "\t4 &                & xenon       & 200 (50.8)  & 0.85 (0.57-1.25, p=0.412) & 0.75 (0.46-1.22, p=0.247)\\\\\n",
       "\t1 & age            & Mean (SD)   & 20.8 (14.8) & 1.00 (0.99-1.01, p=0.604) & 1.01 (0.99-1.02, p=0.358)\\\\\n",
       "\t5 & risk           & Mean (SD)   & 9.7 (1.5)   & 1.16 (1.04-1.29, p=0.009) & 1.19 (1.03-1.36, p=0.014)\\\\\n",
       "\t2 & frailty(id)    &             &             & -                         & -                        \\\\\n",
       "\t6 & NA             & NA          & NA          & 0.47 (0.30-0.74, p=0.001) & 0.38 (0.24-0.62, p<0.001)\\\\\n",
       "\t7 & trt:laserxenon & Interaction & NA          & 0.95 (0.49-1.83, p=0.869) & 1.07 (0.54-2.11, p=0.854)\\\\\n",
       "\\end{tabular}\n"
      ],
      "text/markdown": [
       "\n",
       "A data.frame.ff: 9 × 5\n",
       "\n",
       "| <!--/--> | Dependent: Surv(futime, status) &lt;chr&gt; | <!----> &lt;chr&gt; | all &lt;chr&gt; | HR (univariable) &lt;chr&gt; | HR (multivariable) &lt;chr&gt; |\n",
       "|---|---|---|---|---|---|\n",
       "| 8 | trt            | 0           | 197 (50.0)  | -                         | -                         |\n",
       "| 9 | <!----> | 1           | 197 (50.0)  | -                         | -                         |\n",
       "| 3 | laser          | argon       | 194 (49.2)  | -                         | -                         |\n",
       "| 4 | <!----> | xenon       | 200 (50.8)  | 0.85 (0.57-1.25, p=0.412) | 0.75 (0.46-1.22, p=0.247) |\n",
       "| 1 | age            | Mean (SD)   | 20.8 (14.8) | 1.00 (0.99-1.01, p=0.604) | 1.01 (0.99-1.02, p=0.358) |\n",
       "| 5 | risk           | Mean (SD)   | 9.7 (1.5)   | 1.16 (1.04-1.29, p=0.009) | 1.19 (1.03-1.36, p=0.014) |\n",
       "| 2 | frailty(id)    | <!----> | <!----> | -                         | -                         |\n",
       "| 6 | NA             | NA          | NA          | 0.47 (0.30-0.74, p=0.001) | 0.38 (0.24-0.62, p&lt;0.001) |\n",
       "| 7 | trt:laserxenon | Interaction | NA          | 0.95 (0.49-1.83, p=0.869) | 1.07 (0.54-2.11, p=0.854) |\n",
       "\n"
      ],
      "text/plain": [
       "  Dependent: Surv(futime, status)             all        \n",
       "8 trt                             0           197 (50.0) \n",
       "9                                 1           197 (50.0) \n",
       "3 laser                           argon       194 (49.2) \n",
       "4                                 xenon       200 (50.8) \n",
       "1 age                             Mean (SD)   20.8 (14.8)\n",
       "5 risk                            Mean (SD)   9.7 (1.5)  \n",
       "2 frailty(id)                                            \n",
       "6 NA                              NA          NA         \n",
       "7 trt:laserxenon                  Interaction NA         \n",
       "  HR (univariable)          HR (multivariable)       \n",
       "8 -                         -                        \n",
       "9 -                         -                        \n",
       "3 -                         -                        \n",
       "4 0.85 (0.57-1.25, p=0.412) 0.75 (0.46-1.22, p=0.247)\n",
       "1 1.00 (0.99-1.01, p=0.604) 1.01 (0.99-1.02, p=0.358)\n",
       "5 1.16 (1.04-1.29, p=0.009) 1.19 (1.03-1.36, p=0.014)\n",
       "2 -                         -                        \n",
       "6 0.47 (0.30-0.74, p=0.001) 0.38 (0.24-0.62, p<0.001)\n",
       "7 0.95 (0.49-1.83, p=0.869) 1.07 (0.54-2.11, p=0.854)"
      ]
     },
     "metadata": {},
     "output_type": "display_data"
    }
   ],
   "source": [
    "finalfit(dat, \"Surv(futime, status)\", c(\"trt*laser\", \"age\", \"risk\", \"frailty(id)\"))"
   ]
  },
  {
   "cell_type": "code",
   "execution_count": 21,
   "id": "bdf76c81",
   "metadata": {},
   "outputs": [
    {
     "data": {
      "text/html": [
       "<table class=\"dataframe\">\n",
       "<caption>A data.frame.ff: 1 × 5</caption>\n",
       "<thead>\n",
       "\t<tr><th></th><th scope=col>Dependent: Surv(futime, status)</th><th scope=col> </th><th scope=col>all</th><th scope=col>HR (univariable)</th><th scope=col>HR (multivariable)</th></tr>\n",
       "\t<tr><th></th><th scope=col>&lt;chr&gt;</th><th scope=col>&lt;chr&gt;</th><th scope=col>&lt;chr&gt;</th><th scope=col>&lt;chr&gt;</th><th scope=col>&lt;chr&gt;</th></tr>\n",
       "</thead>\n",
       "<tbody>\n",
       "\t<tr><th scope=row>1</th><td>risk</td><td>Mean (SD)</td><td>9.7 (1.5)</td><td>1.16 (1.04-1.29, p=0.009)</td><td>1.16 (1.04-1.29, p=0.009)</td></tr>\n",
       "</tbody>\n",
       "</table>\n"
      ],
      "text/latex": [
       "A data.frame.ff: 1 × 5\n",
       "\\begin{tabular}{r|lllll}\n",
       "  & Dependent: Surv(futime, status) &   & all & HR (univariable) & HR (multivariable)\\\\\n",
       "  & <chr> & <chr> & <chr> & <chr> & <chr>\\\\\n",
       "\\hline\n",
       "\t1 & risk & Mean (SD) & 9.7 (1.5) & 1.16 (1.04-1.29, p=0.009) & 1.16 (1.04-1.29, p=0.009)\\\\\n",
       "\\end{tabular}\n"
      ],
      "text/markdown": [
       "\n",
       "A data.frame.ff: 1 × 5\n",
       "\n",
       "| <!--/--> | Dependent: Surv(futime, status) &lt;chr&gt; | <!----> &lt;chr&gt; | all &lt;chr&gt; | HR (univariable) &lt;chr&gt; | HR (multivariable) &lt;chr&gt; |\n",
       "|---|---|---|---|---|---|\n",
       "| 1 | risk | Mean (SD) | 9.7 (1.5) | 1.16 (1.04-1.29, p=0.009) | 1.16 (1.04-1.29, p=0.009) |\n",
       "\n"
      ],
      "text/plain": [
       "  Dependent: Surv(futime, status)           all       HR (univariable)         \n",
       "1 risk                            Mean (SD) 9.7 (1.5) 1.16 (1.04-1.29, p=0.009)\n",
       "  HR (multivariable)       \n",
       "1 1.16 (1.04-1.29, p=0.009)"
      ]
     },
     "metadata": {},
     "output_type": "display_data"
    }
   ],
   "source": [
    "finalfit(dat, \"Surv(futime, status)\", c(\"risk\"))"
   ]
  },
  {
   "cell_type": "markdown",
   "id": "06e01442",
   "metadata": {},
   "source": [
    "## Interpret coefficients of Interaction Term"
   ]
  },
  {
   "cell_type": "code",
   "execution_count": 84,
   "id": "68b8747e",
   "metadata": {
    "scrolled": false
   },
   "outputs": [
    {
     "data": {
      "text/plain": [
       "Call:\n",
       "coxph(formula = survobj ~ trt * laser + age + risk + frailty(id), \n",
       "    data = dat)\n",
       "\n",
       "  n= 394, number of events= 155 \n",
       "\n",
       "                coef      se(coef) se2      Chisq  DF   p      \n",
       "trt1            -0.954928 0.243161 0.238255  15.42  1.0 8.6e-05\n",
       "laserxenon      -0.291249 0.251438 0.204767   1.34  1.0 2.5e-01\n",
       "age              0.006777 0.007375 0.005625   0.84  1.0 3.6e-01\n",
       "risk             0.169901 0.069378 0.059500   6.00  1.0 1.4e-02\n",
       "frailty(id)                                 107.86 79.5 1.9e-02\n",
       "trt1:laserxenon  0.064234 0.348640 0.342208   0.03  1.0 8.5e-01\n",
       "\n",
       "                exp(coef) exp(-coef) lower .95 upper .95\n",
       "trt1               0.3848     2.5985    0.2389    0.6198\n",
       "laserxenon         0.7473     1.3381    0.4565    1.2233\n",
       "age                1.0068     0.9932    0.9924    1.0215\n",
       "risk               1.1852     0.8437    1.0345    1.3578\n",
       "trt1:laserxenon    1.0663     0.9378    0.5384    2.1118\n",
       "\n",
       "Iterations: 6 outer, 31 Newton-Raphson\n",
       "     Variance of random effect= 0.7990444   I-likelihood = -846.8 \n",
       "Degrees of freedom for terms=  1.0  0.7  0.6  0.7 79.5  1.0 \n",
       "Concordance= 0.838  (se = 0.016 )\n",
       "Likelihood ratio test= 202  on 83.4 df,   p=8e-12\n"
      ]
     },
     "metadata": {},
     "output_type": "display_data"
    }
   ],
   "source": [
    "summary(coxph(survobj~trt*laser + age + risk + frailty(id), data=dat))"
   ]
  },
  {
   "cell_type": "markdown",
   "id": "4ace6a5a",
   "metadata": {},
   "source": [
    "## Model without Interaction Term"
   ]
  },
  {
   "cell_type": "code",
   "execution_count": 79,
   "id": "d0a3bcac",
   "metadata": {
    "scrolled": false
   },
   "outputs": [
    {
     "data": {
      "text/plain": [
       "Call:\n",
       "coxph(formula = survobj ~ group + age + risk + frailty(id), data = dat)\n",
       "\n",
       "  n= 394, number of events= 155 \n",
       "\n",
       "            coef      se(coef) se2      Chisq  DF   p      \n",
       "group1      -0.291249 0.251438 0.204767   1.34  1.0 2.5e-01\n",
       "group2      -0.954928 0.243161 0.238255  15.42  1.0 8.6e-05\n",
       "group3      -1.181943 0.288699 0.250297  16.76  1.0 4.2e-05\n",
       "age          0.006777 0.007375 0.005625   0.84  1.0 3.6e-01\n",
       "risk         0.169901 0.069378 0.059500   6.00  1.0 1.4e-02\n",
       "frailty(id)                             107.86 79.5 1.9e-02\n",
       "\n",
       "       exp(coef) exp(-coef) lower .95 upper .95\n",
       "group1    0.7473     1.3381    0.4565    1.2233\n",
       "group2    0.3848     2.5985    0.2389    0.6198\n",
       "group3    0.3067     3.2607    0.1742    0.5400\n",
       "age       1.0068     0.9932    0.9924    1.0215\n",
       "risk      1.1852     0.8437    1.0345    1.3578\n",
       "\n",
       "Iterations: 6 outer, 31 Newton-Raphson\n",
       "     Variance of random effect= 0.7990444   I-likelihood = -846.8 \n",
       "Degrees of freedom for terms=  2.5  0.6  0.7 79.5 \n",
       "Concordance= 0.838  (se = 0.016 )\n",
       "Likelihood ratio test= 202  on 83.32 df,   p=7e-12\n"
      ]
     },
     "metadata": {},
     "output_type": "display_data"
    }
   ],
   "source": [
    "summary(coxph(survobj~group + age + risk + frailty(id), data=dat))"
   ]
  },
  {
   "cell_type": "code",
   "execution_count": 14,
   "id": "821b951d",
   "metadata": {},
   "outputs": [],
   "source": [
    "library(finalfit)\n",
    "# install.packages(\"finalfit\")"
   ]
  },
  {
   "cell_type": "code",
   "execution_count": null,
   "id": "308c1868",
   "metadata": {},
   "outputs": [],
   "source": []
  }
 ],
 "metadata": {
  "kernelspec": {
   "display_name": "R",
   "language": "R",
   "name": "ir"
  },
  "language_info": {
   "codemirror_mode": "r",
   "file_extension": ".r",
   "mimetype": "text/x-r-source",
   "name": "R",
   "pygments_lexer": "r",
   "version": "4.1.1"
  }
 },
 "nbformat": 4,
 "nbformat_minor": 5
}
