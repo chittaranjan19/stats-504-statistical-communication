{
 "cells": [
  {
   "cell_type": "markdown",
   "id": "484214c1",
   "metadata": {},
   "source": [
    "## Exploratory Analysis"
   ]
  },
  {
   "cell_type": "code",
   "execution_count": 13,
   "id": "b22a6f28",
   "metadata": {},
   "outputs": [],
   "source": [
    "import pandas as pd"
   ]
  },
  {
   "cell_type": "code",
   "execution_count": 14,
   "id": "cf9dd7d1",
   "metadata": {},
   "outputs": [],
   "source": [
    "data = pd.read_csv(\"diabeticVision.csv\", index_col=0)"
   ]
  },
  {
   "cell_type": "markdown",
   "id": "b1c98177",
   "metadata": {},
   "source": [
    "## Look at summary statistics"
   ]
  },
  {
   "cell_type": "code",
   "execution_count": 15,
   "id": "e7f6e2bf",
   "metadata": {
    "scrolled": true
   },
   "outputs": [
    {
     "data": {
      "text/html": [
       "<div>\n",
       "<style scoped>\n",
       "    .dataframe tbody tr th:only-of-type {\n",
       "        vertical-align: middle;\n",
       "    }\n",
       "\n",
       "    .dataframe tbody tr th {\n",
       "        vertical-align: top;\n",
       "    }\n",
       "\n",
       "    .dataframe thead th {\n",
       "        text-align: right;\n",
       "    }\n",
       "</style>\n",
       "<table border=\"1\" class=\"dataframe\">\n",
       "  <thead>\n",
       "    <tr style=\"text-align: right;\">\n",
       "      <th></th>\n",
       "      <th>id</th>\n",
       "      <th>age</th>\n",
       "      <th>trt</th>\n",
       "      <th>futime</th>\n",
       "      <th>status</th>\n",
       "      <th>risk</th>\n",
       "      <th>group</th>\n",
       "    </tr>\n",
       "  </thead>\n",
       "  <tbody>\n",
       "    <tr>\n",
       "      <th>count</th>\n",
       "      <td>394.000000</td>\n",
       "      <td>394.000000</td>\n",
       "      <td>394.000000</td>\n",
       "      <td>394.000000</td>\n",
       "      <td>394.000000</td>\n",
       "      <td>394.000000</td>\n",
       "      <td>394.000000</td>\n",
       "    </tr>\n",
       "    <tr>\n",
       "      <th>mean</th>\n",
       "      <td>873.203046</td>\n",
       "      <td>20.781726</td>\n",
       "      <td>0.500000</td>\n",
       "      <td>35.579289</td>\n",
       "      <td>0.393401</td>\n",
       "      <td>9.697970</td>\n",
       "      <td>1.507614</td>\n",
       "    </tr>\n",
       "    <tr>\n",
       "      <th>std</th>\n",
       "      <td>495.523410</td>\n",
       "      <td>14.812074</td>\n",
       "      <td>0.500636</td>\n",
       "      <td>21.355896</td>\n",
       "      <td>0.489126</td>\n",
       "      <td>1.475033</td>\n",
       "      <td>1.119430</td>\n",
       "    </tr>\n",
       "    <tr>\n",
       "      <th>min</th>\n",
       "      <td>5.000000</td>\n",
       "      <td>1.000000</td>\n",
       "      <td>0.000000</td>\n",
       "      <td>0.300000</td>\n",
       "      <td>0.000000</td>\n",
       "      <td>6.000000</td>\n",
       "      <td>0.000000</td>\n",
       "    </tr>\n",
       "    <tr>\n",
       "      <th>25%</th>\n",
       "      <td>480.000000</td>\n",
       "      <td>10.000000</td>\n",
       "      <td>0.000000</td>\n",
       "      <td>13.977500</td>\n",
       "      <td>0.000000</td>\n",
       "      <td>9.000000</td>\n",
       "      <td>1.000000</td>\n",
       "    </tr>\n",
       "    <tr>\n",
       "      <th>50%</th>\n",
       "      <td>834.000000</td>\n",
       "      <td>16.000000</td>\n",
       "      <td>0.500000</td>\n",
       "      <td>38.800000</td>\n",
       "      <td>0.000000</td>\n",
       "      <td>10.000000</td>\n",
       "      <td>1.500000</td>\n",
       "    </tr>\n",
       "    <tr>\n",
       "      <th>75%</th>\n",
       "      <td>1296.000000</td>\n",
       "      <td>30.000000</td>\n",
       "      <td>1.000000</td>\n",
       "      <td>54.252500</td>\n",
       "      <td>1.000000</td>\n",
       "      <td>11.000000</td>\n",
       "      <td>3.000000</td>\n",
       "    </tr>\n",
       "    <tr>\n",
       "      <th>max</th>\n",
       "      <td>1749.000000</td>\n",
       "      <td>58.000000</td>\n",
       "      <td>1.000000</td>\n",
       "      <td>74.970000</td>\n",
       "      <td>1.000000</td>\n",
       "      <td>12.000000</td>\n",
       "      <td>3.000000</td>\n",
       "    </tr>\n",
       "  </tbody>\n",
       "</table>\n",
       "</div>"
      ],
      "text/plain": [
       "                id         age         trt      futime      status  \\\n",
       "count   394.000000  394.000000  394.000000  394.000000  394.000000   \n",
       "mean    873.203046   20.781726    0.500000   35.579289    0.393401   \n",
       "std     495.523410   14.812074    0.500636   21.355896    0.489126   \n",
       "min       5.000000    1.000000    0.000000    0.300000    0.000000   \n",
       "25%     480.000000   10.000000    0.000000   13.977500    0.000000   \n",
       "50%     834.000000   16.000000    0.500000   38.800000    0.000000   \n",
       "75%    1296.000000   30.000000    1.000000   54.252500    1.000000   \n",
       "max    1749.000000   58.000000    1.000000   74.970000    1.000000   \n",
       "\n",
       "             risk       group  \n",
       "count  394.000000  394.000000  \n",
       "mean     9.697970    1.507614  \n",
       "std      1.475033    1.119430  \n",
       "min      6.000000    0.000000  \n",
       "25%      9.000000    1.000000  \n",
       "50%     10.000000    1.500000  \n",
       "75%     11.000000    3.000000  \n",
       "max     12.000000    3.000000  "
      ]
     },
     "execution_count": 15,
     "metadata": {},
     "output_type": "execute_result"
    }
   ],
   "source": [
    "data.describe()"
   ]
  },
  {
   "cell_type": "code",
   "execution_count": 26,
   "id": "7b512687",
   "metadata": {},
   "outputs": [
    {
     "data": {
      "text/plain": [
       "0    143\n",
       "1     54\n",
       "Name: status, dtype: int64"
      ]
     },
     "execution_count": 26,
     "metadata": {},
     "output_type": "execute_result"
    }
   ],
   "source": [
    "data[data[\"trt\"] == 1][\"status\"].value_counts(normalize=0)"
   ]
  },
  {
   "cell_type": "code",
   "execution_count": 25,
   "id": "babc286b",
   "metadata": {},
   "outputs": [
    {
     "data": {
      "text/plain": [
       "1    101\n",
       "0     96\n",
       "Name: status, dtype: int64"
      ]
     },
     "execution_count": 25,
     "metadata": {},
     "output_type": "execute_result"
    }
   ],
   "source": [
    "data[data[\"trt\"] == 0][\"status\"].value_counts(normalize=0)"
   ]
  },
  {
   "cell_type": "code",
   "execution_count": 20,
   "id": "6868d774",
   "metadata": {},
   "outputs": [
    {
     "data": {
      "text/plain": [
       "juvenile    228\n",
       "adult       166\n",
       "Name: type, dtype: int64"
      ]
     },
     "execution_count": 20,
     "metadata": {},
     "output_type": "execute_result"
    }
   ],
   "source": [
    "data[\"type\"].value_counts()"
   ]
  },
  {
   "cell_type": "code",
   "execution_count": 4,
   "id": "6b99f4e1",
   "metadata": {},
   "outputs": [
    {
     "data": {
      "text/plain": [
       "id        0\n",
       "laser     0\n",
       "eye       0\n",
       "age       0\n",
       "type      0\n",
       "trt       0\n",
       "futime    0\n",
       "status    0\n",
       "risk      0\n",
       "group     0\n",
       "dtype: int64"
      ]
     },
     "execution_count": 4,
     "metadata": {},
     "output_type": "execute_result"
    }
   ],
   "source": [
    "data.isna().sum()"
   ]
  },
  {
   "cell_type": "code",
   "execution_count": 6,
   "id": "43d87fd0",
   "metadata": {},
   "outputs": [
    {
     "data": {
      "text/plain": [
       "trt  status\n",
       "0    0         46.321771\n",
       "     1         18.948515\n",
       "1    0         46.668112\n",
       "     1         18.222407\n",
       "Name: futime, dtype: float64"
      ]
     },
     "execution_count": 6,
     "metadata": {},
     "output_type": "execute_result"
    }
   ],
   "source": [
    "data.groupby([\"trt\", \"status\"])[\"futime\"].mean()"
   ]
  },
  {
   "cell_type": "code",
   "execution_count": 5,
   "id": "d0bf8521",
   "metadata": {},
   "outputs": [
    {
     "data": {
      "text/plain": [
       "trt  status  laser\n",
       "0    0       argon    43.247234\n",
       "             xenon    49.270816\n",
       "     1       argon    16.125000\n",
       "             xenon    21.716667\n",
       "1    0       argon    45.927500\n",
       "             xenon    47.339600\n",
       "     1       argon    20.004828\n",
       "             xenon    16.154800\n",
       "Name: futime, dtype: float64"
      ]
     },
     "execution_count": 5,
     "metadata": {},
     "output_type": "execute_result"
    }
   ],
   "source": [
    "data.groupby([\"trt\", \"status\", \"laser\"])[\"futime\"].mean()"
   ]
  },
  {
   "cell_type": "code",
   "execution_count": 48,
   "id": "429e55b1",
   "metadata": {
    "scrolled": false
   },
   "outputs": [
    {
     "data": {
      "text/plain": [
       "id    trt\n",
       "5     0      46.23\n",
       "      1      46.23\n",
       "14    1      42.50\n",
       "16    0      42.27\n",
       "      1      42.27\n",
       "             ...  \n",
       "1717  1      51.60\n",
       "1727  1      49.97\n",
       "1746  1      45.90\n",
       "1749  0      41.93\n",
       "      1      41.93\n",
       "Name: 0, Length: 239, dtype: float64"
      ]
     },
     "execution_count": 48,
     "metadata": {},
     "output_type": "execute_result"
    }
   ],
   "source": [
    "data.pivot(index=[\"id\", \"trt\"], columns=[\"status\"])[\"futime\"][0].dropna()"
   ]
  },
  {
   "cell_type": "markdown",
   "id": "4b76a2ce",
   "metadata": {},
   "source": [
    "## Look at various sub-groups"
   ]
  },
  {
   "cell_type": "code",
   "execution_count": 31,
   "id": "80d1e814",
   "metadata": {},
   "outputs": [],
   "source": [
    "treat = data[data[\"trt\"] == 1]\n",
    "ctrl = data[data[\"trt\"] == 0]\n",
    "treat1 = treat[treat[\"laser\"] == \"argon\"]\n",
    "treat2 = treat[treat[\"laser\"] == \"xenon\"]"
   ]
  },
  {
   "cell_type": "code",
   "execution_count": null,
   "id": "d1f66e28",
   "metadata": {},
   "outputs": [],
   "source": [
    "treat[treat[\"status\"] == 1]"
   ]
  },
  {
   "cell_type": "code",
   "execution_count": 15,
   "id": "b16c93d8",
   "metadata": {},
   "outputs": [
    {
     "data": {
      "text/plain": [
       "array(['leftleft', 'rightright'], dtype=object)"
      ]
     },
     "execution_count": 15,
     "metadata": {},
     "output_type": "execute_result"
    }
   ],
   "source": [
    "data.groupby(\"id\")[\"eye\"].sum().unique()"
   ]
  },
  {
   "cell_type": "code",
   "execution_count": 17,
   "id": "89d9cb27",
   "metadata": {},
   "outputs": [
    {
     "data": {
      "text/html": [
       "<div>\n",
       "<style scoped>\n",
       "    .dataframe tbody tr th:only-of-type {\n",
       "        vertical-align: middle;\n",
       "    }\n",
       "\n",
       "    .dataframe tbody tr th {\n",
       "        vertical-align: top;\n",
       "    }\n",
       "\n",
       "    .dataframe thead th {\n",
       "        text-align: right;\n",
       "    }\n",
       "</style>\n",
       "<table border=\"1\" class=\"dataframe\">\n",
       "  <thead>\n",
       "    <tr style=\"text-align: right;\">\n",
       "      <th></th>\n",
       "      <th>id</th>\n",
       "      <th>laser</th>\n",
       "      <th>eye</th>\n",
       "      <th>age</th>\n",
       "      <th>type</th>\n",
       "      <th>trt</th>\n",
       "      <th>futime</th>\n",
       "      <th>status</th>\n",
       "      <th>risk</th>\n",
       "    </tr>\n",
       "  </thead>\n",
       "  <tbody>\n",
       "    <tr>\n",
       "      <th>1</th>\n",
       "      <td>5</td>\n",
       "      <td>argon</td>\n",
       "      <td>left</td>\n",
       "      <td>28</td>\n",
       "      <td>adult</td>\n",
       "      <td>1</td>\n",
       "      <td>46.23</td>\n",
       "      <td>0</td>\n",
       "      <td>9</td>\n",
       "    </tr>\n",
       "    <tr>\n",
       "      <th>2</th>\n",
       "      <td>5</td>\n",
       "      <td>argon</td>\n",
       "      <td>left</td>\n",
       "      <td>28</td>\n",
       "      <td>adult</td>\n",
       "      <td>0</td>\n",
       "      <td>46.23</td>\n",
       "      <td>0</td>\n",
       "      <td>9</td>\n",
       "    </tr>\n",
       "    <tr>\n",
       "      <th>195</th>\n",
       "      <td>832</td>\n",
       "      <td>argon</td>\n",
       "      <td>right</td>\n",
       "      <td>5</td>\n",
       "      <td>juvenile</td>\n",
       "      <td>1</td>\n",
       "      <td>46.23</td>\n",
       "      <td>0</td>\n",
       "      <td>12</td>\n",
       "    </tr>\n",
       "    <tr>\n",
       "      <th>196</th>\n",
       "      <td>832</td>\n",
       "      <td>argon</td>\n",
       "      <td>right</td>\n",
       "      <td>5</td>\n",
       "      <td>juvenile</td>\n",
       "      <td>0</td>\n",
       "      <td>46.23</td>\n",
       "      <td>0</td>\n",
       "      <td>12</td>\n",
       "    </tr>\n",
       "  </tbody>\n",
       "</table>\n",
       "</div>"
      ],
      "text/plain": [
       "      id  laser    eye  age      type  trt  futime  status  risk\n",
       "1      5  argon   left   28     adult    1   46.23       0     9\n",
       "2      5  argon   left   28     adult    0   46.23       0     9\n",
       "195  832  argon  right    5  juvenile    1   46.23       0    12\n",
       "196  832  argon  right    5  juvenile    0   46.23       0    12"
      ]
     },
     "execution_count": 17,
     "metadata": {},
     "output_type": "execute_result"
    }
   ],
   "source": [
    "data[data[\"futime\"] == 46.23]"
   ]
  },
  {
   "cell_type": "code",
   "execution_count": 24,
   "id": "30b778cd",
   "metadata": {},
   "outputs": [
    {
     "data": {
      "text/html": [
       "<div>\n",
       "<style scoped>\n",
       "    .dataframe tbody tr th:only-of-type {\n",
       "        vertical-align: middle;\n",
       "    }\n",
       "\n",
       "    .dataframe tbody tr th {\n",
       "        vertical-align: top;\n",
       "    }\n",
       "\n",
       "    .dataframe thead th {\n",
       "        text-align: right;\n",
       "    }\n",
       "</style>\n",
       "<table border=\"1\" class=\"dataframe\">\n",
       "  <thead>\n",
       "    <tr style=\"text-align: right;\">\n",
       "      <th></th>\n",
       "      <th>id</th>\n",
       "      <th>age</th>\n",
       "      <th>trt</th>\n",
       "      <th>futime</th>\n",
       "      <th>status</th>\n",
       "      <th>risk</th>\n",
       "    </tr>\n",
       "  </thead>\n",
       "  <tbody>\n",
       "    <tr>\n",
       "      <th>count</th>\n",
       "      <td>101.000000</td>\n",
       "      <td>101.000000</td>\n",
       "      <td>101.0</td>\n",
       "      <td>101.000000</td>\n",
       "      <td>101.0</td>\n",
       "      <td>101.000000</td>\n",
       "    </tr>\n",
       "    <tr>\n",
       "      <th>mean</th>\n",
       "      <td>801.207921</td>\n",
       "      <td>23.079208</td>\n",
       "      <td>0.0</td>\n",
       "      <td>18.948515</td>\n",
       "      <td>1.0</td>\n",
       "      <td>9.970297</td>\n",
       "    </tr>\n",
       "    <tr>\n",
       "      <th>std</th>\n",
       "      <td>481.609869</td>\n",
       "      <td>15.532342</td>\n",
       "      <td>0.0</td>\n",
       "      <td>15.735833</td>\n",
       "      <td>0.0</td>\n",
       "      <td>1.465984</td>\n",
       "    </tr>\n",
       "    <tr>\n",
       "      <th>min</th>\n",
       "      <td>14.000000</td>\n",
       "      <td>1.000000</td>\n",
       "      <td>0.0</td>\n",
       "      <td>0.300000</td>\n",
       "      <td>1.0</td>\n",
       "      <td>6.000000</td>\n",
       "    </tr>\n",
       "    <tr>\n",
       "      <th>25%</th>\n",
       "      <td>409.000000</td>\n",
       "      <td>11.000000</td>\n",
       "      <td>0.0</td>\n",
       "      <td>6.530000</td>\n",
       "      <td>1.0</td>\n",
       "      <td>9.000000</td>\n",
       "    </tr>\n",
       "    <tr>\n",
       "      <th>50%</th>\n",
       "      <td>722.000000</td>\n",
       "      <td>19.000000</td>\n",
       "      <td>0.0</td>\n",
       "      <td>13.900000</td>\n",
       "      <td>1.0</td>\n",
       "      <td>10.000000</td>\n",
       "    </tr>\n",
       "    <tr>\n",
       "      <th>75%</th>\n",
       "      <td>1205.000000</td>\n",
       "      <td>37.000000</td>\n",
       "      <td>0.0</td>\n",
       "      <td>26.470000</td>\n",
       "      <td>1.0</td>\n",
       "      <td>11.000000</td>\n",
       "    </tr>\n",
       "    <tr>\n",
       "      <th>max</th>\n",
       "      <td>1746.000000</td>\n",
       "      <td>56.000000</td>\n",
       "      <td>0.0</td>\n",
       "      <td>61.830000</td>\n",
       "      <td>1.0</td>\n",
       "      <td>12.000000</td>\n",
       "    </tr>\n",
       "  </tbody>\n",
       "</table>\n",
       "</div>"
      ],
      "text/plain": [
       "                id         age    trt      futime  status        risk\n",
       "count   101.000000  101.000000  101.0  101.000000   101.0  101.000000\n",
       "mean    801.207921   23.079208    0.0   18.948515     1.0    9.970297\n",
       "std     481.609869   15.532342    0.0   15.735833     0.0    1.465984\n",
       "min      14.000000    1.000000    0.0    0.300000     1.0    6.000000\n",
       "25%     409.000000   11.000000    0.0    6.530000     1.0    9.000000\n",
       "50%     722.000000   19.000000    0.0   13.900000     1.0   10.000000\n",
       "75%    1205.000000   37.000000    0.0   26.470000     1.0   11.000000\n",
       "max    1746.000000   56.000000    0.0   61.830000     1.0   12.000000"
      ]
     },
     "execution_count": 24,
     "metadata": {},
     "output_type": "execute_result"
    }
   ],
   "source": [
    "ctrl.describe()"
   ]
  },
  {
   "cell_type": "code",
   "execution_count": 25,
   "id": "e3a1081e",
   "metadata": {},
   "outputs": [
    {
     "data": {
      "text/html": [
       "<div>\n",
       "<style scoped>\n",
       "    .dataframe tbody tr th:only-of-type {\n",
       "        vertical-align: middle;\n",
       "    }\n",
       "\n",
       "    .dataframe tbody tr th {\n",
       "        vertical-align: top;\n",
       "    }\n",
       "\n",
       "    .dataframe thead th {\n",
       "        text-align: right;\n",
       "    }\n",
       "</style>\n",
       "<table border=\"1\" class=\"dataframe\">\n",
       "  <thead>\n",
       "    <tr style=\"text-align: right;\">\n",
       "      <th></th>\n",
       "      <th>id</th>\n",
       "      <th>age</th>\n",
       "      <th>trt</th>\n",
       "      <th>futime</th>\n",
       "      <th>status</th>\n",
       "      <th>risk</th>\n",
       "    </tr>\n",
       "  </thead>\n",
       "  <tbody>\n",
       "    <tr>\n",
       "      <th>count</th>\n",
       "      <td>29.000000</td>\n",
       "      <td>29.000000</td>\n",
       "      <td>29.0</td>\n",
       "      <td>29.000000</td>\n",
       "      <td>29.0</td>\n",
       "      <td>29.000000</td>\n",
       "    </tr>\n",
       "    <tr>\n",
       "      <th>mean</th>\n",
       "      <td>822.344828</td>\n",
       "      <td>18.206897</td>\n",
       "      <td>1.0</td>\n",
       "      <td>20.004828</td>\n",
       "      <td>1.0</td>\n",
       "      <td>9.931034</td>\n",
       "    </tr>\n",
       "    <tr>\n",
       "      <th>std</th>\n",
       "      <td>497.132368</td>\n",
       "      <td>14.639426</td>\n",
       "      <td>0.0</td>\n",
       "      <td>17.418952</td>\n",
       "      <td>0.0</td>\n",
       "      <td>1.251600</td>\n",
       "    </tr>\n",
       "    <tr>\n",
       "      <th>min</th>\n",
       "      <td>100.000000</td>\n",
       "      <td>1.000000</td>\n",
       "      <td>1.0</td>\n",
       "      <td>1.500000</td>\n",
       "      <td>1.0</td>\n",
       "      <td>6.000000</td>\n",
       "    </tr>\n",
       "    <tr>\n",
       "      <th>25%</th>\n",
       "      <td>357.000000</td>\n",
       "      <td>9.000000</td>\n",
       "      <td>1.0</td>\n",
       "      <td>5.770000</td>\n",
       "      <td>1.0</td>\n",
       "      <td>9.000000</td>\n",
       "    </tr>\n",
       "    <tr>\n",
       "      <th>50%</th>\n",
       "      <td>866.000000</td>\n",
       "      <td>13.000000</td>\n",
       "      <td>1.0</td>\n",
       "      <td>13.330000</td>\n",
       "      <td>1.0</td>\n",
       "      <td>10.000000</td>\n",
       "    </tr>\n",
       "    <tr>\n",
       "      <th>75%</th>\n",
       "      <td>1184.000000</td>\n",
       "      <td>23.000000</td>\n",
       "      <td>1.0</td>\n",
       "      <td>34.370000</td>\n",
       "      <td>1.0</td>\n",
       "      <td>10.000000</td>\n",
       "    </tr>\n",
       "    <tr>\n",
       "      <th>max</th>\n",
       "      <td>1649.000000</td>\n",
       "      <td>53.000000</td>\n",
       "      <td>1.0</td>\n",
       "      <td>63.330000</td>\n",
       "      <td>1.0</td>\n",
       "      <td>12.000000</td>\n",
       "    </tr>\n",
       "  </tbody>\n",
       "</table>\n",
       "</div>"
      ],
      "text/plain": [
       "                id        age   trt     futime  status       risk\n",
       "count    29.000000  29.000000  29.0  29.000000    29.0  29.000000\n",
       "mean    822.344828  18.206897   1.0  20.004828     1.0   9.931034\n",
       "std     497.132368  14.639426   0.0  17.418952     0.0   1.251600\n",
       "min     100.000000   1.000000   1.0   1.500000     1.0   6.000000\n",
       "25%     357.000000   9.000000   1.0   5.770000     1.0   9.000000\n",
       "50%     866.000000  13.000000   1.0  13.330000     1.0  10.000000\n",
       "75%    1184.000000  23.000000   1.0  34.370000     1.0  10.000000\n",
       "max    1649.000000  53.000000   1.0  63.330000     1.0  12.000000"
      ]
     },
     "execution_count": 25,
     "metadata": {},
     "output_type": "execute_result"
    }
   ],
   "source": [
    "treat1.describe()"
   ]
  },
  {
   "cell_type": "code",
   "execution_count": 26,
   "id": "7713c0c9",
   "metadata": {},
   "outputs": [
    {
     "data": {
      "text/html": [
       "<div>\n",
       "<style scoped>\n",
       "    .dataframe tbody tr th:only-of-type {\n",
       "        vertical-align: middle;\n",
       "    }\n",
       "\n",
       "    .dataframe tbody tr th {\n",
       "        vertical-align: top;\n",
       "    }\n",
       "\n",
       "    .dataframe thead th {\n",
       "        text-align: right;\n",
       "    }\n",
       "</style>\n",
       "<table border=\"1\" class=\"dataframe\">\n",
       "  <thead>\n",
       "    <tr style=\"text-align: right;\">\n",
       "      <th></th>\n",
       "      <th>id</th>\n",
       "      <th>age</th>\n",
       "      <th>trt</th>\n",
       "      <th>futime</th>\n",
       "      <th>status</th>\n",
       "      <th>risk</th>\n",
       "    </tr>\n",
       "  </thead>\n",
       "  <tbody>\n",
       "    <tr>\n",
       "      <th>count</th>\n",
       "      <td>25.000000</td>\n",
       "      <td>25.000000</td>\n",
       "      <td>25.0</td>\n",
       "      <td>25.000000</td>\n",
       "      <td>25.0</td>\n",
       "      <td>25.000000</td>\n",
       "    </tr>\n",
       "    <tr>\n",
       "      <th>mean</th>\n",
       "      <td>812.560000</td>\n",
       "      <td>18.600000</td>\n",
       "      <td>1.0</td>\n",
       "      <td>16.154800</td>\n",
       "      <td>1.0</td>\n",
       "      <td>9.720000</td>\n",
       "    </tr>\n",
       "    <tr>\n",
       "      <th>std</th>\n",
       "      <td>438.838531</td>\n",
       "      <td>13.044795</td>\n",
       "      <td>0.0</td>\n",
       "      <td>10.425035</td>\n",
       "      <td>0.0</td>\n",
       "      <td>1.369915</td>\n",
       "    </tr>\n",
       "    <tr>\n",
       "      <th>min</th>\n",
       "      <td>127.000000</td>\n",
       "      <td>3.000000</td>\n",
       "      <td>1.0</td>\n",
       "      <td>1.770000</td>\n",
       "      <td>1.0</td>\n",
       "      <td>6.000000</td>\n",
       "    </tr>\n",
       "    <tr>\n",
       "      <th>25%</th>\n",
       "      <td>503.000000</td>\n",
       "      <td>10.000000</td>\n",
       "      <td>1.0</td>\n",
       "      <td>7.070000</td>\n",
       "      <td>1.0</td>\n",
       "      <td>9.000000</td>\n",
       "    </tr>\n",
       "    <tr>\n",
       "      <th>50%</th>\n",
       "      <td>778.000000</td>\n",
       "      <td>13.000000</td>\n",
       "      <td>1.0</td>\n",
       "      <td>13.830000</td>\n",
       "      <td>1.0</td>\n",
       "      <td>10.000000</td>\n",
       "    </tr>\n",
       "    <tr>\n",
       "      <th>75%</th>\n",
       "      <td>1017.000000</td>\n",
       "      <td>25.000000</td>\n",
       "      <td>1.0</td>\n",
       "      <td>25.630000</td>\n",
       "      <td>1.0</td>\n",
       "      <td>11.000000</td>\n",
       "    </tr>\n",
       "    <tr>\n",
       "      <th>max</th>\n",
       "      <td>1688.000000</td>\n",
       "      <td>50.000000</td>\n",
       "      <td>1.0</td>\n",
       "      <td>42.430000</td>\n",
       "      <td>1.0</td>\n",
       "      <td>12.000000</td>\n",
       "    </tr>\n",
       "  </tbody>\n",
       "</table>\n",
       "</div>"
      ],
      "text/plain": [
       "                id        age   trt     futime  status       risk\n",
       "count    25.000000  25.000000  25.0  25.000000    25.0  25.000000\n",
       "mean    812.560000  18.600000   1.0  16.154800     1.0   9.720000\n",
       "std     438.838531  13.044795   0.0  10.425035     0.0   1.369915\n",
       "min     127.000000   3.000000   1.0   1.770000     1.0   6.000000\n",
       "25%     503.000000  10.000000   1.0   7.070000     1.0   9.000000\n",
       "50%     778.000000  13.000000   1.0  13.830000     1.0  10.000000\n",
       "75%    1017.000000  25.000000   1.0  25.630000     1.0  11.000000\n",
       "max    1688.000000  50.000000   1.0  42.430000     1.0  12.000000"
      ]
     },
     "execution_count": 26,
     "metadata": {},
     "output_type": "execute_result"
    }
   ],
   "source": [
    "treat2.describe()"
   ]
  },
  {
   "cell_type": "code",
   "execution_count": 10,
   "id": "c1f547a7",
   "metadata": {},
   "outputs": [],
   "source": [
    "def assign_group(row):\n",
    "    if row[\"trt\"] == 0:\n",
    "        if row[\"laser\"] == \"argon\":\n",
    "            return 0\n",
    "        return 1\n",
    "    elif row[\"trt\"] == 1:\n",
    "        if row[\"laser\"] == \"argon\":\n",
    "            return 2\n",
    "        return 3    "
   ]
  },
  {
   "cell_type": "markdown",
   "id": "4c2d9ae8",
   "metadata": {},
   "source": [
    "## Identify and label Laser and Treatment as an interaction term"
   ]
  },
  {
   "cell_type": "code",
   "execution_count": 11,
   "id": "5ed8081b",
   "metadata": {},
   "outputs": [
    {
     "data": {
      "text/html": [
       "<div>\n",
       "<style scoped>\n",
       "    .dataframe tbody tr th:only-of-type {\n",
       "        vertical-align: middle;\n",
       "    }\n",
       "\n",
       "    .dataframe tbody tr th {\n",
       "        vertical-align: top;\n",
       "    }\n",
       "\n",
       "    .dataframe thead th {\n",
       "        text-align: right;\n",
       "    }\n",
       "</style>\n",
       "<table border=\"1\" class=\"dataframe\">\n",
       "  <thead>\n",
       "    <tr style=\"text-align: right;\">\n",
       "      <th></th>\n",
       "      <th>id</th>\n",
       "      <th>laser</th>\n",
       "      <th>eye</th>\n",
       "      <th>age</th>\n",
       "      <th>type</th>\n",
       "      <th>trt</th>\n",
       "      <th>futime</th>\n",
       "      <th>status</th>\n",
       "      <th>risk</th>\n",
       "      <th>group</th>\n",
       "    </tr>\n",
       "  </thead>\n",
       "  <tbody>\n",
       "    <tr>\n",
       "      <th>1</th>\n",
       "      <td>5</td>\n",
       "      <td>argon</td>\n",
       "      <td>left</td>\n",
       "      <td>28</td>\n",
       "      <td>adult</td>\n",
       "      <td>1</td>\n",
       "      <td>46.23</td>\n",
       "      <td>0</td>\n",
       "      <td>9</td>\n",
       "      <td>2</td>\n",
       "    </tr>\n",
       "    <tr>\n",
       "      <th>2</th>\n",
       "      <td>5</td>\n",
       "      <td>argon</td>\n",
       "      <td>left</td>\n",
       "      <td>28</td>\n",
       "      <td>adult</td>\n",
       "      <td>0</td>\n",
       "      <td>46.23</td>\n",
       "      <td>0</td>\n",
       "      <td>9</td>\n",
       "      <td>0</td>\n",
       "    </tr>\n",
       "    <tr>\n",
       "      <th>3</th>\n",
       "      <td>14</td>\n",
       "      <td>argon</td>\n",
       "      <td>right</td>\n",
       "      <td>12</td>\n",
       "      <td>juvenile</td>\n",
       "      <td>1</td>\n",
       "      <td>42.50</td>\n",
       "      <td>0</td>\n",
       "      <td>8</td>\n",
       "      <td>2</td>\n",
       "    </tr>\n",
       "    <tr>\n",
       "      <th>4</th>\n",
       "      <td>14</td>\n",
       "      <td>argon</td>\n",
       "      <td>right</td>\n",
       "      <td>12</td>\n",
       "      <td>juvenile</td>\n",
       "      <td>0</td>\n",
       "      <td>31.30</td>\n",
       "      <td>1</td>\n",
       "      <td>6</td>\n",
       "      <td>0</td>\n",
       "    </tr>\n",
       "    <tr>\n",
       "      <th>5</th>\n",
       "      <td>16</td>\n",
       "      <td>xenon</td>\n",
       "      <td>right</td>\n",
       "      <td>9</td>\n",
       "      <td>juvenile</td>\n",
       "      <td>1</td>\n",
       "      <td>42.27</td>\n",
       "      <td>0</td>\n",
       "      <td>11</td>\n",
       "      <td>3</td>\n",
       "    </tr>\n",
       "    <tr>\n",
       "      <th>...</th>\n",
       "      <td>...</td>\n",
       "      <td>...</td>\n",
       "      <td>...</td>\n",
       "      <td>...</td>\n",
       "      <td>...</td>\n",
       "      <td>...</td>\n",
       "      <td>...</td>\n",
       "      <td>...</td>\n",
       "      <td>...</td>\n",
       "      <td>...</td>\n",
       "    </tr>\n",
       "    <tr>\n",
       "      <th>390</th>\n",
       "      <td>1727</td>\n",
       "      <td>argon</td>\n",
       "      <td>right</td>\n",
       "      <td>33</td>\n",
       "      <td>adult</td>\n",
       "      <td>0</td>\n",
       "      <td>2.90</td>\n",
       "      <td>1</td>\n",
       "      <td>10</td>\n",
       "      <td>0</td>\n",
       "    </tr>\n",
       "    <tr>\n",
       "      <th>391</th>\n",
       "      <td>1746</td>\n",
       "      <td>argon</td>\n",
       "      <td>right</td>\n",
       "      <td>3</td>\n",
       "      <td>juvenile</td>\n",
       "      <td>1</td>\n",
       "      <td>45.90</td>\n",
       "      <td>0</td>\n",
       "      <td>10</td>\n",
       "      <td>2</td>\n",
       "    </tr>\n",
       "    <tr>\n",
       "      <th>392</th>\n",
       "      <td>1746</td>\n",
       "      <td>argon</td>\n",
       "      <td>right</td>\n",
       "      <td>3</td>\n",
       "      <td>juvenile</td>\n",
       "      <td>0</td>\n",
       "      <td>1.43</td>\n",
       "      <td>1</td>\n",
       "      <td>10</td>\n",
       "      <td>0</td>\n",
       "    </tr>\n",
       "    <tr>\n",
       "      <th>393</th>\n",
       "      <td>1749</td>\n",
       "      <td>argon</td>\n",
       "      <td>right</td>\n",
       "      <td>32</td>\n",
       "      <td>adult</td>\n",
       "      <td>1</td>\n",
       "      <td>41.93</td>\n",
       "      <td>0</td>\n",
       "      <td>9</td>\n",
       "      <td>2</td>\n",
       "    </tr>\n",
       "    <tr>\n",
       "      <th>394</th>\n",
       "      <td>1749</td>\n",
       "      <td>argon</td>\n",
       "      <td>right</td>\n",
       "      <td>32</td>\n",
       "      <td>adult</td>\n",
       "      <td>0</td>\n",
       "      <td>41.93</td>\n",
       "      <td>0</td>\n",
       "      <td>9</td>\n",
       "      <td>0</td>\n",
       "    </tr>\n",
       "  </tbody>\n",
       "</table>\n",
       "<p>394 rows × 10 columns</p>\n",
       "</div>"
      ],
      "text/plain": [
       "       id  laser    eye  age      type  trt  futime  status  risk group\n",
       "1       5  argon   left   28     adult    1   46.23       0     9     2\n",
       "2       5  argon   left   28     adult    0   46.23       0     9     0\n",
       "3      14  argon  right   12  juvenile    1   42.50       0     8     2\n",
       "4      14  argon  right   12  juvenile    0   31.30       1     6     0\n",
       "5      16  xenon  right    9  juvenile    1   42.27       0    11     3\n",
       "..    ...    ...    ...  ...       ...  ...     ...     ...   ...   ...\n",
       "390  1727  argon  right   33     adult    0    2.90       1    10     0\n",
       "391  1746  argon  right    3  juvenile    1   45.90       0    10     2\n",
       "392  1746  argon  right    3  juvenile    0    1.43       1    10     0\n",
       "393  1749  argon  right   32     adult    1   41.93       0     9     2\n",
       "394  1749  argon  right   32     adult    0   41.93       0     9     0\n",
       "\n",
       "[394 rows x 10 columns]"
      ]
     },
     "execution_count": 11,
     "metadata": {},
     "output_type": "execute_result"
    }
   ],
   "source": [
    "data[\"group\"] = data[[\"laser\", \"trt\"]].apply(assign_group, axis=1).astype(\"category\")\n",
    "data"
   ]
  },
  {
   "cell_type": "code",
   "execution_count": 24,
   "id": "cab18e01",
   "metadata": {},
   "outputs": [
    {
     "data": {
      "text/plain": [
       "count     394\n",
       "unique      3\n",
       "top         2\n",
       "freq      197\n",
       "Name: group, dtype: int64"
      ]
     },
     "execution_count": 24,
     "metadata": {},
     "output_type": "execute_result"
    }
   ],
   "source": [
    "data[\"group\"].describe()"
   ]
  },
  {
   "cell_type": "code",
   "execution_count": 12,
   "id": "9ed79dff",
   "metadata": {},
   "outputs": [],
   "source": [
    "data.to_csv(\"diabeticVision.csv\")"
   ]
  },
  {
   "cell_type": "code",
   "execution_count": null,
   "id": "300093c6",
   "metadata": {},
   "outputs": [],
   "source": []
  }
 ],
 "metadata": {
  "kernelspec": {
   "display_name": "Python 3.8.8 64-bit ('base': conda)",
   "language": "python",
   "name": "python388jvsc74a57bd040d3a090f54c6569ab1632332b64b2c03c39dcf918b08424e98f38b5ae0af88f"
  },
  "language_info": {
   "codemirror_mode": {
    "name": "ipython",
    "version": 3
   },
   "file_extension": ".py",
   "mimetype": "text/x-python",
   "name": "python",
   "nbconvert_exporter": "python",
   "pygments_lexer": "ipython3",
   "version": "3.8.8"
  }
 },
 "nbformat": 4,
 "nbformat_minor": 5
}
